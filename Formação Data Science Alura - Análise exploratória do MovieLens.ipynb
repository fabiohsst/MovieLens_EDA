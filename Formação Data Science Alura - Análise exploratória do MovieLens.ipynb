{
 "cells": [
  {
   "cell_type": "markdown",
   "metadata": {},
   "source": [
    
   ]
  },
  {
   "cell_type": "markdown",
   "metadata": {},
   "source": [
    "# Fábio Henrique S. S. Tavares"
   ]
  },
  {
   "cell_type": "markdown",
   "metadata": {},
   "source": [
    "## Formação Data Science Alura - Análise exploratória do MovieLens\n",
    "\n",
    "Na formação de Data Scienda www.alura.com.br um dos conjuntos de dados que utilizamos é o de avaliações para filmes no site MovieLens. Neste projeto faremos uma análise exploratória desses dados."
   ]
  },
  {
   "cell_type": "markdown",
   "metadata": {},
   "source": [
    "### Dicas para o projeto completo:\n",
    "\n",
    "- todo gráfico deve ter um título, labels e legendas que fazem sentido\n",
    "- configure um tamanho adequado para os gráficos\n",
    "- utilize as versões dos arquivos de dados disponíveis no github"
   ]
  },
  {
   "cell_type": "markdown",
   "metadata": {},
   "source": [
    "## Pergunta: conferindo as versões utilizadas\n",
    "\n",
    "- Devemos usar pandas 0.24.0 ou mais recente\n",
    "- Devemos usar seaborn 0.9.0 ou mais recente\n",
    "- Devemos usar scipy 1.2.0 ou mais recente"
   ]
  },
  {
   "cell_type": "code",
   "execution_count": 385,
   "metadata": {},
   "outputs": [],
   "source": [
    "!pip install pandas==\"0.24.0\" --quiet\n",
    "!pip install seaborn==\"0.9.0\" --quiet\n",
    "!pip install scipy==\"1.2.0\" --quiet"
   ]
  },
  {
   "cell_type": "code",
   "execution_count": 386,
   "metadata": {},
   "outputs": [
    {
     "name": "stdout",
     "output_type": "stream",
     "text": [
      "Usando pandas 0.24.0\n",
      "Usando seaborn 0.9.0\n",
      "Usando scipy 1.2.0\n"
     ]
    }
   ],
   "source": [
    "import pandas as pd\n",
    "import seaborn as sns\n",
    "import scipy\n",
    "\n",
    "print(\"Usando pandas %s\" % pd.__version__)\n",
    "print(\"Usando seaborn %s\" % sns.__version__)\n",
    "print(\"Usando scipy %s\" % scipy.__version__)"
   ]
  },
  {
   "cell_type": "markdown",
   "metadata": {},
   "source": [
    "## Pergunta: carregue os filmes\n",
    "\n",
    "- os dados `https://raw.githubusercontent.com/alura-cursos/formacao-data-science/master/movies.csv` devem ser carregado em `filmes`\n",
    "- renomeie as colunas para `filmeId`, `titulo` e `generos`\n",
    "- configure o indice (`index`) para ser o `filmeId`"
   ]
  },
  {
   "cell_type": "code",
   "execution_count": 387,
   "metadata": {},
   "outputs": [],
   "source": [
    "# solução\n",
    "## importando arquivo\n",
    "filmes = pd.read_csv('movies.csv')"
   ]
  },
  {
   "cell_type": "code",
   "execution_count": 388,
   "metadata": {},
   "outputs": [],
   "source": [
    "# renomeando colunas\n",
    "filmes.columns = ['filmeId','titulo', 'generos']"
   ]
  },
  {
   "cell_type": "code",
   "execution_count": 389,
   "metadata": {},
   "outputs": [],
   "source": [
    "# configurando o indice\n",
    "filmes = filmes.set_index('filmeId')"
   ]
  },
  {
   "cell_type": "code",
   "execution_count": 390,
   "metadata": {},
   "outputs": [
    {
     "data": {
      "text/html": [
       "<div>\n",
       "<style scoped>\n",
       "    .dataframe tbody tr th:only-of-type {\n",
       "        vertical-align: middle;\n",
       "    }\n",
       "\n",
       "    .dataframe tbody tr th {\n",
       "        vertical-align: top;\n",
       "    }\n",
       "\n",
       "    .dataframe thead th {\n",
       "        text-align: right;\n",
       "    }\n",
       "</style>\n",
       "<table border=\"1\" class=\"dataframe\">\n",
       "  <thead>\n",
       "    <tr style=\"text-align: right;\">\n",
       "      <th></th>\n",
       "      <th>titulo</th>\n",
       "      <th>generos</th>\n",
       "    </tr>\n",
       "    <tr>\n",
       "      <th>filmeId</th>\n",
       "      <th></th>\n",
       "      <th></th>\n",
       "    </tr>\n",
       "  </thead>\n",
       "  <tbody>\n",
       "    <tr>\n",
       "      <th>1</th>\n",
       "      <td>Toy Story (1995)</td>\n",
       "      <td>Adventure|Animation|Children|Comedy|Fantasy</td>\n",
       "    </tr>\n",
       "    <tr>\n",
       "      <th>2</th>\n",
       "      <td>Jumanji (1995)</td>\n",
       "      <td>Adventure|Children|Fantasy</td>\n",
       "    </tr>\n",
       "    <tr>\n",
       "      <th>3</th>\n",
       "      <td>Grumpier Old Men (1995)</td>\n",
       "      <td>Comedy|Romance</td>\n",
       "    </tr>\n",
       "    <tr>\n",
       "      <th>4</th>\n",
       "      <td>Waiting to Exhale (1995)</td>\n",
       "      <td>Comedy|Drama|Romance</td>\n",
       "    </tr>\n",
       "    <tr>\n",
       "      <th>5</th>\n",
       "      <td>Father of the Bride Part II (1995)</td>\n",
       "      <td>Comedy</td>\n",
       "    </tr>\n",
       "  </tbody>\n",
       "</table>\n",
       "</div>"
      ],
      "text/plain": [
       "                                     titulo  \\\n",
       "filmeId                                       \n",
       "1                          Toy Story (1995)   \n",
       "2                            Jumanji (1995)   \n",
       "3                   Grumpier Old Men (1995)   \n",
       "4                  Waiting to Exhale (1995)   \n",
       "5        Father of the Bride Part II (1995)   \n",
       "\n",
       "                                             generos  \n",
       "filmeId                                               \n",
       "1        Adventure|Animation|Children|Comedy|Fantasy  \n",
       "2                         Adventure|Children|Fantasy  \n",
       "3                                     Comedy|Romance  \n",
       "4                               Comedy|Drama|Romance  \n",
       "5                                             Comedy  "
      ]
     },
     "execution_count": 390,
     "metadata": {},
     "output_type": "execute_result"
    }
   ],
   "source": [
    "filmes.head()"
   ]
  },
  {
   "cell_type": "code",
   "execution_count": 391,
   "metadata": {
    "scrolled": true
   },
   "outputs": [
    {
     "name": "stdout",
     "output_type": "stream",
     "text": [
      "Carregamos 9742 filmes\n"
     ]
    }
   ],
   "source": [
    "print(\"Carregamos %d filmes\" % len(filmes))\n",
    "if(len(filmes) != 9742):\n",
    "    print(\"ERRO! O conjunto de dados que estamos trabalhando nesse projeto possui 9742 elementos.\")"
   ]
  },
  {
   "cell_type": "markdown",
   "metadata": {},
   "source": [
    "Vamos extrair o ano dos filmes (código já pronto): "
   ]
  },
  {
   "cell_type": "code",
   "execution_count": 392,
   "metadata": {
    "scrolled": true
   },
   "outputs": [
    {
     "data": {
      "text/html": [
       "<div>\n",
       "<style scoped>\n",
       "    .dataframe tbody tr th:only-of-type {\n",
       "        vertical-align: middle;\n",
       "    }\n",
       "\n",
       "    .dataframe tbody tr th {\n",
       "        vertical-align: top;\n",
       "    }\n",
       "\n",
       "    .dataframe thead th {\n",
       "        text-align: right;\n",
       "    }\n",
       "</style>\n",
       "<table border=\"1\" class=\"dataframe\">\n",
       "  <thead>\n",
       "    <tr style=\"text-align: right;\">\n",
       "      <th></th>\n",
       "      <th>titulo</th>\n",
       "      <th>generos</th>\n",
       "      <th>ano_de_lancamento</th>\n",
       "    </tr>\n",
       "    <tr>\n",
       "      <th>filmeId</th>\n",
       "      <th></th>\n",
       "      <th></th>\n",
       "      <th></th>\n",
       "    </tr>\n",
       "  </thead>\n",
       "  <tbody>\n",
       "    <tr>\n",
       "      <th>1</th>\n",
       "      <td>Toy Story (1995)</td>\n",
       "      <td>Adventure|Animation|Children|Comedy|Fantasy</td>\n",
       "      <td>1995.0</td>\n",
       "    </tr>\n",
       "    <tr>\n",
       "      <th>2</th>\n",
       "      <td>Jumanji (1995)</td>\n",
       "      <td>Adventure|Children|Fantasy</td>\n",
       "      <td>1995.0</td>\n",
       "    </tr>\n",
       "    <tr>\n",
       "      <th>3</th>\n",
       "      <td>Grumpier Old Men (1995)</td>\n",
       "      <td>Comedy|Romance</td>\n",
       "      <td>1995.0</td>\n",
       "    </tr>\n",
       "    <tr>\n",
       "      <th>4</th>\n",
       "      <td>Waiting to Exhale (1995)</td>\n",
       "      <td>Comedy|Drama|Romance</td>\n",
       "      <td>1995.0</td>\n",
       "    </tr>\n",
       "    <tr>\n",
       "      <th>5</th>\n",
       "      <td>Father of the Bride Part II (1995)</td>\n",
       "      <td>Comedy</td>\n",
       "      <td>1995.0</td>\n",
       "    </tr>\n",
       "  </tbody>\n",
       "</table>\n",
       "</div>"
      ],
      "text/plain": [
       "                                     titulo  \\\n",
       "filmeId                                       \n",
       "1                          Toy Story (1995)   \n",
       "2                            Jumanji (1995)   \n",
       "3                   Grumpier Old Men (1995)   \n",
       "4                  Waiting to Exhale (1995)   \n",
       "5        Father of the Bride Part II (1995)   \n",
       "\n",
       "                                             generos  ano_de_lancamento  \n",
       "filmeId                                                                  \n",
       "1        Adventure|Animation|Children|Comedy|Fantasy             1995.0  \n",
       "2                         Adventure|Children|Fantasy             1995.0  \n",
       "3                                     Comedy|Romance             1995.0  \n",
       "4                               Comedy|Drama|Romance             1995.0  \n",
       "5                                             Comedy             1995.0  "
      ]
     },
     "execution_count": 392,
     "metadata": {},
     "output_type": "execute_result"
    }
   ],
   "source": [
    "ano_de_lancamento = filmes.titulo.str.extract(\"\\((\\d{4})\\)\")\n",
    "filmes['ano_de_lancamento'] = ano_de_lancamento.astype(float)\n",
    "filmes.head()"
   ]
  },
  {
   "cell_type": "markdown",
   "metadata": {},
   "source": [
    "## Pergunta: carregando as notas\n",
    "\n",
    "- os dados `https://raw.githubusercontent.com/alura-cursos/formacao-data-science/master/ratings.csv` devem ser carregado em `notas`\n",
    "- renomeie as colunas para `usuarioId`, `filmeId`, `nota` e `momento`"
   ]
  },
  {
   "cell_type": "code",
   "execution_count": 393,
   "metadata": {},
   "outputs": [],
   "source": [
    "# solução\n",
    "# lendo o arquivo notas\n",
    "notas = pd.read_csv('ratings.csv')"
   ]
  },
  {
   "cell_type": "code",
   "execution_count": 394,
   "metadata": {},
   "outputs": [],
   "source": [
    "# renomeando as colunas\n",
    "notas.columns = ['usuarioId','filmeId','nota', 'momento']"
   ]
  },
  {
   "cell_type": "code",
   "execution_count": 395,
   "metadata": {},
   "outputs": [
    {
     "data": {
      "text/html": [
       "<div>\n",
       "<style scoped>\n",
       "    .dataframe tbody tr th:only-of-type {\n",
       "        vertical-align: middle;\n",
       "    }\n",
       "\n",
       "    .dataframe tbody tr th {\n",
       "        vertical-align: top;\n",
       "    }\n",
       "\n",
       "    .dataframe thead th {\n",
       "        text-align: right;\n",
       "    }\n",
       "</style>\n",
       "<table border=\"1\" class=\"dataframe\">\n",
       "  <thead>\n",
       "    <tr style=\"text-align: right;\">\n",
       "      <th></th>\n",
       "      <th>usuarioId</th>\n",
       "      <th>filmeId</th>\n",
       "      <th>nota</th>\n",
       "      <th>momento</th>\n",
       "    </tr>\n",
       "  </thead>\n",
       "  <tbody>\n",
       "    <tr>\n",
       "      <th>0</th>\n",
       "      <td>1</td>\n",
       "      <td>1</td>\n",
       "      <td>4.0</td>\n",
       "      <td>964982703</td>\n",
       "    </tr>\n",
       "    <tr>\n",
       "      <th>1</th>\n",
       "      <td>1</td>\n",
       "      <td>3</td>\n",
       "      <td>4.0</td>\n",
       "      <td>964981247</td>\n",
       "    </tr>\n",
       "    <tr>\n",
       "      <th>2</th>\n",
       "      <td>1</td>\n",
       "      <td>6</td>\n",
       "      <td>4.0</td>\n",
       "      <td>964982224</td>\n",
       "    </tr>\n",
       "    <tr>\n",
       "      <th>3</th>\n",
       "      <td>1</td>\n",
       "      <td>47</td>\n",
       "      <td>5.0</td>\n",
       "      <td>964983815</td>\n",
       "    </tr>\n",
       "    <tr>\n",
       "      <th>4</th>\n",
       "      <td>1</td>\n",
       "      <td>50</td>\n",
       "      <td>5.0</td>\n",
       "      <td>964982931</td>\n",
       "    </tr>\n",
       "  </tbody>\n",
       "</table>\n",
       "</div>"
      ],
      "text/plain": [
       "   usuarioId  filmeId  nota    momento\n",
       "0          1        1   4.0  964982703\n",
       "1          1        3   4.0  964981247\n",
       "2          1        6   4.0  964982224\n",
       "3          1       47   5.0  964983815\n",
       "4          1       50   5.0  964982931"
      ]
     },
     "execution_count": 395,
     "metadata": {},
     "output_type": "execute_result"
    }
   ],
   "source": [
    "notas.head()"
   ]
  },
  {
   "cell_type": "markdown",
   "metadata": {},
   "source": [
    "## Pergunta: gere uma nova feature, a média dos votos por filme\n",
    "\n",
    "- crie uma nova coluna chamada `nota_media` dentro do dataframe `filmes`\n",
    "\n",
    "Dicas:\n",
    "- como filmeId já é o indice de seu dataframe filmes, se você possui uma série com o número de votos por filme, basta atribuir uma nova coluna normalmente que será usado o mesmo índice"
   ]
  },
  {
   "cell_type": "code",
   "execution_count": 396,
   "metadata": {},
   "outputs": [],
   "source": [
    "# solução\n",
    "# adicionando a columa nota_media ao dataframe filmes\n",
    "filmes['nota_media'] = notas.groupby(\"filmeId\").nota.mean()"
   ]
  },
  {
   "cell_type": "code",
   "execution_count": 397,
   "metadata": {},
   "outputs": [
    {
     "data": {
      "text/html": [
       "<div>\n",
       "<style scoped>\n",
       "    .dataframe tbody tr th:only-of-type {\n",
       "        vertical-align: middle;\n",
       "    }\n",
       "\n",
       "    .dataframe tbody tr th {\n",
       "        vertical-align: top;\n",
       "    }\n",
       "\n",
       "    .dataframe thead th {\n",
       "        text-align: right;\n",
       "    }\n",
       "</style>\n",
       "<table border=\"1\" class=\"dataframe\">\n",
       "  <thead>\n",
       "    <tr style=\"text-align: right;\">\n",
       "      <th></th>\n",
       "      <th>titulo</th>\n",
       "      <th>generos</th>\n",
       "      <th>ano_de_lancamento</th>\n",
       "      <th>nota_media</th>\n",
       "    </tr>\n",
       "    <tr>\n",
       "      <th>filmeId</th>\n",
       "      <th></th>\n",
       "      <th></th>\n",
       "      <th></th>\n",
       "      <th></th>\n",
       "    </tr>\n",
       "  </thead>\n",
       "  <tbody>\n",
       "    <tr>\n",
       "      <th>1</th>\n",
       "      <td>Toy Story (1995)</td>\n",
       "      <td>Adventure|Animation|Children|Comedy|Fantasy</td>\n",
       "      <td>1995.0</td>\n",
       "      <td>3.920930</td>\n",
       "    </tr>\n",
       "    <tr>\n",
       "      <th>2</th>\n",
       "      <td>Jumanji (1995)</td>\n",
       "      <td>Adventure|Children|Fantasy</td>\n",
       "      <td>1995.0</td>\n",
       "      <td>3.431818</td>\n",
       "    </tr>\n",
       "    <tr>\n",
       "      <th>3</th>\n",
       "      <td>Grumpier Old Men (1995)</td>\n",
       "      <td>Comedy|Romance</td>\n",
       "      <td>1995.0</td>\n",
       "      <td>3.259615</td>\n",
       "    </tr>\n",
       "    <tr>\n",
       "      <th>4</th>\n",
       "      <td>Waiting to Exhale (1995)</td>\n",
       "      <td>Comedy|Drama|Romance</td>\n",
       "      <td>1995.0</td>\n",
       "      <td>2.357143</td>\n",
       "    </tr>\n",
       "    <tr>\n",
       "      <th>5</th>\n",
       "      <td>Father of the Bride Part II (1995)</td>\n",
       "      <td>Comedy</td>\n",
       "      <td>1995.0</td>\n",
       "      <td>3.071429</td>\n",
       "    </tr>\n",
       "  </tbody>\n",
       "</table>\n",
       "</div>"
      ],
      "text/plain": [
       "                                     titulo  \\\n",
       "filmeId                                       \n",
       "1                          Toy Story (1995)   \n",
       "2                            Jumanji (1995)   \n",
       "3                   Grumpier Old Men (1995)   \n",
       "4                  Waiting to Exhale (1995)   \n",
       "5        Father of the Bride Part II (1995)   \n",
       "\n",
       "                                             generos  ano_de_lancamento  \\\n",
       "filmeId                                                                   \n",
       "1        Adventure|Animation|Children|Comedy|Fantasy             1995.0   \n",
       "2                         Adventure|Children|Fantasy             1995.0   \n",
       "3                                     Comedy|Romance             1995.0   \n",
       "4                               Comedy|Drama|Romance             1995.0   \n",
       "5                                             Comedy             1995.0   \n",
       "\n",
       "         nota_media  \n",
       "filmeId              \n",
       "1          3.920930  \n",
       "2          3.431818  \n",
       "3          3.259615  \n",
       "4          2.357143  \n",
       "5          3.071429  "
      ]
     },
     "execution_count": 397,
     "metadata": {},
     "output_type": "execute_result"
    }
   ],
   "source": [
    "filmes.head()"
   ]
  },
  {
   "cell_type": "markdown",
   "metadata": {},
   "source": [
    "## Pergunta: remova os filmes com menos de 50 avaliações\n",
    "\n",
    "- conte o número de notas por filme\n",
    "- adicione uma coluna nova chamada `total_de_votos` a `filmes` que representa o número de avaliações que aquele filme teve no conjunto de dados\n",
    "- remova os que tem 49 ou menos de `filmes`"
   ]
  },
  {
   "cell_type": "markdown",
   "metadata": {},
   "source": [
    "## Solução"
   ]
  },
  {
   "cell_type": "code",
   "execution_count": 398,
   "metadata": {},
   "outputs": [
    {
     "data": {
      "text/plain": [
       "100836"
      ]
     },
     "execution_count": 398,
     "metadata": {},
     "output_type": "execute_result"
    }
   ],
   "source": [
    "# solução para calcular o total de votos por filme\n",
    "len(notas.filmeId)"
   ]
  },
  {
   "cell_type": "code",
   "execution_count": 399,
   "metadata": {},
   "outputs": [],
   "source": [
    "# solução para criar a nova coluna e filtrar os filmes\n",
    "filmes['total_de_votos'] = notas['filmeId'].value_counts()"
   ]
  },
  {
   "cell_type": "code",
   "execution_count": 400,
   "metadata": {},
   "outputs": [
    {
     "data": {
      "text/html": [
       "<div>\n",
       "<style scoped>\n",
       "    .dataframe tbody tr th:only-of-type {\n",
       "        vertical-align: middle;\n",
       "    }\n",
       "\n",
       "    .dataframe tbody tr th {\n",
       "        vertical-align: top;\n",
       "    }\n",
       "\n",
       "    .dataframe thead th {\n",
       "        text-align: right;\n",
       "    }\n",
       "</style>\n",
       "<table border=\"1\" class=\"dataframe\">\n",
       "  <thead>\n",
       "    <tr style=\"text-align: right;\">\n",
       "      <th></th>\n",
       "      <th>titulo</th>\n",
       "      <th>generos</th>\n",
       "      <th>ano_de_lancamento</th>\n",
       "      <th>nota_media</th>\n",
       "      <th>total_de_votos</th>\n",
       "    </tr>\n",
       "    <tr>\n",
       "      <th>filmeId</th>\n",
       "      <th></th>\n",
       "      <th></th>\n",
       "      <th></th>\n",
       "      <th></th>\n",
       "      <th></th>\n",
       "    </tr>\n",
       "  </thead>\n",
       "  <tbody>\n",
       "    <tr>\n",
       "      <th>1</th>\n",
       "      <td>Toy Story (1995)</td>\n",
       "      <td>Adventure|Animation|Children|Comedy|Fantasy</td>\n",
       "      <td>1995.0</td>\n",
       "      <td>3.920930</td>\n",
       "      <td>215.0</td>\n",
       "    </tr>\n",
       "    <tr>\n",
       "      <th>2</th>\n",
       "      <td>Jumanji (1995)</td>\n",
       "      <td>Adventure|Children|Fantasy</td>\n",
       "      <td>1995.0</td>\n",
       "      <td>3.431818</td>\n",
       "      <td>110.0</td>\n",
       "    </tr>\n",
       "    <tr>\n",
       "      <th>3</th>\n",
       "      <td>Grumpier Old Men (1995)</td>\n",
       "      <td>Comedy|Romance</td>\n",
       "      <td>1995.0</td>\n",
       "      <td>3.259615</td>\n",
       "      <td>52.0</td>\n",
       "    </tr>\n",
       "    <tr>\n",
       "      <th>4</th>\n",
       "      <td>Waiting to Exhale (1995)</td>\n",
       "      <td>Comedy|Drama|Romance</td>\n",
       "      <td>1995.0</td>\n",
       "      <td>2.357143</td>\n",
       "      <td>7.0</td>\n",
       "    </tr>\n",
       "    <tr>\n",
       "      <th>5</th>\n",
       "      <td>Father of the Bride Part II (1995)</td>\n",
       "      <td>Comedy</td>\n",
       "      <td>1995.0</td>\n",
       "      <td>3.071429</td>\n",
       "      <td>49.0</td>\n",
       "    </tr>\n",
       "  </tbody>\n",
       "</table>\n",
       "</div>"
      ],
      "text/plain": [
       "                                     titulo  \\\n",
       "filmeId                                       \n",
       "1                          Toy Story (1995)   \n",
       "2                            Jumanji (1995)   \n",
       "3                   Grumpier Old Men (1995)   \n",
       "4                  Waiting to Exhale (1995)   \n",
       "5        Father of the Bride Part II (1995)   \n",
       "\n",
       "                                             generos  ano_de_lancamento  \\\n",
       "filmeId                                                                   \n",
       "1        Adventure|Animation|Children|Comedy|Fantasy             1995.0   \n",
       "2                         Adventure|Children|Fantasy             1995.0   \n",
       "3                                     Comedy|Romance             1995.0   \n",
       "4                               Comedy|Drama|Romance             1995.0   \n",
       "5                                             Comedy             1995.0   \n",
       "\n",
       "         nota_media  total_de_votos  \n",
       "filmeId                              \n",
       "1          3.920930           215.0  \n",
       "2          3.431818           110.0  \n",
       "3          3.259615            52.0  \n",
       "4          2.357143             7.0  \n",
       "5          3.071429            49.0  "
      ]
     },
     "execution_count": 400,
     "metadata": {},
     "output_type": "execute_result"
    }
   ],
   "source": [
    "filmes.head()"
   ]
  },
  {
   "cell_type": "code",
   "execution_count": 401,
   "metadata": {},
   "outputs": [],
   "source": [
    "# removendo filmes com 49 ou menos votos\n",
    "filmes = filmes.query('total_de_votos > 49')"
   ]
  },
  {
   "cell_type": "code",
   "execution_count": 402,
   "metadata": {},
   "outputs": [
    {
     "data": {
      "text/html": [
       "<div>\n",
       "<style scoped>\n",
       "    .dataframe tbody tr th:only-of-type {\n",
       "        vertical-align: middle;\n",
       "    }\n",
       "\n",
       "    .dataframe tbody tr th {\n",
       "        vertical-align: top;\n",
       "    }\n",
       "\n",
       "    .dataframe thead th {\n",
       "        text-align: right;\n",
       "    }\n",
       "</style>\n",
       "<table border=\"1\" class=\"dataframe\">\n",
       "  <thead>\n",
       "    <tr style=\"text-align: right;\">\n",
       "      <th></th>\n",
       "      <th>titulo</th>\n",
       "      <th>generos</th>\n",
       "      <th>ano_de_lancamento</th>\n",
       "      <th>nota_media</th>\n",
       "      <th>total_de_votos</th>\n",
       "    </tr>\n",
       "    <tr>\n",
       "      <th>filmeId</th>\n",
       "      <th></th>\n",
       "      <th></th>\n",
       "      <th></th>\n",
       "      <th></th>\n",
       "      <th></th>\n",
       "    </tr>\n",
       "  </thead>\n",
       "  <tbody>\n",
       "    <tr>\n",
       "      <th>1</th>\n",
       "      <td>Toy Story (1995)</td>\n",
       "      <td>Adventure|Animation|Children|Comedy|Fantasy</td>\n",
       "      <td>1995.0</td>\n",
       "      <td>3.920930</td>\n",
       "      <td>215.0</td>\n",
       "    </tr>\n",
       "    <tr>\n",
       "      <th>2</th>\n",
       "      <td>Jumanji (1995)</td>\n",
       "      <td>Adventure|Children|Fantasy</td>\n",
       "      <td>1995.0</td>\n",
       "      <td>3.431818</td>\n",
       "      <td>110.0</td>\n",
       "    </tr>\n",
       "    <tr>\n",
       "      <th>3</th>\n",
       "      <td>Grumpier Old Men (1995)</td>\n",
       "      <td>Comedy|Romance</td>\n",
       "      <td>1995.0</td>\n",
       "      <td>3.259615</td>\n",
       "      <td>52.0</td>\n",
       "    </tr>\n",
       "    <tr>\n",
       "      <th>6</th>\n",
       "      <td>Heat (1995)</td>\n",
       "      <td>Action|Crime|Thriller</td>\n",
       "      <td>1995.0</td>\n",
       "      <td>3.946078</td>\n",
       "      <td>102.0</td>\n",
       "    </tr>\n",
       "    <tr>\n",
       "      <th>7</th>\n",
       "      <td>Sabrina (1995)</td>\n",
       "      <td>Comedy|Romance</td>\n",
       "      <td>1995.0</td>\n",
       "      <td>3.185185</td>\n",
       "      <td>54.0</td>\n",
       "    </tr>\n",
       "  </tbody>\n",
       "</table>\n",
       "</div>"
      ],
      "text/plain": [
       "                          titulo                                      generos  \\\n",
       "filmeId                                                                         \n",
       "1               Toy Story (1995)  Adventure|Animation|Children|Comedy|Fantasy   \n",
       "2                 Jumanji (1995)                   Adventure|Children|Fantasy   \n",
       "3        Grumpier Old Men (1995)                               Comedy|Romance   \n",
       "6                    Heat (1995)                        Action|Crime|Thriller   \n",
       "7                 Sabrina (1995)                               Comedy|Romance   \n",
       "\n",
       "         ano_de_lancamento  nota_media  total_de_votos  \n",
       "filmeId                                                 \n",
       "1                   1995.0    3.920930           215.0  \n",
       "2                   1995.0    3.431818           110.0  \n",
       "3                   1995.0    3.259615            52.0  \n",
       "6                   1995.0    3.946078           102.0  \n",
       "7                   1995.0    3.185185            54.0  "
      ]
     },
     "execution_count": 402,
     "metadata": {},
     "output_type": "execute_result"
    }
   ],
   "source": [
    "filmes.head()"
   ]
  },
  {
   "cell_type": "markdown",
   "metadata": {},
   "source": [
    "# Visualizando os dados gerais"
   ]
  },
  {
   "cell_type": "markdown",
   "metadata": {},
   "source": [
    "## Pergunta: Visualize as notas médias\n",
    "\n",
    "- histograma\n",
    "- cummulative distribution function\n",
    "\n",
    "Dicas:\n",
    "\n",
    "- lembre-se de colocar um título nas imagens além de nomes nos eixos x e y\n",
    "- para gerar a versão cumulativa lembre-se de usar os parâmetros `hist_kws` e `kde_kws` para definir `'cumulative'=True`"
   ]
  },
  {
   "cell_type": "code",
   "execution_count": 403,
   "metadata": {},
   "outputs": [],
   "source": [
    "# mudando cor e estilo do gráfico\n",
    "sns.set_palette(\"Dark2\")\n",
    "sns.set_style('ticks')"
   ]
  },
  {
   "cell_type": "code",
   "execution_count": 404,
   "metadata": {},
   "outputs": [],
   "source": [
    "nota_media = filmes.nota_media.dropna()"
   ]
  },
  {
   "cell_type": "code",
   "execution_count": 405,
   "metadata": {},
   "outputs": [
    {
     "data": {
      "image/png": "[encoded data removed]",
      "text/plain": [
       "<Figure size 864x432 with 1 Axes>"
      ]
     },
     "metadata": {},
     "output_type": "display_data"
    }
   ],
   "source": [
    "# solução histograma\n",
    "notas_medias_hist = sns.distplot(nota_media)\n",
    "notas_medias_hist.set_xlabel('Nota média', fontsize = 14)\n",
    "notas_medias_hist.set_ylabel('Frequência', fontsize = 14)\n",
    "notas_medias_hist.set_title('Notas médias de filmes com pelo menos 50 votos', fontsize = 16)\n",
    "notas_medias_hist.figure.set_size_inches(12,6)"
   ]
  },
  {
   "cell_type": "code",
   "execution_count": 406,
   "metadata": {},
   "outputs": [
    {
     "data": {
      "image/png": "[encoded data removed]",
      "text/plain": [
       "<Figure size 864x432 with 1 Axes>"
      ]
     },
     "metadata": {},
     "output_type": "display_data"
    }
   ],
   "source": [
    "# solução cumulativa\n",
    "notas_medias_cumul = sns.distplot(nota_media, \n",
    "                  hist_kws = {'cumulative':True},\n",
    "                     kde_kws = {'cumulative':True})\n",
    "notas_medias_cumul.set_xlabel('Nota média', fontsize = 14)\n",
    "notas_medias_cumul.set_ylabel('% acumulada de filmes', fontsize = 14)\n",
    "notas_medias_cumul.set_title('Notas médias de filmes com pelo menos 50 votos',fontsize = 16)\n",
    "notas_medias_cumul.figure.set_size_inches(12,6)"
   ]
  },
  {
   "cell_type": "markdown",
   "metadata": {},
   "source": [
    "## Pergunta: Visualize o total de votos\n",
    "\n",
    "- histograma\n",
    "- cummulative distribution function"
   ]
  },
  {
   "cell_type": "code",
   "execution_count": 407,
   "metadata": {},
   "outputs": [
    {
     "data": {
      "image/png": "[encoded data removed]",
      "text/plain": [
       "<Figure size 864x432 with 1 Axes>"
      ]
     },
     "metadata": {},
     "output_type": "display_data"
    }
   ],
   "source": [
    "# solução histograma\n",
    "total_de_votos_hist = sns.distplot(filmes['total_de_votos'])\n",
    "total_de_votos_hist.set_xlabel('Quantidade de votos', fontsize = 14)\n",
    "total_de_votos_hist.set_ylabel('Frequência', fontsize = 14)\n",
    "total_de_votos_hist.set_title('Total de votos', fontsize = 16)\n",
    "total_de_votos_hist.figure.set_size_inches(12,6)"
   ]
  },
  {
   "cell_type": "code",
   "execution_count": 408,
   "metadata": {},
   "outputs": [
    {
     "data": {
      "image/png": "[encoded data removed]",
      "text/plain": [
       "<Figure size 864x432 with 1 Axes>"
      ]
     },
     "metadata": {},
     "output_type": "display_data"
    }
   ],
   "source": [
    "# solução cumulativa\n",
    "total_de_votos_cumul = sns.distplot(filmes['total_de_votos'], \n",
    "                  hist_kws = {'cumulative':True},\n",
    "                     kde_kws = {'cumulative':True})\n",
    "total_de_votos_cumul.set_xlabel('Quantidade de votos', fontsize = 14)\n",
    "total_de_votos_cumul.set_ylabel('% acumulada de votos', fontsize = 14)\n",
    "total_de_votos_cumul.set_title('Total de votos',fontsize = 16)\n",
    "total_de_votos_cumul.figure.set_size_inches(12,6)"
   ]
  },
  {
   "cell_type": "markdown",
   "metadata": {},
   "source": [
    "## Pergunta: 20% dos filmes do dataframe tem nota maior que? \n",
    "\n",
    "- lembre-se da função `quantile` do pandas"
   ]
  },
  {
   "cell_type": "code",
   "execution_count": 409,
   "metadata": {},
   "outputs": [
    {
     "data": {
      "text/plain": [
       "3.3742857142857146"
      ]
     },
     "execution_count": 409,
     "metadata": {},
     "output_type": "execute_result"
    }
   ],
   "source": [
    "# solução\n",
    "nota_limite_dos_20_porcento = nota_media.quantile(.2)\n",
    "nota_limite_dos_20_porcento"
   ]
  },
  {
   "cell_type": "code",
   "execution_count": 410,
   "metadata": {},
   "outputs": [
    {
     "name": "stdout",
     "output_type": "stream",
     "text": [
      "20 porcento dos filmes tem nota maior que de 3.37\n"
     ]
    }
   ],
   "source": [
    "print(\"20 porcento dos filmes tem nota maior que de %.2f\" % nota_limite_dos_20_porcento)"
   ]
  },
  {
   "cell_type": "markdown",
   "metadata": {},
   "source": [
    "## Vamos separar a coluna `generos` em diversas colunas.\n",
    "\n",
    "- O código já está pronto."
   ]
  },
  {
   "cell_type": "code",
   "execution_count": 411,
   "metadata": {
    "scrolled": false
   },
   "outputs": [
    {
     "name": "stdout",
     "output_type": "stream",
     "text": [
      "Temos 19 generos distintos\n"
     ]
    }
   ],
   "source": [
    "filmes['generos'] = filmes['generos'].str.replace('-', '')\n",
    "generos = filmes['generos'].str.get_dummies()\n",
    "print(\"Temos %d generos distintos\" % generos.shape[1])"
   ]
  },
  {
   "cell_type": "code",
   "execution_count": 412,
   "metadata": {},
   "outputs": [
    {
     "data": {
      "text/html": [
       "<div>\n",
       "<style scoped>\n",
       "    .dataframe tbody tr th:only-of-type {\n",
       "        vertical-align: middle;\n",
       "    }\n",
       "\n",
       "    .dataframe tbody tr th {\n",
       "        vertical-align: top;\n",
       "    }\n",
       "\n",
       "    .dataframe thead th {\n",
       "        text-align: right;\n",
       "    }\n",
       "</style>\n",
       "<table border=\"1\" class=\"dataframe\">\n",
       "  <thead>\n",
       "    <tr style=\"text-align: right;\">\n",
       "      <th></th>\n",
       "      <th>titulo</th>\n",
       "      <th>ano_de_lancamento</th>\n",
       "      <th>nota_media</th>\n",
       "      <th>total_de_votos</th>\n",
       "      <th>Action</th>\n",
       "      <th>Adventure</th>\n",
       "      <th>Animation</th>\n",
       "      <th>Children</th>\n",
       "      <th>Comedy</th>\n",
       "      <th>Crime</th>\n",
       "      <th>...</th>\n",
       "      <th>FilmNoir</th>\n",
       "      <th>Horror</th>\n",
       "      <th>IMAX</th>\n",
       "      <th>Musical</th>\n",
       "      <th>Mystery</th>\n",
       "      <th>Romance</th>\n",
       "      <th>SciFi</th>\n",
       "      <th>Thriller</th>\n",
       "      <th>War</th>\n",
       "      <th>Western</th>\n",
       "    </tr>\n",
       "    <tr>\n",
       "      <th>filmeId</th>\n",
       "      <th></th>\n",
       "      <th></th>\n",
       "      <th></th>\n",
       "      <th></th>\n",
       "      <th></th>\n",
       "      <th></th>\n",
       "      <th></th>\n",
       "      <th></th>\n",
       "      <th></th>\n",
       "      <th></th>\n",
       "      <th></th>\n",
       "      <th></th>\n",
       "      <th></th>\n",
       "      <th></th>\n",
       "      <th></th>\n",
       "      <th></th>\n",
       "      <th></th>\n",
       "      <th></th>\n",
       "      <th></th>\n",
       "      <th></th>\n",
       "      <th></th>\n",
       "    </tr>\n",
       "  </thead>\n",
       "  <tbody>\n",
       "    <tr>\n",
       "      <th>1</th>\n",
       "      <td>Toy Story (1995)</td>\n",
       "      <td>1995.0</td>\n",
       "      <td>3.920930</td>\n",
       "      <td>215.0</td>\n",
       "      <td>0</td>\n",
       "      <td>1</td>\n",
       "      <td>1</td>\n",
       "      <td>1</td>\n",
       "      <td>1</td>\n",
       "      <td>0</td>\n",
       "      <td>...</td>\n",
       "      <td>0</td>\n",
       "      <td>0</td>\n",
       "      <td>0</td>\n",
       "      <td>0</td>\n",
       "      <td>0</td>\n",
       "      <td>0</td>\n",
       "      <td>0</td>\n",
       "      <td>0</td>\n",
       "      <td>0</td>\n",
       "      <td>0</td>\n",
       "    </tr>\n",
       "    <tr>\n",
       "      <th>2</th>\n",
       "      <td>Jumanji (1995)</td>\n",
       "      <td>1995.0</td>\n",
       "      <td>3.431818</td>\n",
       "      <td>110.0</td>\n",
       "      <td>0</td>\n",
       "      <td>1</td>\n",
       "      <td>0</td>\n",
       "      <td>1</td>\n",
       "      <td>0</td>\n",
       "      <td>0</td>\n",
       "      <td>...</td>\n",
       "      <td>0</td>\n",
       "      <td>0</td>\n",
       "      <td>0</td>\n",
       "      <td>0</td>\n",
       "      <td>0</td>\n",
       "      <td>0</td>\n",
       "      <td>0</td>\n",
       "      <td>0</td>\n",
       "      <td>0</td>\n",
       "      <td>0</td>\n",
       "    </tr>\n",
       "    <tr>\n",
       "      <th>3</th>\n",
       "      <td>Grumpier Old Men (1995)</td>\n",
       "      <td>1995.0</td>\n",
       "      <td>3.259615</td>\n",
       "      <td>52.0</td>\n",
       "      <td>0</td>\n",
       "      <td>0</td>\n",
       "      <td>0</td>\n",
       "      <td>0</td>\n",
       "      <td>1</td>\n",
       "      <td>0</td>\n",
       "      <td>...</td>\n",
       "      <td>0</td>\n",
       "      <td>0</td>\n",
       "      <td>0</td>\n",
       "      <td>0</td>\n",
       "      <td>0</td>\n",
       "      <td>1</td>\n",
       "      <td>0</td>\n",
       "      <td>0</td>\n",
       "      <td>0</td>\n",
       "      <td>0</td>\n",
       "    </tr>\n",
       "    <tr>\n",
       "      <th>6</th>\n",
       "      <td>Heat (1995)</td>\n",
       "      <td>1995.0</td>\n",
       "      <td>3.946078</td>\n",
       "      <td>102.0</td>\n",
       "      <td>1</td>\n",
       "      <td>0</td>\n",
       "      <td>0</td>\n",
       "      <td>0</td>\n",
       "      <td>0</td>\n",
       "      <td>1</td>\n",
       "      <td>...</td>\n",
       "      <td>0</td>\n",
       "      <td>0</td>\n",
       "      <td>0</td>\n",
       "      <td>0</td>\n",
       "      <td>0</td>\n",
       "      <td>0</td>\n",
       "      <td>0</td>\n",
       "      <td>1</td>\n",
       "      <td>0</td>\n",
       "      <td>0</td>\n",
       "    </tr>\n",
       "    <tr>\n",
       "      <th>7</th>\n",
       "      <td>Sabrina (1995)</td>\n",
       "      <td>1995.0</td>\n",
       "      <td>3.185185</td>\n",
       "      <td>54.0</td>\n",
       "      <td>0</td>\n",
       "      <td>0</td>\n",
       "      <td>0</td>\n",
       "      <td>0</td>\n",
       "      <td>1</td>\n",
       "      <td>0</td>\n",
       "      <td>...</td>\n",
       "      <td>0</td>\n",
       "      <td>0</td>\n",
       "      <td>0</td>\n",
       "      <td>0</td>\n",
       "      <td>0</td>\n",
       "      <td>1</td>\n",
       "      <td>0</td>\n",
       "      <td>0</td>\n",
       "      <td>0</td>\n",
       "      <td>0</td>\n",
       "    </tr>\n",
       "  </tbody>\n",
       "</table>\n",
       "<p>5 rows × 23 columns</p>\n",
       "</div>"
      ],
      "text/plain": [
       "                          titulo  ano_de_lancamento  nota_media  \\\n",
       "filmeId                                                           \n",
       "1               Toy Story (1995)             1995.0    3.920930   \n",
       "2                 Jumanji (1995)             1995.0    3.431818   \n",
       "3        Grumpier Old Men (1995)             1995.0    3.259615   \n",
       "6                    Heat (1995)             1995.0    3.946078   \n",
       "7                 Sabrina (1995)             1995.0    3.185185   \n",
       "\n",
       "         total_de_votos  Action  Adventure  Animation  Children  Comedy  \\\n",
       "filmeId                                                                   \n",
       "1                 215.0       0          1          1         1       1   \n",
       "2                 110.0       0          1          0         1       0   \n",
       "3                  52.0       0          0          0         0       1   \n",
       "6                 102.0       1          0          0         0       0   \n",
       "7                  54.0       0          0          0         0       1   \n",
       "\n",
       "         Crime  ...  FilmNoir  Horror  IMAX  Musical  Mystery  Romance  SciFi  \\\n",
       "filmeId         ...                                                             \n",
       "1            0  ...         0       0     0        0        0        0      0   \n",
       "2            0  ...         0       0     0        0        0        0      0   \n",
       "3            0  ...         0       0     0        0        0        1      0   \n",
       "6            1  ...         0       0     0        0        0        0      0   \n",
       "7            0  ...         0       0     0        0        0        1      0   \n",
       "\n",
       "         Thriller  War  Western  \n",
       "filmeId                          \n",
       "1               0    0        0  \n",
       "2               0    0        0  \n",
       "3               0    0        0  \n",
       "6               1    0        0  \n",
       "7               0    0        0  \n",
       "\n",
       "[5 rows x 23 columns]"
      ]
     },
     "execution_count": 412,
     "metadata": {},
     "output_type": "execute_result"
    }
   ],
   "source": [
    "filmes = filmes.join(generos).drop(columns=['generos'], axis=1)\n",
    "filmes.head()"
   ]
  },
  {
   "cell_type": "markdown",
   "metadata": {},
   "source": [
    "## Pergunta: visualização de quantos filmes existem por genero\n",
    "\n",
    "- Para cada um dos generos você deve agrupar o número de filmes\n",
    "- Ordene as barras, na esquerda o genero com mais filmes, na direita o que tem menos filmes\n",
    "\n",
    "Dica:\n",
    "\n",
    "- Para fazer a soma de uma ou mais colunas individualmente você pode usar `seu_dataframe.sum()`\n",
    "- Não precisa usar o dataframe `filmes`, somente o dataframe `generos`\n",
    "- Em certas situações é mais fácil usar as funções de plotagem do pandas ao invés do seaborn"
   ]
  },
  {
   "cell_type": "code",
   "execution_count": 413,
   "metadata": {},
   "outputs": [],
   "source": [
    "# solução\n",
    "# definindo uma variável para soma de valores e classificação de valores decrescentes\n",
    "generos_sum = generos.sum().sort_values(ascending = False)"
   ]
  },
  {
   "cell_type": "code",
   "execution_count": 414,
   "metadata": {},
   "outputs": [
    {
     "data": {
      "text/plain": [
       "Text(0.5, 1.0, 'Filmes por gênero')"
      ]
     },
     "execution_count": 414,
     "metadata": {},
     "output_type": "execute_result"
    },
    {
     "data": {
      "image/png": "[encoded data removed]",
      "text/plain": [
       "<Figure size 864x432 with 1 Axes>"
      ]
     },
     "metadata": {},
     "output_type": "display_data"
    }
   ],
   "source": [
    "# gráfico de barras\n",
    "generos_bar = generos_sum.plot(kind = 'bar')\n",
    "generos_bar.figure.set_size_inches(12,6)\n",
    "generos_bar.set_xlabel('Genêro de filme', fontsize = 14)\n",
    "generos_bar.set_ylabel('Quantidade de filmes', fontsize = 14)\n",
    "generos_bar.set_title('Filmes por gênero',fontsize = 16)"
   ]
  },
  {
   "cell_type": "markdown",
   "metadata": {},
   "source": [
    "## Pergunta: Quais são os 5 generos com mais filmes?\n",
    "\n",
    "Dica:\n",
    "\n",
    "- `sort_values()` pode ordenar uma Series do pandas"
   ]
  },
  {
   "cell_type": "code",
   "execution_count": 415,
   "metadata": {},
   "outputs": [],
   "source": [
    "# solução\n",
    "top5_generos_em_quantidade_de_filmes = generos_sum.sort_values(ascending = False).head(5)"
   ]
  },
  {
   "cell_type": "code",
   "execution_count": 416,
   "metadata": {},
   "outputs": [
    {
     "name": "stdout",
     "output_type": "stream",
     "text": [
      "Comedy       181\n",
      "Drama        166\n",
      "Action       164\n",
      "Adventure    132\n",
      "Thriller     121\n",
      "dtype: int64\n"
     ]
    }
   ],
   "source": [
    "print(top5_generos_em_quantidade_de_filmes)"
   ]
  },
  {
   "cell_type": "markdown",
   "metadata": {},
   "source": [
    "## Pergunta: visualização de votos por genero\n",
    "\n",
    "- o código que gera os votos por genero já está pronto\n",
    "- ordene as categorias da mais visualizada para a menos visualizada\n",
    "- gere a visualização por genero"
   ]
  },
  {
   "cell_type": "code",
   "execution_count": 417,
   "metadata": {},
   "outputs": [
    {
     "data": {
      "text/html": [
       "<div>\n",
       "<style scoped>\n",
       "    .dataframe tbody tr th:only-of-type {\n",
       "        vertical-align: middle;\n",
       "    }\n",
       "\n",
       "    .dataframe tbody tr th {\n",
       "        vertical-align: top;\n",
       "    }\n",
       "\n",
       "    .dataframe thead th {\n",
       "        text-align: right;\n",
       "    }\n",
       "</style>\n",
       "<table border=\"1\" class=\"dataframe\">\n",
       "  <thead>\n",
       "    <tr style=\"text-align: right;\">\n",
       "      <th></th>\n",
       "      <th>Action</th>\n",
       "      <th>Adventure</th>\n",
       "      <th>Animation</th>\n",
       "      <th>Children</th>\n",
       "      <th>Comedy</th>\n",
       "      <th>Crime</th>\n",
       "      <th>Documentary</th>\n",
       "      <th>Drama</th>\n",
       "      <th>Fantasy</th>\n",
       "      <th>FilmNoir</th>\n",
       "      <th>Horror</th>\n",
       "      <th>IMAX</th>\n",
       "      <th>Musical</th>\n",
       "      <th>Mystery</th>\n",
       "      <th>Romance</th>\n",
       "      <th>SciFi</th>\n",
       "      <th>Thriller</th>\n",
       "      <th>War</th>\n",
       "      <th>Western</th>\n",
       "    </tr>\n",
       "  </thead>\n",
       "  <tbody>\n",
       "    <tr>\n",
       "      <th>0</th>\n",
       "      <td>0.0</td>\n",
       "      <td>215.0</td>\n",
       "      <td>215.0</td>\n",
       "      <td>215.0</td>\n",
       "      <td>215.0</td>\n",
       "      <td>0.0</td>\n",
       "      <td>0.0</td>\n",
       "      <td>0.0</td>\n",
       "      <td>215.0</td>\n",
       "      <td>0.0</td>\n",
       "      <td>0.0</td>\n",
       "      <td>0.0</td>\n",
       "      <td>0.0</td>\n",
       "      <td>0.0</td>\n",
       "      <td>0.0</td>\n",
       "      <td>0.0</td>\n",
       "      <td>0.0</td>\n",
       "      <td>0.0</td>\n",
       "      <td>0.0</td>\n",
       "    </tr>\n",
       "    <tr>\n",
       "      <th>1</th>\n",
       "      <td>0.0</td>\n",
       "      <td>110.0</td>\n",
       "      <td>0.0</td>\n",
       "      <td>110.0</td>\n",
       "      <td>0.0</td>\n",
       "      <td>0.0</td>\n",
       "      <td>0.0</td>\n",
       "      <td>0.0</td>\n",
       "      <td>110.0</td>\n",
       "      <td>0.0</td>\n",
       "      <td>0.0</td>\n",
       "      <td>0.0</td>\n",
       "      <td>0.0</td>\n",
       "      <td>0.0</td>\n",
       "      <td>0.0</td>\n",
       "      <td>0.0</td>\n",
       "      <td>0.0</td>\n",
       "      <td>0.0</td>\n",
       "      <td>0.0</td>\n",
       "    </tr>\n",
       "    <tr>\n",
       "      <th>2</th>\n",
       "      <td>0.0</td>\n",
       "      <td>0.0</td>\n",
       "      <td>0.0</td>\n",
       "      <td>0.0</td>\n",
       "      <td>52.0</td>\n",
       "      <td>0.0</td>\n",
       "      <td>0.0</td>\n",
       "      <td>0.0</td>\n",
       "      <td>0.0</td>\n",
       "      <td>0.0</td>\n",
       "      <td>0.0</td>\n",
       "      <td>0.0</td>\n",
       "      <td>0.0</td>\n",
       "      <td>0.0</td>\n",
       "      <td>52.0</td>\n",
       "      <td>0.0</td>\n",
       "      <td>0.0</td>\n",
       "      <td>0.0</td>\n",
       "      <td>0.0</td>\n",
       "    </tr>\n",
       "    <tr>\n",
       "      <th>3</th>\n",
       "      <td>102.0</td>\n",
       "      <td>0.0</td>\n",
       "      <td>0.0</td>\n",
       "      <td>0.0</td>\n",
       "      <td>0.0</td>\n",
       "      <td>102.0</td>\n",
       "      <td>0.0</td>\n",
       "      <td>0.0</td>\n",
       "      <td>0.0</td>\n",
       "      <td>0.0</td>\n",
       "      <td>0.0</td>\n",
       "      <td>0.0</td>\n",
       "      <td>0.0</td>\n",
       "      <td>0.0</td>\n",
       "      <td>0.0</td>\n",
       "      <td>0.0</td>\n",
       "      <td>102.0</td>\n",
       "      <td>0.0</td>\n",
       "      <td>0.0</td>\n",
       "    </tr>\n",
       "    <tr>\n",
       "      <th>4</th>\n",
       "      <td>0.0</td>\n",
       "      <td>0.0</td>\n",
       "      <td>0.0</td>\n",
       "      <td>0.0</td>\n",
       "      <td>54.0</td>\n",
       "      <td>0.0</td>\n",
       "      <td>0.0</td>\n",
       "      <td>0.0</td>\n",
       "      <td>0.0</td>\n",
       "      <td>0.0</td>\n",
       "      <td>0.0</td>\n",
       "      <td>0.0</td>\n",
       "      <td>0.0</td>\n",
       "      <td>0.0</td>\n",
       "      <td>54.0</td>\n",
       "      <td>0.0</td>\n",
       "      <td>0.0</td>\n",
       "      <td>0.0</td>\n",
       "      <td>0.0</td>\n",
       "    </tr>\n",
       "  </tbody>\n",
       "</table>\n",
       "</div>"
      ],
      "text/plain": [
       "   Action  Adventure  Animation  Children  Comedy  Crime  Documentary  Drama  \\\n",
       "0     0.0      215.0      215.0     215.0   215.0    0.0          0.0    0.0   \n",
       "1     0.0      110.0        0.0     110.0     0.0    0.0          0.0    0.0   \n",
       "2     0.0        0.0        0.0       0.0    52.0    0.0          0.0    0.0   \n",
       "3   102.0        0.0        0.0       0.0     0.0  102.0          0.0    0.0   \n",
       "4     0.0        0.0        0.0       0.0    54.0    0.0          0.0    0.0   \n",
       "\n",
       "   Fantasy  FilmNoir  Horror  IMAX  Musical  Mystery  Romance  SciFi  \\\n",
       "0    215.0       0.0     0.0   0.0      0.0      0.0      0.0    0.0   \n",
       "1    110.0       0.0     0.0   0.0      0.0      0.0      0.0    0.0   \n",
       "2      0.0       0.0     0.0   0.0      0.0      0.0     52.0    0.0   \n",
       "3      0.0       0.0     0.0   0.0      0.0      0.0      0.0    0.0   \n",
       "4      0.0       0.0     0.0   0.0      0.0      0.0     54.0    0.0   \n",
       "\n",
       "   Thriller  War  Western  \n",
       "0       0.0  0.0      0.0  \n",
       "1       0.0  0.0      0.0  \n",
       "2       0.0  0.0      0.0  \n",
       "3     102.0  0.0      0.0  \n",
       "4       0.0  0.0      0.0  "
      ]
     },
     "execution_count": 417,
     "metadata": {},
     "output_type": "execute_result"
    }
   ],
   "source": [
    "votos_por_genero_por_filme = pd.DataFrame((generos.values.T * filmes['total_de_votos'].values).T, columns = generos.columns)\n",
    "votos_por_genero_por_filme.head()"
   ]
  },
  {
   "cell_type": "code",
   "execution_count": 418,
   "metadata": {
    "scrolled": true
   },
   "outputs": [
    {
     "data": {
      "text/plain": [
       "Action         15734.0\n",
       "Drama          15445.0\n",
       "Comedy         15330.0\n",
       "Adventure      13117.0\n",
       "Thriller       11907.0\n",
       "SciFi           8989.0\n",
       "Crime           8649.0\n",
       "Romance         7444.0\n",
       "Fantasy         5993.0\n",
       "Children        4331.0\n",
       "Mystery         3452.0\n",
       "Animation       3066.0\n",
       "IMAX            2492.0\n",
       "Horror          2215.0\n",
       "War             2113.0\n",
       "Musical         1822.0\n",
       "Western          900.0\n",
       "FilmNoir         291.0\n",
       "Documentary      108.0\n",
       "dtype: float64"
      ]
     },
     "execution_count": 418,
     "metadata": {},
     "output_type": "execute_result"
    }
   ],
   "source": [
    "# solucão\n",
    "# definindo variável com soma de notas por gênero e classificando do maior para o menor\n",
    "votos_por_genero_por_filme_sum = votos_por_genero_por_filme.sum().sort_values(ascending = False)\n",
    "votos_por_genero_por_filme_sum"
   ]
  },
  {
   "cell_type": "code",
   "execution_count": 419,
   "metadata": {},
   "outputs": [
    {
     "data": {
      "text/plain": [
       "Text(0.5, 1.0, 'Filmes por gênero')"
      ]
     },
     "execution_count": 419,
     "metadata": {},
     "output_type": "execute_result"
    },
    {
     "data": {
      "image/png": "[encoded data removed]",
      "text/plain": [
       "<Figure size 864x432 with 1 Axes>"
      ]
     },
     "metadata": {},
     "output_type": "display_data"
    }
   ],
   "source": [
    "# solução\n",
    "# gráfico de barras\n",
    "votos_por_genero_por_filme_bar = votos_por_genero_por_filme_sum.plot(kind = 'bar')\n",
    "votos_por_genero_por_filme_bar.figure.set_size_inches(12,6)\n",
    "votos_por_genero_por_filme_bar.set_xlabel('Genêro de filme', fontsize = 14)\n",
    "votos_por_genero_por_filme_bar.set_ylabel('Quantidade de votos', fontsize = 14)\n",
    "votos_por_genero_por_filme_bar.set_title('Filmes por gênero',fontsize = 16)\n"
   ]
  },
  {
   "cell_type": "markdown",
   "metadata": {},
   "source": [
    "## Pergunta : votos por filme por genero\n",
    "\n",
    "Queremos entender a quantidade de votos em relação a quantidade de filmes existentes naquele genero.\n",
    "\n",
    "Por exemplo: \n",
    "- se temos 1000 votos de `Ação` e 10 filmes desse genero, foram 100 votos por filme nesse genero.\n",
    "- se o gênero `Documentário` tem 2 filmes e 500 votos, ele tem 250 votos por filme nesse gênero.\n",
    "\n",
    "Queremos entender isso, a \"popularidade\" média de um filme em cada categoria, isto é, o número de votos dividido pelo número de filmes, organizado para cada categoria.\n",
    "\n",
    "- Você já possui o número de votos por genero\n",
    "- Calcule o número de votos por genero dividido pelo total de filmes por genero\n",
    "- Ordene do maior para o menor\n",
    "- Plote um gráfico para visualizarmos esses dados"
   ]
  },
  {
   "cell_type": "code",
   "execution_count": 420,
   "metadata": {},
   "outputs": [
    {
     "data": {
      "text/plain": [
       "War            111.210526\n",
       "Crime           99.413793\n",
       "Adventure       99.371212\n",
       "Thriller        98.404959\n",
       "SciFi           97.706522\n",
       "Action          95.939024\n",
       "Animation       95.812500\n",
       "Drama           93.042169\n",
       "Children        92.148936\n",
       "Mystery         90.842105\n",
       "Fantasy         90.803030\n",
       "IMAX            89.000000\n",
       "Romance         87.576471\n",
       "Musical         86.761905\n",
       "Horror          85.192308\n",
       "Comedy          84.696133\n",
       "Western         75.000000\n",
       "FilmNoir        72.750000\n",
       "Documentary     54.000000\n",
       "dtype: float64"
      ]
     },
     "execution_count": 420,
     "metadata": {},
     "output_type": "execute_result"
    }
   ],
   "source": [
    "# solucao código\n",
    "# calculando quantidade de votos dividido pelo total de filmes em cada gênero\n",
    "media_votos_por_filme_por_genero = (votos_por_genero_por_filme / generos_sum).sum().sort_values(ascending = False)\n",
    "media_votos_por_filme_por_genero"
   ]
  },
  {
   "cell_type": "code",
   "execution_count": 421,
   "metadata": {},
   "outputs": [
    {
     "data": {
      "text/plain": [
       "Text(0.5, 1.0, 'Média de votos por gênero de filmes')"
      ]
     },
     "execution_count": 421,
     "metadata": {},
     "output_type": "execute_result"
    },
    {
     "data": {
      "image/png": "[encoded data removed]",
      "text/plain": [
       "<Figure size 864x432 with 1 Axes>"
      ]
     },
     "metadata": {},
     "output_type": "display_data"
    }
   ],
   "source": [
    "# solução com visualização \n",
    "# gráfico de barras\n",
    "media_votos_por_filme_por_genero_bar = media_votos_por_filme_por_genero.plot(kind = 'bar')\n",
    "media_votos_por_filme_por_genero_bar.figure.set_size_inches(12,6)\n",
    "media_votos_por_filme_por_genero_bar.set_xlabel('Gênero de filmes', fontsize = 14)\n",
    "media_votos_por_filme_por_genero_bar.set_ylabel('Quantidade de votos', fontsize = 14)\n",
    "media_votos_por_filme_por_genero_bar.set_title('Média de votos por gênero de filmes',fontsize = 16)"
   ]
  },
  {
   "cell_type": "markdown",
   "metadata": {},
   "source": [
    "## Pergunta: Olhando as 3 últimas visualizações o que você conclui sobre os generos `Action` e `War`?"
   ]
  },
  {
   "cell_type": "markdown",
   "metadata": {},
   "source": [
    "### Solução (texto livre): A gênero \"War\" possui muito menos votos e quantidade de filmes em comparação ao gênero \"Action\". Porém, em média os filmes do gênero \"War\" recebem mais votos em comparação ao gênero \"Action\".\n",
    "    \n",
    "    "
   ]
  },
  {
   "cell_type": "markdown",
   "metadata": {},
   "source": [
    "## Pergunta: Crie 2 boxplots no mesmo plot comparando a coluna `total_de_votos` dos filmes de categoria `Horror` e `Adventure`  \n",
    "\n",
    "Dica:\n",
    "\n",
    "- as vezes é mais fácil usar o boxplot do matplotlib ao invés do seaborn\n",
    "- plt.boxplot suporta o parâmetro labels com uma lista de nomes para cada boxplot plotado"
   ]
  },
  {
   "cell_type": "code",
   "execution_count": 422,
   "metadata": {},
   "outputs": [],
   "source": [
    "#importanto matplotlib\n",
    "import matplotlib.pyplot as plt"
   ]
  },
  {
   "cell_type": "code",
   "execution_count": 423,
   "metadata": {},
   "outputs": [],
   "source": [
    "# definindo variáveis para selecionar apenas linhas em que os gêneros sejam maior que 0\n",
    "total_action = votos_por_genero_por_filme[votos_por_genero_por_filme['Action'] > 0]\n",
    "total_adventure = votos_por_genero_por_filme[votos_por_genero_por_filme['Adventure'] > 0]\n",
    "total_animation = votos_por_genero_por_filme[votos_por_genero_por_filme['Animation'] > 0]\n",
    "total_children = votos_por_genero_por_filme[votos_por_genero_por_filme['Children'] > 0]\n",
    "total_comedy = votos_por_genero_por_filme[votos_por_genero_por_filme['Comedy'] > 0]\n",
    "total_crime = votos_por_genero_por_filme[votos_por_genero_por_filme['Crime'] > 0]\n",
    "total_documentary = votos_por_genero_por_filme[votos_por_genero_por_filme['Documentary'] > 0]\n",
    "total_drama = votos_por_genero_por_filme[votos_por_genero_por_filme['Drama'] > 0]\n",
    "total_fantasy = votos_por_genero_por_filme[votos_por_genero_por_filme['Fantasy'] > 0]\n",
    "total_filmnoir = votos_por_genero_por_filme[votos_por_genero_por_filme['FilmNoir'] > 0]\n",
    "total_horror = votos_por_genero_por_filme[votos_por_genero_por_filme['Horror'] > 0]\n",
    "total_imax = votos_por_genero_por_filme[votos_por_genero_por_filme['IMAX'] > 0]\n",
    "total_musical = votos_por_genero_por_filme[votos_por_genero_por_filme['Musical'] > 0]\n",
    "total_mystery = votos_por_genero_por_filme[votos_por_genero_por_filme['Mystery'] > 0]\n",
    "total_romance = votos_por_genero_por_filme[votos_por_genero_por_filme['Romance'] > 0]\n",
    "total_scifi = votos_por_genero_por_filme[votos_por_genero_por_filme['SciFi'] > 0]\n",
    "total_thriller = votos_por_genero_por_filme[votos_por_genero_por_filme['Thriller'] > 0]\n",
    "total_war = votos_por_genero_por_filme[votos_por_genero_por_filme['War'] > 0]\n",
    "total_western = votos_por_genero_por_filme[votos_por_genero_por_filme['Western'] > 0]\n",
    "total_votos_tratado = ['total_action','total_adventure','total_animation','total_children',\n",
    "                       'total_comedy','total_crime','total_documentary','total_drama','total_fantasy',\n",
    "                       'total_filmnoir','total_horror','total_imax','total_musical','total_mystery',\n",
    "                       'total_romance','total_scifi','total_thriller','total_war','total_western']\n"
   ]
  },
  {
   "cell_type": "code",
   "execution_count": 424,
   "metadata": {},
   "outputs": [
    {
     "data": {
      "text/plain": [
       "Text(0.5, 1.0, 'Distribuição de total de votos para os gêneros Horror e Adventure')"
      ]
     },
     "execution_count": 424,
     "metadata": {},
     "output_type": "execute_result"
    },
    {
     "data": {
      "image/png": "[encoded data removed]",
      "text/plain": [
       "<Figure size 432x288 with 1 Axes>"
      ]
     },
     "metadata": {},
     "output_type": "display_data"
    }
   ],
   "source": [
    "# solução:\n",
    "# plotando gráfico boxplot para os filmes do gênero Horror e Adventure\n",
    "plt.boxplot([total_horror['Horror'], total_adventure['Adventure']], labels = ['Horror', 'Adventure'])\n",
    "plt.title('Distribuição de total de votos para os gêneros Horror e Adventure')"
   ]
  },
  {
   "cell_type": "markdown",
   "metadata": {},
   "source": [
    "## Pergunta: mostre agora um boxplot para cada uma das categorias\n",
    "\n",
    "Dica:\n",
    "- use generos.columns para acessar todos os gêneros\n",
    "- já removemos os hífens dos nomes das colunas quando criamos as colunas de gêneros\n",
    "- plt (pyplot) do matplotlib suporta a função xticks(rotation=90) para rotacionar os labels"
   ]
  },
  {
   "cell_type": "code",
   "execution_count": 425,
   "metadata": {},
   "outputs": [
    {
     "data": {
      "text/plain": [
       "Index(['Action', 'Adventure', 'Animation', 'Children', 'Comedy', 'Crime',\n",
       "       'Documentary', 'Drama', 'Fantasy', 'FilmNoir', 'Horror', 'IMAX',\n",
       "       'Musical', 'Mystery', 'Romance', 'SciFi', 'Thriller', 'War', 'Western'],\n",
       "      dtype='object')"
      ]
     },
     "execution_count": 425,
     "metadata": {},
     "output_type": "execute_result"
    }
   ],
   "source": [
    "generos.columns"
   ]
  },
  {
   "cell_type": "code",
   "execution_count": 426,
   "metadata": {},
   "outputs": [
    {
     "data": {
      "image/png": "[encoded data removed]",
      "text/plain": [
       "<Figure size 432x288 with 1 Axes>"
      ]
     },
     "metadata": {},
     "output_type": "display_data"
    }
   ],
   "source": [
    "# plotando o boxplot\n",
    "total_de_votos_box = plt.boxplot([total_action['Action'],total_adventure['Adventure'],total_animation['Animation'],total_children['Children'],\n",
    "                       total_comedy['Comedy'],total_crime['Crime'],total_documentary['Documentary'],total_drama['Drama'],\n",
    "                       total_fantasy['Fantasy'],total_filmnoir['FilmNoir'],total_horror['Horror'],total_imax['IMAX'],\n",
    "                       total_musical['Musical'],total_mystery['Mystery'],total_romance['Romance'],\n",
    "                       total_scifi['SciFi'],total_thriller['Thriller'],total_war['War'],total_western['Western']], \n",
    "                       labels = ['Action','Adventure', 'Animation', 'Children', 'Comedy', 'Crime',\n",
    "                       'Documentary', 'Drama', 'Fantasy', 'FilmNoir', 'Horror', 'IMAX',\n",
    "                       'Musical', 'Mystery', 'Romance', 'SciFi', 'Thriller', 'War', 'Western'],vert = False,)"
   ]
  },
  {
   "cell_type": "markdown",
   "metadata": {},
   "source": [
    "## Pergunta: desejo criar um filme com somente um dos gêneros: `Horror` ou `Adventure`. Quero ter uma chance maior de ter um faturamento que pague minhas contas, mesmo que não seja um super sucesso absurdo de vendas. Qual dos 2 gêneros você sugere?"
   ]
  },
  {
   "cell_type": "markdown",
   "metadata": {},
   "source": [
    "### Solução: Baseado no total de votos, filmes da categoria \"adventure\" possuem um desempenho melhor em comparação a filmes \"Horror\". \n",
    "    \n"
   ]
  },
  {
   "cell_type": "markdown",
   "metadata": {},
   "source": [
    "## Pergunta: nossa análise foi até então visual. Aplique um teste estatístico para verificar se existe significância estatística na distribuição dos votos dos filmes de `Adventure` e `Horror`. Sua recomendação continua a mesma? Explique.\n",
    "\n",
    "Passos:\n",
    "\n",
    "- visualize a distribuição de ambas através de histogramas\n",
    "- se suspeitar normalidade na distribuição, faça um teste de normalidade para ambas\n",
    "- aplique um teste adequado de comparação das distribuições\n",
    "- explique o resultado encontrado\n",
    "- utilize p=0.05"
   ]
  },
  {
   "cell_type": "code",
   "execution_count": 427,
   "metadata": {},
   "outputs": [
    {
     "data": {
      "text/plain": [
       "Text(0.5, 1.0, 'Histograma de filmes de aventura')"
      ]
     },
     "execution_count": 427,
     "metadata": {},
     "output_type": "execute_result"
    },
    {
     "data": {
      "image/png": "[encoded data removed]",
      "text/plain": [
       "<Figure size 864x432 with 1 Axes>"
      ]
     },
     "metadata": {},
     "output_type": "display_data"
    }
   ],
   "source": [
    "# solucao histograma de aventura\n",
    "total_adventure_hist = sns.distplot(total_adventure['Adventure'], norm_hist = False, kde = True)\n",
    "total_adventure_hist.figure.set_size_inches(12,6)\n",
    "total_adventure_hist.set_xlabel('Quantidade de votos', fontsize = 14)\n",
    "total_adventure_hist.set_ylabel('Frequência', fontsize = 14)\n",
    "total_adventure_hist.set_title('Histograma de filmes de aventura',fontsize = 16)"
   ]
  },
  {
   "cell_type": "code",
   "execution_count": 428,
   "metadata": {},
   "outputs": [
    {
     "data": {
      "text/plain": [
       "Text(0.5, 1.0, 'Histograma de filmes de horror')"
      ]
     },
     "execution_count": 428,
     "metadata": {},
     "output_type": "execute_result"
    },
    {
     "data": {
      "image/png": "[encoded data removed]",
      "text/plain": [
       "<Figure size 864x432 with 1 Axes>"
      ]
     },
     "metadata": {},
     "output_type": "display_data"
    }
   ],
   "source": [
    "# solucao histograma de horror\n",
    "total_horror_hist = sns.distplot(total_horror['Horror'], norm_hist = False, kde = True)\n",
    "total_horror_hist.figure.set_size_inches(12,6)\n",
    "total_horror_hist.set_xlabel('Quantidade de votos', fontsize = 14)\n",
    "total_horror_hist.set_ylabel('Frequência', fontsize = 14)\n",
    "total_horror_hist.set_title('Histograma de filmes de horror',fontsize = 16)"
   ]
  },
  {
   "cell_type": "code",
   "execution_count": 429,
   "metadata": {},
   "outputs": [],
   "source": [
    "# solucao teste de normalidade ou justificativa para nao utiliza-lo"
   ]
  },
  {
   "cell_type": "code",
   "execution_count": 430,
   "metadata": {},
   "outputs": [],
   "source": [
    "# importando stats da biblioteca scipy\n",
    "import scipy.stats as stats"
   ]
  },
  {
   "cell_type": "code",
   "execution_count": 431,
   "metadata": {},
   "outputs": [
    {
     "name": "stdout",
     "output_type": "stream",
     "text": [
      "O valor estatístico de Shapiro-Wilk é 0.509732723236084\n",
      "O valor de p de Shapiro-Wilk é 0.0\n"
     ]
    }
   ],
   "source": [
    "# testando normalidade do conjunto de dados de filmes de adventure\n",
    "shapiro_stat, shapiro_p_value = stats.shapiro(total_adventure)\n",
    "print(\"O valor estatístico de Shapiro-Wilk é \" + str(shapiro_stat))\n",
    "print(\"O valor de p de Shapiro-Wilk é \" + str(shapiro_p_value))"
   ]
  },
  {
   "cell_type": "code",
   "execution_count": 432,
   "metadata": {},
   "outputs": [
    {
     "name": "stdout",
     "output_type": "stream",
     "text": [
      "Com 95% de confiança, os dados não seguem uma distribuição normal segundo o teste de Shapiro-Wilk\n"
     ]
    }
   ],
   "source": [
    "# conclusão do teste de normalidade de filmes de adventure\n",
    "if shapiro_p_value > 0.05:\n",
    "    print(\"Com 95% de confiança, os dados seguem uma distribuição normal segundo o teste de Shapiro-Wilk\")\n",
    "else:\n",
    "    print(\"Com 95% de confiança, os dados não seguem uma distribuição normal segundo o teste de Shapiro-Wilk\")"
   ]
  },
  {
   "cell_type": "code",
   "execution_count": 433,
   "metadata": {},
   "outputs": [
    {
     "name": "stdout",
     "output_type": "stream",
     "text": [
      "O valor estatístico de Shapiro-Wilk é 0.42745596170425415\n",
      "O valor de p de Shapiro-Wilk é 8.988762403025343e-37\n"
     ]
    }
   ],
   "source": [
    "# testando normalidade do conjunto de dados de filmes de horror\n",
    "shapiro_stat, shapiro_p_value = stats.shapiro(total_horror)\n",
    "print(\"O valor estatístico de Shapiro-Wilk é \" + str(shapiro_stat))\n",
    "print(\"O valor de p de Shapiro-Wilk é \" + str(shapiro_p_value))"
   ]
  },
  {
   "cell_type": "code",
   "execution_count": 434,
   "metadata": {},
   "outputs": [
    {
     "name": "stdout",
     "output_type": "stream",
     "text": [
      "Com 95% de confiança, os dados não seguem uma distribuição normal segundo o teste de Shapiro-Wilk\n"
     ]
    }
   ],
   "source": [
    "# conclusão do teste de normalidade de filmes de horror\n",
    "if shapiro_p_value > 0.05:\n",
    "    print(\"Com 95% de confiança, os dados seguem uma distribuição normal segundo o teste de Shapiro-Wilk\")\n",
    "else:\n",
    "    print(\"Com 95% de confiança, os dados não seguem uma distribuição normal segundo o teste de Shapiro-Wilk\")"
   ]
  },
  {
   "cell_type": "code",
   "execution_count": 435,
   "metadata": {},
   "outputs": [
    {
     "name": "stdout",
     "output_type": "stream",
     "text": [
      "O valor do tstatic é 0.7794996692315427\n",
      "O valor de p é 0.4407800704919064\n"
     ]
    }
   ],
   "source": [
    "# aplicando um teste de comparação das distribuições\n",
    "# importando t-test from statsmodels e aplicando o teste na minha hipótese\n",
    "from scipy.stats import ttest_ind\n",
    "statstic, pvalue = ttest_ind(total_adventure.mean(), total_horror.mean())\n",
    "print(\"O valor do tstatic é \" + str(statstic))\n",
    "print(\"O valor de p é \" + str(pvalue))"
   ]
  },
  {
   "cell_type": "code",
   "execution_count": 436,
   "metadata": {},
   "outputs": [
    {
     "name": "stdout",
     "output_type": "stream",
     "text": [
      "Com 95% de confiança, os filmes do gênero adventure possuem um público maior em relação aos filmes de horror\n"
     ]
    }
   ],
   "source": [
    "# conclusão da minha hipótese\n",
    "if pvalue > 0.05:\n",
    "    print(\"Com 95% de confiança, os filmes do gênero adventure possuem um público maior em relação aos filmes de horror\")\n",
    "else:\n",
    "    print(\"Com 95% de confiança, os filmes do gênero adventure não possuem um público maior em relação aos filmes de horror\")"
   ]
  },
  {
   "cell_type": "markdown",
   "metadata": {},
   "source": [
    "### Solução (explique sua conclusão): Utilizando o t-test, foi possível confirmar estatísticamente a hipótese inicial de que filmes do gênero Adventure possuem mais votos em média, do que filmes do gênero horror. Logo, assuminos que o gênero adventure possui um público maior.\n",
    "### Podemos chegar essa conclusão, pois o p-value é superior a o intervalo de confiança estipulado de 95% (p-value = 0.05)\n",
    "\n"
   ]
  },
  {
   "cell_type": "markdown",
   "metadata": {},
   "source": [
    "## Pergunta: Faça os mesmos boxplots para as notas médias (`nota_media`) dos gêneros `Adventure` e `Horror`."
   ]
  },
  {
   "cell_type": "code",
   "execution_count": 437,
   "metadata": {},
   "outputs": [
    {
     "data": {
      "text/html": [
       "<div>\n",
       "<style scoped>\n",
       "    .dataframe tbody tr th:only-of-type {\n",
       "        vertical-align: middle;\n",
       "    }\n",
       "\n",
       "    .dataframe tbody tr th {\n",
       "        vertical-align: top;\n",
       "    }\n",
       "\n",
       "    .dataframe thead th {\n",
       "        text-align: right;\n",
       "    }\n",
       "</style>\n",
       "<table border=\"1\" class=\"dataframe\">\n",
       "  <thead>\n",
       "    <tr style=\"text-align: right;\">\n",
       "      <th></th>\n",
       "      <th>usuarioId</th>\n",
       "      <th>filmeId</th>\n",
       "      <th>nota</th>\n",
       "      <th>momento</th>\n",
       "    </tr>\n",
       "  </thead>\n",
       "  <tbody>\n",
       "    <tr>\n",
       "      <th>0</th>\n",
       "      <td>1</td>\n",
       "      <td>1</td>\n",
       "      <td>4.0</td>\n",
       "      <td>964982703</td>\n",
       "    </tr>\n",
       "    <tr>\n",
       "      <th>1</th>\n",
       "      <td>1</td>\n",
       "      <td>3</td>\n",
       "      <td>4.0</td>\n",
       "      <td>964981247</td>\n",
       "    </tr>\n",
       "    <tr>\n",
       "      <th>2</th>\n",
       "      <td>1</td>\n",
       "      <td>6</td>\n",
       "      <td>4.0</td>\n",
       "      <td>964982224</td>\n",
       "    </tr>\n",
       "    <tr>\n",
       "      <th>3</th>\n",
       "      <td>1</td>\n",
       "      <td>47</td>\n",
       "      <td>5.0</td>\n",
       "      <td>964983815</td>\n",
       "    </tr>\n",
       "    <tr>\n",
       "      <th>4</th>\n",
       "      <td>1</td>\n",
       "      <td>50</td>\n",
       "      <td>5.0</td>\n",
       "      <td>964982931</td>\n",
       "    </tr>\n",
       "  </tbody>\n",
       "</table>\n",
       "</div>"
      ],
      "text/plain": [
       "   usuarioId  filmeId  nota    momento\n",
       "0          1        1   4.0  964982703\n",
       "1          1        3   4.0  964981247\n",
       "2          1        6   4.0  964982224\n",
       "3          1       47   5.0  964983815\n",
       "4          1       50   5.0  964982931"
      ]
     },
     "execution_count": 437,
     "metadata": {},
     "output_type": "execute_result"
    }
   ],
   "source": [
    "notas.head()"
   ]
  },
  {
   "cell_type": "code",
   "execution_count": 438,
   "metadata": {},
   "outputs": [
    {
     "data": {
      "text/html": [
       "<div>\n",
       "<style scoped>\n",
       "    .dataframe tbody tr th:only-of-type {\n",
       "        vertical-align: middle;\n",
       "    }\n",
       "\n",
       "    .dataframe tbody tr th {\n",
       "        vertical-align: top;\n",
       "    }\n",
       "\n",
       "    .dataframe thead th {\n",
       "        text-align: right;\n",
       "    }\n",
       "</style>\n",
       "<table border=\"1\" class=\"dataframe\">\n",
       "  <thead>\n",
       "    <tr style=\"text-align: right;\">\n",
       "      <th></th>\n",
       "      <th>titulo</th>\n",
       "      <th>ano_de_lancamento</th>\n",
       "      <th>nota_media</th>\n",
       "      <th>total_de_votos</th>\n",
       "      <th>Action</th>\n",
       "      <th>Adventure</th>\n",
       "      <th>Animation</th>\n",
       "      <th>Children</th>\n",
       "      <th>Comedy</th>\n",
       "      <th>Crime</th>\n",
       "      <th>...</th>\n",
       "      <th>FilmNoir</th>\n",
       "      <th>Horror</th>\n",
       "      <th>IMAX</th>\n",
       "      <th>Musical</th>\n",
       "      <th>Mystery</th>\n",
       "      <th>Romance</th>\n",
       "      <th>SciFi</th>\n",
       "      <th>Thriller</th>\n",
       "      <th>War</th>\n",
       "      <th>Western</th>\n",
       "    </tr>\n",
       "    <tr>\n",
       "      <th>filmeId</th>\n",
       "      <th></th>\n",
       "      <th></th>\n",
       "      <th></th>\n",
       "      <th></th>\n",
       "      <th></th>\n",
       "      <th></th>\n",
       "      <th></th>\n",
       "      <th></th>\n",
       "      <th></th>\n",
       "      <th></th>\n",
       "      <th></th>\n",
       "      <th></th>\n",
       "      <th></th>\n",
       "      <th></th>\n",
       "      <th></th>\n",
       "      <th></th>\n",
       "      <th></th>\n",
       "      <th></th>\n",
       "      <th></th>\n",
       "      <th></th>\n",
       "      <th></th>\n",
       "    </tr>\n",
       "  </thead>\n",
       "  <tbody>\n",
       "    <tr>\n",
       "      <th>1</th>\n",
       "      <td>Toy Story (1995)</td>\n",
       "      <td>1995.0</td>\n",
       "      <td>3.920930</td>\n",
       "      <td>215.0</td>\n",
       "      <td>0</td>\n",
       "      <td>1</td>\n",
       "      <td>1</td>\n",
       "      <td>1</td>\n",
       "      <td>1</td>\n",
       "      <td>0</td>\n",
       "      <td>...</td>\n",
       "      <td>0</td>\n",
       "      <td>0</td>\n",
       "      <td>0</td>\n",
       "      <td>0</td>\n",
       "      <td>0</td>\n",
       "      <td>0</td>\n",
       "      <td>0</td>\n",
       "      <td>0</td>\n",
       "      <td>0</td>\n",
       "      <td>0</td>\n",
       "    </tr>\n",
       "    <tr>\n",
       "      <th>2</th>\n",
       "      <td>Jumanji (1995)</td>\n",
       "      <td>1995.0</td>\n",
       "      <td>3.431818</td>\n",
       "      <td>110.0</td>\n",
       "      <td>0</td>\n",
       "      <td>1</td>\n",
       "      <td>0</td>\n",
       "      <td>1</td>\n",
       "      <td>0</td>\n",
       "      <td>0</td>\n",
       "      <td>...</td>\n",
       "      <td>0</td>\n",
       "      <td>0</td>\n",
       "      <td>0</td>\n",
       "      <td>0</td>\n",
       "      <td>0</td>\n",
       "      <td>0</td>\n",
       "      <td>0</td>\n",
       "      <td>0</td>\n",
       "      <td>0</td>\n",
       "      <td>0</td>\n",
       "    </tr>\n",
       "    <tr>\n",
       "      <th>3</th>\n",
       "      <td>Grumpier Old Men (1995)</td>\n",
       "      <td>1995.0</td>\n",
       "      <td>3.259615</td>\n",
       "      <td>52.0</td>\n",
       "      <td>0</td>\n",
       "      <td>0</td>\n",
       "      <td>0</td>\n",
       "      <td>0</td>\n",
       "      <td>1</td>\n",
       "      <td>0</td>\n",
       "      <td>...</td>\n",
       "      <td>0</td>\n",
       "      <td>0</td>\n",
       "      <td>0</td>\n",
       "      <td>0</td>\n",
       "      <td>0</td>\n",
       "      <td>1</td>\n",
       "      <td>0</td>\n",
       "      <td>0</td>\n",
       "      <td>0</td>\n",
       "      <td>0</td>\n",
       "    </tr>\n",
       "    <tr>\n",
       "      <th>6</th>\n",
       "      <td>Heat (1995)</td>\n",
       "      <td>1995.0</td>\n",
       "      <td>3.946078</td>\n",
       "      <td>102.0</td>\n",
       "      <td>1</td>\n",
       "      <td>0</td>\n",
       "      <td>0</td>\n",
       "      <td>0</td>\n",
       "      <td>0</td>\n",
       "      <td>1</td>\n",
       "      <td>...</td>\n",
       "      <td>0</td>\n",
       "      <td>0</td>\n",
       "      <td>0</td>\n",
       "      <td>0</td>\n",
       "      <td>0</td>\n",
       "      <td>0</td>\n",
       "      <td>0</td>\n",
       "      <td>1</td>\n",
       "      <td>0</td>\n",
       "      <td>0</td>\n",
       "    </tr>\n",
       "    <tr>\n",
       "      <th>7</th>\n",
       "      <td>Sabrina (1995)</td>\n",
       "      <td>1995.0</td>\n",
       "      <td>3.185185</td>\n",
       "      <td>54.0</td>\n",
       "      <td>0</td>\n",
       "      <td>0</td>\n",
       "      <td>0</td>\n",
       "      <td>0</td>\n",
       "      <td>1</td>\n",
       "      <td>0</td>\n",
       "      <td>...</td>\n",
       "      <td>0</td>\n",
       "      <td>0</td>\n",
       "      <td>0</td>\n",
       "      <td>0</td>\n",
       "      <td>0</td>\n",
       "      <td>1</td>\n",
       "      <td>0</td>\n",
       "      <td>0</td>\n",
       "      <td>0</td>\n",
       "      <td>0</td>\n",
       "    </tr>\n",
       "  </tbody>\n",
       "</table>\n",
       "<p>5 rows × 23 columns</p>\n",
       "</div>"
      ],
      "text/plain": [
       "                          titulo  ano_de_lancamento  nota_media  \\\n",
       "filmeId                                                           \n",
       "1               Toy Story (1995)             1995.0    3.920930   \n",
       "2                 Jumanji (1995)             1995.0    3.431818   \n",
       "3        Grumpier Old Men (1995)             1995.0    3.259615   \n",
       "6                    Heat (1995)             1995.0    3.946078   \n",
       "7                 Sabrina (1995)             1995.0    3.185185   \n",
       "\n",
       "         total_de_votos  Action  Adventure  Animation  Children  Comedy  \\\n",
       "filmeId                                                                   \n",
       "1                 215.0       0          1          1         1       1   \n",
       "2                 110.0       0          1          0         1       0   \n",
       "3                  52.0       0          0          0         0       1   \n",
       "6                 102.0       1          0          0         0       0   \n",
       "7                  54.0       0          0          0         0       1   \n",
       "\n",
       "         Crime  ...  FilmNoir  Horror  IMAX  Musical  Mystery  Romance  SciFi  \\\n",
       "filmeId         ...                                                             \n",
       "1            0  ...         0       0     0        0        0        0      0   \n",
       "2            0  ...         0       0     0        0        0        0      0   \n",
       "3            0  ...         0       0     0        0        0        1      0   \n",
       "6            1  ...         0       0     0        0        0        0      0   \n",
       "7            0  ...         0       0     0        0        0        1      0   \n",
       "\n",
       "         Thriller  War  Western  \n",
       "filmeId                          \n",
       "1               0    0        0  \n",
       "2               0    0        0  \n",
       "3               0    0        0  \n",
       "6               1    0        0  \n",
       "7               0    0        0  \n",
       "\n",
       "[5 rows x 23 columns]"
      ]
     },
     "execution_count": 438,
     "metadata": {},
     "output_type": "execute_result"
    }
   ],
   "source": [
    "filmes.head()"
   ]
  },
  {
   "cell_type": "code",
   "execution_count": 439,
   "metadata": {},
   "outputs": [
    {
     "data": {
      "text/html": [
       "<div>\n",
       "<style scoped>\n",
       "    .dataframe tbody tr th:only-of-type {\n",
       "        vertical-align: middle;\n",
       "    }\n",
       "\n",
       "    .dataframe tbody tr th {\n",
       "        vertical-align: top;\n",
       "    }\n",
       "\n",
       "    .dataframe thead th {\n",
       "        text-align: right;\n",
       "    }\n",
       "</style>\n",
       "<table border=\"1\" class=\"dataframe\">\n",
       "  <thead>\n",
       "    <tr style=\"text-align: right;\">\n",
       "      <th></th>\n",
       "      <th>Action</th>\n",
       "      <th>Adventure</th>\n",
       "      <th>Animation</th>\n",
       "      <th>Children</th>\n",
       "      <th>Comedy</th>\n",
       "      <th>Crime</th>\n",
       "      <th>Documentary</th>\n",
       "      <th>Drama</th>\n",
       "      <th>Fantasy</th>\n",
       "      <th>FilmNoir</th>\n",
       "      <th>Horror</th>\n",
       "      <th>IMAX</th>\n",
       "      <th>Musical</th>\n",
       "      <th>Mystery</th>\n",
       "      <th>Romance</th>\n",
       "      <th>SciFi</th>\n",
       "      <th>Thriller</th>\n",
       "      <th>War</th>\n",
       "      <th>Western</th>\n",
       "    </tr>\n",
       "  </thead>\n",
       "  <tbody>\n",
       "    <tr>\n",
       "      <th>0</th>\n",
       "      <td>0.000000</td>\n",
       "      <td>3.920930</td>\n",
       "      <td>3.92093</td>\n",
       "      <td>3.920930</td>\n",
       "      <td>3.920930</td>\n",
       "      <td>0.000000</td>\n",
       "      <td>0.0</td>\n",
       "      <td>0.0</td>\n",
       "      <td>3.920930</td>\n",
       "      <td>0.0</td>\n",
       "      <td>0.0</td>\n",
       "      <td>0.0</td>\n",
       "      <td>0.0</td>\n",
       "      <td>0.0</td>\n",
       "      <td>0.000000</td>\n",
       "      <td>0.0</td>\n",
       "      <td>0.000000</td>\n",
       "      <td>0.0</td>\n",
       "      <td>0.0</td>\n",
       "    </tr>\n",
       "    <tr>\n",
       "      <th>1</th>\n",
       "      <td>0.000000</td>\n",
       "      <td>3.431818</td>\n",
       "      <td>0.00000</td>\n",
       "      <td>3.431818</td>\n",
       "      <td>0.000000</td>\n",
       "      <td>0.000000</td>\n",
       "      <td>0.0</td>\n",
       "      <td>0.0</td>\n",
       "      <td>3.431818</td>\n",
       "      <td>0.0</td>\n",
       "      <td>0.0</td>\n",
       "      <td>0.0</td>\n",
       "      <td>0.0</td>\n",
       "      <td>0.0</td>\n",
       "      <td>0.000000</td>\n",
       "      <td>0.0</td>\n",
       "      <td>0.000000</td>\n",
       "      <td>0.0</td>\n",
       "      <td>0.0</td>\n",
       "    </tr>\n",
       "    <tr>\n",
       "      <th>2</th>\n",
       "      <td>0.000000</td>\n",
       "      <td>0.000000</td>\n",
       "      <td>0.00000</td>\n",
       "      <td>0.000000</td>\n",
       "      <td>3.259615</td>\n",
       "      <td>0.000000</td>\n",
       "      <td>0.0</td>\n",
       "      <td>0.0</td>\n",
       "      <td>0.000000</td>\n",
       "      <td>0.0</td>\n",
       "      <td>0.0</td>\n",
       "      <td>0.0</td>\n",
       "      <td>0.0</td>\n",
       "      <td>0.0</td>\n",
       "      <td>3.259615</td>\n",
       "      <td>0.0</td>\n",
       "      <td>0.000000</td>\n",
       "      <td>0.0</td>\n",
       "      <td>0.0</td>\n",
       "    </tr>\n",
       "    <tr>\n",
       "      <th>3</th>\n",
       "      <td>3.946078</td>\n",
       "      <td>0.000000</td>\n",
       "      <td>0.00000</td>\n",
       "      <td>0.000000</td>\n",
       "      <td>0.000000</td>\n",
       "      <td>3.946078</td>\n",
       "      <td>0.0</td>\n",
       "      <td>0.0</td>\n",
       "      <td>0.000000</td>\n",
       "      <td>0.0</td>\n",
       "      <td>0.0</td>\n",
       "      <td>0.0</td>\n",
       "      <td>0.0</td>\n",
       "      <td>0.0</td>\n",
       "      <td>0.000000</td>\n",
       "      <td>0.0</td>\n",
       "      <td>3.946078</td>\n",
       "      <td>0.0</td>\n",
       "      <td>0.0</td>\n",
       "    </tr>\n",
       "    <tr>\n",
       "      <th>4</th>\n",
       "      <td>0.000000</td>\n",
       "      <td>0.000000</td>\n",
       "      <td>0.00000</td>\n",
       "      <td>0.000000</td>\n",
       "      <td>3.185185</td>\n",
       "      <td>0.000000</td>\n",
       "      <td>0.0</td>\n",
       "      <td>0.0</td>\n",
       "      <td>0.000000</td>\n",
       "      <td>0.0</td>\n",
       "      <td>0.0</td>\n",
       "      <td>0.0</td>\n",
       "      <td>0.0</td>\n",
       "      <td>0.0</td>\n",
       "      <td>3.185185</td>\n",
       "      <td>0.0</td>\n",
       "      <td>0.000000</td>\n",
       "      <td>0.0</td>\n",
       "      <td>0.0</td>\n",
       "    </tr>\n",
       "  </tbody>\n",
       "</table>\n",
       "</div>"
      ],
      "text/plain": [
       "     Action  Adventure  Animation  Children    Comedy     Crime  Documentary  \\\n",
       "0  0.000000   3.920930    3.92093  3.920930  3.920930  0.000000          0.0   \n",
       "1  0.000000   3.431818    0.00000  3.431818  0.000000  0.000000          0.0   \n",
       "2  0.000000   0.000000    0.00000  0.000000  3.259615  0.000000          0.0   \n",
       "3  3.946078   0.000000    0.00000  0.000000  0.000000  3.946078          0.0   \n",
       "4  0.000000   0.000000    0.00000  0.000000  3.185185  0.000000          0.0   \n",
       "\n",
       "   Drama   Fantasy  FilmNoir  Horror  IMAX  Musical  Mystery   Romance  SciFi  \\\n",
       "0    0.0  3.920930       0.0     0.0   0.0      0.0      0.0  0.000000    0.0   \n",
       "1    0.0  3.431818       0.0     0.0   0.0      0.0      0.0  0.000000    0.0   \n",
       "2    0.0  0.000000       0.0     0.0   0.0      0.0      0.0  3.259615    0.0   \n",
       "3    0.0  0.000000       0.0     0.0   0.0      0.0      0.0  0.000000    0.0   \n",
       "4    0.0  0.000000       0.0     0.0   0.0      0.0      0.0  3.185185    0.0   \n",
       "\n",
       "   Thriller  War  Western  \n",
       "0  0.000000  0.0      0.0  \n",
       "1  0.000000  0.0      0.0  \n",
       "2  0.000000  0.0      0.0  \n",
       "3  3.946078  0.0      0.0  \n",
       "4  0.000000  0.0      0.0  "
      ]
     },
     "execution_count": 439,
     "metadata": {},
     "output_type": "execute_result"
    }
   ],
   "source": [
    "# solução\n",
    "# montando dataset para nota média por gêneros\n",
    "nota_por_genero = pd.DataFrame((generos.values.T * filmes['nota_media'].values).T, columns = generos.columns)\n",
    "nota_por_genero.head()"
   ]
  },
  {
   "cell_type": "code",
   "execution_count": 440,
   "metadata": {},
   "outputs": [],
   "source": [
    "# definindo varíavel de soma das notas por gênero\n",
    "nota_por_genero_sum = nota_por_genero.sum()"
   ]
  },
  {
   "cell_type": "code",
   "execution_count": 441,
   "metadata": {},
   "outputs": [
    {
     "data": {
      "text/plain": [
       "FilmNoir       3.993500\n",
       "War            3.891989\n",
       "Mystery        3.826702\n",
       "Crime          3.811684\n",
       "Drama          3.801969\n",
       "IMAX           3.759428\n",
       "Animation      3.722514\n",
       "Thriller       3.652313\n",
       "Musical        3.648148\n",
       "Fantasy        3.643526\n",
       "Documentary    3.642931\n",
       "Children       3.628869\n",
       "Adventure      3.615373\n",
       "Horror         3.610527\n",
       "Romance        3.605779\n",
       "Action         3.584995\n",
       "SciFi          3.559644\n",
       "Comedy         3.543408\n",
       "Western        3.524939\n",
       "dtype: float64"
      ]
     },
     "execution_count": 441,
     "metadata": {},
     "output_type": "execute_result"
    }
   ],
   "source": [
    "# nota média por gênero de filmes\n",
    "nota_media_por_genero = (nota_por_genero_sum / generos_sum)\n",
    "nota_media_por_genero.sort_values(ascending = False)"
   ]
  },
  {
   "cell_type": "code",
   "execution_count": 442,
   "metadata": {},
   "outputs": [],
   "source": [
    "# Definindo nota média para filmes de horror \n",
    "nota_adventure = nota_por_genero[nota_por_genero['Adventure'] > 0]\n",
    "nota_horror = nota_por_genero[nota_por_genero['Horror'] > 0]"
   ]
  },
  {
   "cell_type": "code",
   "execution_count": 443,
   "metadata": {},
   "outputs": [
    {
     "data": {
      "text/plain": [
       "Text(0.5, 1.0, 'Distribuição de notas para os gêneros Horror e Adventure')"
      ]
     },
     "execution_count": 443,
     "metadata": {},
     "output_type": "execute_result"
    },
    {
     "data": {
      "image/png": "[encoded data removed]",
      "text/plain": [
       "<Figure size 432x288 with 1 Axes>"
      ]
     },
     "metadata": {},
     "output_type": "display_data"
    }
   ],
   "source": [
    "# plotando boxplot para notas dos filmes do gênero Adventure e Horror\n",
    "plt.boxplot([nota_adventure['Adventure'],nota_horror['Horror']], labels = ['Adventure','Horror'])\n",
    "plt.title('Distribuição de notas para os gêneros Horror e Adventure')"
   ]
  },
  {
   "cell_type": "markdown",
   "metadata": {},
   "source": [
    "## Pergunta: Quero fazer um filme que seja sucesso de crítica, com pessoas dando notas altas, mesmo que não tenha um número muito grande de pessoas assistindo. Qual gênero você recomenda se tenho que escolher somente um entre `Adventure` e `Horror`?"
   ]
  },
  {
   "cell_type": "markdown",
   "metadata": {},
   "source": [
    "### Solução: Os dois filmes aparentam possuir notas semelhantes, não existindo diferença significativa entre os dois gêneros.\n",
    "\n"
   ]
  },
  {
   "cell_type": "markdown",
   "metadata": {},
   "source": [
    "## Pergunta: nossa análise foi até então visual. Aplique um teste estatístico para verificar se existe significância estatística na distribuição das notas dos filmes de `Adventure` e `Horror`.\n",
    "\n",
    "Passos:\n",
    "\n",
    "- visualize a distribuição de ambas através de histogramas\n",
    "- se suspeitar normalidade na distribuição, faça um teste de normalidade para ambas\n",
    "- aplique um teste adequado de comparação das distribuições\n",
    "- explique o resultado encontrado\n",
    "- utilize p=0.05"
   ]
  },
  {
   "cell_type": "code",
   "execution_count": 444,
   "metadata": {},
   "outputs": [
    {
     "data": {
      "text/plain": [
       "Text(0.5, 1.0, 'Histograma de notas de filmes de aventura')"
      ]
     },
     "execution_count": 444,
     "metadata": {},
     "output_type": "execute_result"
    },
    {
     "data": {
      "image/png": "[encoded data removed]",
      "text/plain": [
       "<Figure size 864x432 with 1 Axes>"
      ]
     },
     "metadata": {},
     "output_type": "display_data"
    }
   ],
   "source": [
    "# solucao histograma de aventura\n",
    "nota_adventure_hist = sns.distplot(nota_adventure['Adventure'], norm_hist = False, kde = True)\n",
    "nota_adventure_hist.figure.set_size_inches(12,6)\n",
    "nota_adventure_hist.set_xlabel('Notas', fontsize = 14)\n",
    "nota_adventure_hist.set_ylabel('Frequência', fontsize = 14)\n",
    "nota_adventure_hist.set_title('Histograma de notas de filmes de aventura',fontsize = 16)"
   ]
  },
  {
   "cell_type": "code",
   "execution_count": 445,
   "metadata": {},
   "outputs": [
    {
     "data": {
      "text/plain": [
       "Text(0.5, 1.0, 'Histograma de notas de filmes de horror')"
      ]
     },
     "execution_count": 445,
     "metadata": {},
     "output_type": "execute_result"
    },
    {
     "data": {
      "image/png": "[encoded data removed]",
      "text/plain": [
       "<Figure size 864x432 with 1 Axes>"
      ]
     },
     "metadata": {},
     "output_type": "display_data"
    }
   ],
   "source": [
    "# solucao histograma de horror\n",
    "nota_horror_hist = sns.distplot(nota_horror['Adventure'], norm_hist = False, kde = True)\n",
    "nota_horror_hist.figure.set_size_inches(12,6)\n",
    "nota_horror_hist.set_xlabel('Notas', fontsize = 14)\n",
    "nota_horror_hist.set_ylabel('Frequência', fontsize = 14)\n",
    "nota_horror_hist.set_title('Histograma de notas de filmes de horror',fontsize = 16)"
   ]
  },
  {
   "cell_type": "code",
   "execution_count": 446,
   "metadata": {},
   "outputs": [
    {
     "name": "stdout",
     "output_type": "stream",
     "text": [
      "O valor estatístico de Shapiro-Wilk é 0.5114635229110718\n",
      "O valor de p de Shapiro-Wilk é 0.0\n"
     ]
    }
   ],
   "source": [
    "# solucao teste de normalidade ou justificativa para nao utiliza-lo\n",
    "# utilizando teste de normalidade de Shapiro-Wilk\n",
    "shapiro_stat, shapiro_p_value = stats.shapiro(nota_adventure)\n",
    "print(\"O valor estatístico de Shapiro-Wilk é \" + str(shapiro_stat))\n",
    "print(\"O valor de p de Shapiro-Wilk é \" + str(shapiro_p_value))"
   ]
  },
  {
   "cell_type": "code",
   "execution_count": 447,
   "metadata": {},
   "outputs": [
    {
     "name": "stdout",
     "output_type": "stream",
     "text": [
      "Com 95% de confiança, os dados não seguem uma distribuição normal segundo o teste de Shapiro-Wilk\n"
     ]
    }
   ],
   "source": [
    "# conclusão do teste de normalidade de filmes de adventure\n",
    "if shapiro_p_value > 0.05:\n",
    "    print(\"Com 95% de confiança, os dados seguem uma distribuição normal segundo o teste de Shapiro-Wilk\")\n",
    "else:\n",
    "    print(\"Com 95% de confiança, os dados não seguem uma distribuição normal segundo o teste de Shapiro-Wilk\")"
   ]
  },
  {
   "cell_type": "code",
   "execution_count": 448,
   "metadata": {},
   "outputs": [
    {
     "name": "stdout",
     "output_type": "stream",
     "text": [
      "O valor estatístico de Shapiro-Wilk é 0.5114635229110718\n",
      "O valor de p de Shapiro-Wilk é 0.0\n"
     ]
    }
   ],
   "source": [
    "# solucao teste de normalidade ou justificativa para nao utiliza-lo\n",
    "# utilizando teste de normalidade de Shapiro-Wilk\n",
    "shapiro_stat, shapiro_p_value = stats.shapiro(nota_adventure)\n",
    "print(\"O valor estatístico de Shapiro-Wilk é \" + str(shapiro_stat))\n",
    "print(\"O valor de p de Shapiro-Wilk é \" + str(shapiro_p_value))"
   ]
  },
  {
   "cell_type": "code",
   "execution_count": 449,
   "metadata": {},
   "outputs": [
    {
     "name": "stdout",
     "output_type": "stream",
     "text": [
      "Com 95% de confiança, os dados não seguem uma distribuição normal segundo o teste de Shapiro-Wilk\n"
     ]
    }
   ],
   "source": [
    "# conclusão do teste de normalidade de filmes de horror\n",
    "if shapiro_p_value > 0.05:\n",
    "    print(\"Com 95% de confiança, os dados seguem uma distribuição normal segundo o teste de Shapiro-Wilk\")\n",
    "else:\n",
    "    print(\"Com 95% de confiança, os dados não seguem uma distribuição normal segundo o teste de Shapiro-Wilk\")"
   ]
  },
  {
   "cell_type": "code",
   "execution_count": 450,
   "metadata": {},
   "outputs": [
    {
     "name": "stdout",
     "output_type": "stream",
     "text": [
      "O valor do tstatic é 0.4316065192828905\n",
      "O valor de p é 0.6686013354966275\n"
     ]
    }
   ],
   "source": [
    "# solução com o teste desejado\n",
    "# aplicando um teste de comparação das distribuições\n",
    "statstic, pvalue = ttest_ind(nota_adventure.mean(), nota_horror.mean())\n",
    "print(\"O valor do tstatic é \" + str(statstic))\n",
    "print(\"O valor de p é \" + str(pvalue))"
   ]
  },
  {
   "cell_type": "code",
   "execution_count": 451,
   "metadata": {},
   "outputs": [
    {
     "name": "stdout",
     "output_type": "stream",
     "text": [
      "Com 95% de confiança, os filmes do gênero adventure possuem uma avalição melhor em relação aos filmes de horror\n"
     ]
    }
   ],
   "source": [
    "# conclusão da minha hipótese\n",
    "if pvalue > 0.05:\n",
    "    print(\"Com 95% de confiança, os filmes do gênero adventure possuem uma avalição melhor em relação aos filmes de horror\")\n",
    "else:\n",
    "    print(\"Com 95% de confiança, os filmes do gênero adventure não possuem uma avalição melhor em relação aos filmes de horror\")"
   ]
  },
  {
   "cell_type": "markdown",
   "metadata": {},
   "source": [
    "## Sua recomendação para maior sucesso de crítica em nota alta entre `Horror` e `Adventure` continua a mesma? Explique.\n",
    "\n"
   ]
  },
  {
   "cell_type": "markdown",
   "metadata": {},
   "source": [
    "### Solução: Apesar de aparentemente não existir diferença significativa de nota entre os dois gêneros, filmes Adventure, segundo avaliação utilizando ttest, possui uma avaliação melhor em relação à filmes de Horror. Isso pode ocorrer devido a maior quantidade de votos para o gênero Adventure.\n"
   ]
  },
  {
   "cell_type": "markdown",
   "metadata": {},
   "source": [
    "## Pergunta: Quero fazer um filme que seja primeiro sucesso de crítica, com pessoas dando notas altas. Em segundo lugar quero que seja popular (mais pessoas assistam). Com as informações visuais e estatísticas, supondo poder escolher somente um, qual dois 2 gêneros você recomenda agora? `Horror` ou `Adventure`?"
   ]
  },
  {
   "cell_type": "markdown",
   "metadata": {},
   "source": [
    "### Solução: Recomendo fazer um filme do gênero Adventure. Filmes do gênero Adventure não possuem em média notas muito superiores ao gênero, porém ao realizar testes estatísticos, nota-se que há sim uma diferença significativa na nota média de filmes de Adventure em relação à Horror. Essa diferença aparenta se dar principalmente pela quantidade de pessoas que votaram nos filmes de Adventure serem muito superiores à filmes de Horror.\n",
    "\n"
   ]
  },
  {
   "cell_type": "markdown",
   "metadata": {},
   "source": [
    "## Pergunta: Quais são os top 5 filmes dos 2 generos mais assistidas?\n",
    "\n",
    "- utilize os 2 generos mais votados em `votos_por_genero`\n",
    "- utilize a `nota_media` para definir o top 5 filmes\n",
    "- o resultado são 5, não 10 filmes"
   ]
  },
  {
   "cell_type": "code",
   "execution_count": 452,
   "metadata": {},
   "outputs": [
    {
     "data": {
      "text/plain": [
       "Action    15734.0\n",
       "Drama     15445.0\n",
       "dtype: float64"
      ]
     },
     "execution_count": 452,
     "metadata": {},
     "output_type": "execute_result"
    }
   ],
   "source": [
    "# solução: calculando os 2 generos mais votados\n",
    "votos_por_genero_por_filme_sum[0:2]"
   ]
  },
  {
   "cell_type": "code",
   "execution_count": 453,
   "metadata": {},
   "outputs": [
    {
     "data": {
      "text/html": [
       "<div>\n",
       "<style scoped>\n",
       "    .dataframe tbody tr th:only-of-type {\n",
       "        vertical-align: middle;\n",
       "    }\n",
       "\n",
       "    .dataframe tbody tr th {\n",
       "        vertical-align: top;\n",
       "    }\n",
       "\n",
       "    .dataframe thead th {\n",
       "        text-align: right;\n",
       "    }\n",
       "</style>\n",
       "<table border=\"1\" class=\"dataframe\">\n",
       "  <thead>\n",
       "    <tr style=\"text-align: right;\">\n",
       "      <th></th>\n",
       "      <th>titulo</th>\n",
       "      <th>Action</th>\n",
       "      <th>Drama</th>\n",
       "      <th>nota_media</th>\n",
       "      <th>total_de_votos</th>\n",
       "    </tr>\n",
       "    <tr>\n",
       "      <th>filmeId</th>\n",
       "      <th></th>\n",
       "      <th></th>\n",
       "      <th></th>\n",
       "      <th></th>\n",
       "      <th></th>\n",
       "    </tr>\n",
       "  </thead>\n",
       "  <tbody>\n",
       "    <tr>\n",
       "      <th>2959</th>\n",
       "      <td>Fight Club (1999)</td>\n",
       "      <td>1</td>\n",
       "      <td>1</td>\n",
       "      <td>4.272936</td>\n",
       "      <td>218.0</td>\n",
       "    </tr>\n",
       "    <tr>\n",
       "      <th>58559</th>\n",
       "      <td>Dark Knight, The (2008)</td>\n",
       "      <td>1</td>\n",
       "      <td>1</td>\n",
       "      <td>4.238255</td>\n",
       "      <td>149.0</td>\n",
       "    </tr>\n",
       "    <tr>\n",
       "      <th>1197</th>\n",
       "      <td>Princess Bride, The (1987)</td>\n",
       "      <td>1</td>\n",
       "      <td>0</td>\n",
       "      <td>4.232394</td>\n",
       "      <td>142.0</td>\n",
       "    </tr>\n",
       "    <tr>\n",
       "      <th>260</th>\n",
       "      <td>Star Wars: Episode IV - A New Hope (1977)</td>\n",
       "      <td>1</td>\n",
       "      <td>0</td>\n",
       "      <td>4.231076</td>\n",
       "      <td>251.0</td>\n",
       "    </tr>\n",
       "    <tr>\n",
       "      <th>1208</th>\n",
       "      <td>Apocalypse Now (1979)</td>\n",
       "      <td>1</td>\n",
       "      <td>1</td>\n",
       "      <td>4.219626</td>\n",
       "      <td>107.0</td>\n",
       "    </tr>\n",
       "  </tbody>\n",
       "</table>\n",
       "</div>"
      ],
      "text/plain": [
       "                                            titulo  Action  Drama  nota_media  \\\n",
       "filmeId                                                                         \n",
       "2959                             Fight Club (1999)       1      1    4.272936   \n",
       "58559                      Dark Knight, The (2008)       1      1    4.238255   \n",
       "1197                    Princess Bride, The (1987)       1      0    4.232394   \n",
       "260      Star Wars: Episode IV - A New Hope (1977)       1      0    4.231076   \n",
       "1208                         Apocalypse Now (1979)       1      1    4.219626   \n",
       "\n",
       "         total_de_votos  \n",
       "filmeId                  \n",
       "2959              218.0  \n",
       "58559             149.0  \n",
       "1197              142.0  \n",
       "260               251.0  \n",
       "1208              107.0  "
      ]
     },
     "execution_count": 453,
     "metadata": {},
     "output_type": "execute_result"
    }
   ],
   "source": [
    "# solução: encontrando os top 5 filmes desses generos\n",
    "top5_filmes = filmes[['titulo','Action','Drama','nota_media','total_de_votos']].query('Action == 1' or 'Drama == 1')\n",
    "top5_filmes.sort_values(by=['nota_media'], ascending = False).head()"
   ]
  },
  {
   "cell_type": "markdown",
   "metadata": {},
   "source": [
    "## Pergunta: Quais são os 2 generos com maior valor de correlação com a `nota_media`? E os 2 com menor valor de correlação com a `nota_media`?\n",
    "\n",
    "- O pandas possui a função `corr` para calcular correlação entre todas as colunas"
   ]
  },
  {
   "cell_type": "code",
   "execution_count": 454,
   "metadata": {},
   "outputs": [
    {
     "data": {
      "text/html": [
       "<div>\n",
       "<style scoped>\n",
       "    .dataframe tbody tr th:only-of-type {\n",
       "        vertical-align: middle;\n",
       "    }\n",
       "\n",
       "    .dataframe tbody tr th {\n",
       "        vertical-align: top;\n",
       "    }\n",
       "\n",
       "    .dataframe thead th {\n",
       "        text-align: right;\n",
       "    }\n",
       "</style>\n",
       "<table border=\"1\" class=\"dataframe\">\n",
       "  <thead>\n",
       "    <tr style=\"text-align: right;\">\n",
       "      <th></th>\n",
       "      <th>nota_media</th>\n",
       "      <th>Action</th>\n",
       "      <th>Adventure</th>\n",
       "      <th>Animation</th>\n",
       "      <th>Children</th>\n",
       "      <th>Comedy</th>\n",
       "      <th>Crime</th>\n",
       "      <th>Documentary</th>\n",
       "      <th>Drama</th>\n",
       "      <th>Fantasy</th>\n",
       "      <th>FilmNoir</th>\n",
       "      <th>Horror</th>\n",
       "      <th>IMAX</th>\n",
       "      <th>Musical</th>\n",
       "      <th>Mystery</th>\n",
       "      <th>Romance</th>\n",
       "      <th>SciFi</th>\n",
       "      <th>Thriller</th>\n",
       "      <th>War</th>\n",
       "      <th>Western</th>\n",
       "    </tr>\n",
       "  </thead>\n",
       "  <tbody>\n",
       "    <tr>\n",
       "      <th>nota_media</th>\n",
       "      <td>1.000000</td>\n",
       "      <td>-0.154089</td>\n",
       "      <td>-0.079985</td>\n",
       "      <td>0.043071</td>\n",
       "      <td>-0.030360</td>\n",
       "      <td>-0.256005</td>\n",
       "      <td>0.190220</td>\n",
       "      <td>-0.003486</td>\n",
       "      <td>0.277662</td>\n",
       "      <td>-0.020986</td>\n",
       "      <td>0.081766</td>\n",
       "      <td>-0.033877</td>\n",
       "      <td>0.064931</td>\n",
       "      <td>-0.008529</td>\n",
       "      <td>0.129914</td>\n",
       "      <td>-0.072002</td>\n",
       "      <td>-0.136717</td>\n",
       "      <td>-0.016782</td>\n",
       "      <td>0.125615</td>\n",
       "      <td>-0.059642</td>\n",
       "    </tr>\n",
       "    <tr>\n",
       "      <th>Drama</th>\n",
       "      <td>0.277662</td>\n",
       "      <td>-0.253573</td>\n",
       "      <td>-0.290255</td>\n",
       "      <td>-0.121935</td>\n",
       "      <td>-0.125559</td>\n",
       "      <td>-0.288999</td>\n",
       "      <td>0.092210</td>\n",
       "      <td>0.018156</td>\n",
       "      <td>1.000000</td>\n",
       "      <td>-0.121680</td>\n",
       "      <td>-0.023335</td>\n",
       "      <td>-0.110364</td>\n",
       "      <td>-0.082535</td>\n",
       "      <td>-0.081810</td>\n",
       "      <td>0.016269</td>\n",
       "      <td>0.066415</td>\n",
       "      <td>-0.159169</td>\n",
       "      <td>-0.037764</td>\n",
       "      <td>0.205919</td>\n",
       "      <td>-0.012197</td>\n",
       "    </tr>\n",
       "    <tr>\n",
       "      <th>Crime</th>\n",
       "      <td>0.190220</td>\n",
       "      <td>0.061890</td>\n",
       "      <td>-0.241256</td>\n",
       "      <td>-0.091665</td>\n",
       "      <td>-0.130389</td>\n",
       "      <td>-0.126158</td>\n",
       "      <td>1.000000</td>\n",
       "      <td>-0.032710</td>\n",
       "      <td>0.092210</td>\n",
       "      <td>-0.155243</td>\n",
       "      <td>0.193444</td>\n",
       "      <td>-0.048878</td>\n",
       "      <td>-0.032924</td>\n",
       "      <td>-0.108315</td>\n",
       "      <td>0.114410</td>\n",
       "      <td>-0.207496</td>\n",
       "      <td>-0.178411</td>\n",
       "      <td>0.248836</td>\n",
       "      <td>-0.074806</td>\n",
       "      <td>-0.081033</td>\n",
       "    </tr>\n",
       "    <tr>\n",
       "      <th>Mystery</th>\n",
       "      <td>0.129914</td>\n",
       "      <td>-0.063915</td>\n",
       "      <td>-0.090344</td>\n",
       "      <td>-0.052933</td>\n",
       "      <td>-0.077583</td>\n",
       "      <td>-0.200222</td>\n",
       "      <td>0.114410</td>\n",
       "      <td>-0.020292</td>\n",
       "      <td>0.016269</td>\n",
       "      <td>-0.035543</td>\n",
       "      <td>0.311831</td>\n",
       "      <td>0.130315</td>\n",
       "      <td>0.021028</td>\n",
       "      <td>-0.067193</td>\n",
       "      <td>1.000000</td>\n",
       "      <td>-0.064884</td>\n",
       "      <td>-0.015237</td>\n",
       "      <td>0.320529</td>\n",
       "      <td>-0.063765</td>\n",
       "      <td>-0.050269</td>\n",
       "    </tr>\n",
       "    <tr>\n",
       "      <th>War</th>\n",
       "      <td>0.125615</td>\n",
       "      <td>0.070618</td>\n",
       "      <td>-0.086730</td>\n",
       "      <td>-0.058093</td>\n",
       "      <td>-0.071703</td>\n",
       "      <td>-0.082082</td>\n",
       "      <td>-0.074806</td>\n",
       "      <td>-0.014029</td>\n",
       "      <td>0.205919</td>\n",
       "      <td>-0.055809</td>\n",
       "      <td>-0.019884</td>\n",
       "      <td>-0.051993</td>\n",
       "      <td>-0.008336</td>\n",
       "      <td>-0.046454</td>\n",
       "      <td>-0.063765</td>\n",
       "      <td>-0.016625</td>\n",
       "      <td>-0.106436</td>\n",
       "      <td>-0.052561</td>\n",
       "      <td>1.000000</td>\n",
       "      <td>0.033838</td>\n",
       "    </tr>\n",
       "    <tr>\n",
       "      <th>FilmNoir</th>\n",
       "      <td>0.081766</td>\n",
       "      <td>-0.022520</td>\n",
       "      <td>-0.061015</td>\n",
       "      <td>-0.026203</td>\n",
       "      <td>-0.032341</td>\n",
       "      <td>-0.077683</td>\n",
       "      <td>0.193444</td>\n",
       "      <td>-0.006328</td>\n",
       "      <td>-0.023335</td>\n",
       "      <td>-0.039262</td>\n",
       "      <td>1.000000</td>\n",
       "      <td>-0.023451</td>\n",
       "      <td>-0.024394</td>\n",
       "      <td>-0.020953</td>\n",
       "      <td>0.311831</td>\n",
       "      <td>-0.045701</td>\n",
       "      <td>-0.048008</td>\n",
       "      <td>0.156159</td>\n",
       "      <td>-0.019884</td>\n",
       "      <td>-0.015675</td>\n",
       "    </tr>\n",
       "    <tr>\n",
       "      <th>IMAX</th>\n",
       "      <td>0.064931</td>\n",
       "      <td>0.129896</td>\n",
       "      <td>0.217954</td>\n",
       "      <td>0.107701</td>\n",
       "      <td>0.092512</td>\n",
       "      <td>-0.155010</td>\n",
       "      <td>-0.032924</td>\n",
       "      <td>-0.017211</td>\n",
       "      <td>-0.082535</td>\n",
       "      <td>0.153250</td>\n",
       "      <td>-0.024394</td>\n",
       "      <td>-0.024358</td>\n",
       "      <td>1.000000</td>\n",
       "      <td>0.030240</td>\n",
       "      <td>0.021028</td>\n",
       "      <td>-0.077298</td>\n",
       "      <td>0.120340</td>\n",
       "      <td>-0.010974</td>\n",
       "      <td>-0.008336</td>\n",
       "      <td>-0.042636</td>\n",
       "    </tr>\n",
       "    <tr>\n",
       "      <th>Animation</th>\n",
       "      <td>0.043071</td>\n",
       "      <td>-0.173589</td>\n",
       "      <td>0.163576</td>\n",
       "      <td>1.000000</td>\n",
       "      <td>0.753654</td>\n",
       "      <td>0.125706</td>\n",
       "      <td>-0.091665</td>\n",
       "      <td>-0.018487</td>\n",
       "      <td>-0.121935</td>\n",
       "      <td>0.227460</td>\n",
       "      <td>-0.026203</td>\n",
       "      <td>-0.068516</td>\n",
       "      <td>0.107701</td>\n",
       "      <td>0.430701</td>\n",
       "      <td>-0.052933</td>\n",
       "      <td>0.021108</td>\n",
       "      <td>-0.097383</td>\n",
       "      <td>-0.167796</td>\n",
       "      <td>-0.058093</td>\n",
       "      <td>-0.045797</td>\n",
       "    </tr>\n",
       "    <tr>\n",
       "      <th>Documentary</th>\n",
       "      <td>-0.003486</td>\n",
       "      <td>-0.050596</td>\n",
       "      <td>-0.043048</td>\n",
       "      <td>-0.018487</td>\n",
       "      <td>-0.022818</td>\n",
       "      <td>0.013323</td>\n",
       "      <td>-0.032710</td>\n",
       "      <td>1.000000</td>\n",
       "      <td>0.018156</td>\n",
       "      <td>-0.027700</td>\n",
       "      <td>-0.006328</td>\n",
       "      <td>-0.016545</td>\n",
       "      <td>-0.017211</td>\n",
       "      <td>-0.014783</td>\n",
       "      <td>-0.020292</td>\n",
       "      <td>-0.032243</td>\n",
       "      <td>-0.033871</td>\n",
       "      <td>-0.040520</td>\n",
       "      <td>-0.014029</td>\n",
       "      <td>-0.011059</td>\n",
       "    </tr>\n",
       "    <tr>\n",
       "      <th>Musical</th>\n",
       "      <td>-0.008529</td>\n",
       "      <td>-0.145649</td>\n",
       "      <td>-0.049984</td>\n",
       "      <td>0.430701</td>\n",
       "      <td>0.406724</td>\n",
       "      <td>0.054861</td>\n",
       "      <td>-0.108315</td>\n",
       "      <td>-0.014783</td>\n",
       "      <td>-0.081810</td>\n",
       "      <td>0.146522</td>\n",
       "      <td>-0.020953</td>\n",
       "      <td>-0.009633</td>\n",
       "      <td>0.030240</td>\n",
       "      <td>1.000000</td>\n",
       "      <td>-0.067193</td>\n",
       "      <td>0.081647</td>\n",
       "      <td>-0.086035</td>\n",
       "      <td>-0.134176</td>\n",
       "      <td>-0.046454</td>\n",
       "      <td>-0.036621</td>\n",
       "    </tr>\n",
       "    <tr>\n",
       "      <th>Thriller</th>\n",
       "      <td>-0.016782</td>\n",
       "      <td>0.311401</td>\n",
       "      <td>-0.005431</td>\n",
       "      <td>-0.167796</td>\n",
       "      <td>-0.207105</td>\n",
       "      <td>-0.364583</td>\n",
       "      <td>0.248836</td>\n",
       "      <td>-0.040520</td>\n",
       "      <td>-0.037764</td>\n",
       "      <td>-0.180585</td>\n",
       "      <td>0.156159</td>\n",
       "      <td>0.064634</td>\n",
       "      <td>-0.010974</td>\n",
       "      <td>-0.134176</td>\n",
       "      <td>0.320529</td>\n",
       "      <td>-0.203024</td>\n",
       "      <td>0.139962</td>\n",
       "      <td>1.000000</td>\n",
       "      <td>-0.052561</td>\n",
       "      <td>-0.100380</td>\n",
       "    </tr>\n",
       "    <tr>\n",
       "      <th>Fantasy</th>\n",
       "      <td>-0.020986</td>\n",
       "      <td>-0.118162</td>\n",
       "      <td>0.243373</td>\n",
       "      <td>0.227460</td>\n",
       "      <td>0.371888</td>\n",
       "      <td>0.095479</td>\n",
       "      <td>-0.155243</td>\n",
       "      <td>-0.027700</td>\n",
       "      <td>-0.121680</td>\n",
       "      <td>1.000000</td>\n",
       "      <td>-0.039262</td>\n",
       "      <td>-0.021896</td>\n",
       "      <td>0.153250</td>\n",
       "      <td>0.146522</td>\n",
       "      <td>-0.035543</td>\n",
       "      <td>0.024607</td>\n",
       "      <td>-0.147863</td>\n",
       "      <td>-0.180585</td>\n",
       "      <td>-0.055809</td>\n",
       "      <td>-0.068621</td>\n",
       "    </tr>\n",
       "    <tr>\n",
       "      <th>Children</th>\n",
       "      <td>-0.030360</td>\n",
       "      <td>-0.213311</td>\n",
       "      <td>0.178956</td>\n",
       "      <td>0.753654</td>\n",
       "      <td>1.000000</td>\n",
       "      <td>0.119962</td>\n",
       "      <td>-0.130389</td>\n",
       "      <td>-0.022818</td>\n",
       "      <td>-0.125559</td>\n",
       "      <td>0.371888</td>\n",
       "      <td>-0.032341</td>\n",
       "      <td>-0.084567</td>\n",
       "      <td>0.092512</td>\n",
       "      <td>0.406724</td>\n",
       "      <td>-0.077583</td>\n",
       "      <td>-0.016294</td>\n",
       "      <td>-0.101054</td>\n",
       "      <td>-0.207105</td>\n",
       "      <td>-0.071703</td>\n",
       "      <td>-0.056526</td>\n",
       "    </tr>\n",
       "    <tr>\n",
       "      <th>Horror</th>\n",
       "      <td>-0.033877</td>\n",
       "      <td>-0.009411</td>\n",
       "      <td>-0.096786</td>\n",
       "      <td>-0.068516</td>\n",
       "      <td>-0.084567</td>\n",
       "      <td>-0.028315</td>\n",
       "      <td>-0.048878</td>\n",
       "      <td>-0.016545</td>\n",
       "      <td>-0.110364</td>\n",
       "      <td>-0.021896</td>\n",
       "      <td>-0.023451</td>\n",
       "      <td>1.000000</td>\n",
       "      <td>-0.024358</td>\n",
       "      <td>-0.009633</td>\n",
       "      <td>0.130315</td>\n",
       "      <td>-0.095167</td>\n",
       "      <td>0.016164</td>\n",
       "      <td>0.064634</td>\n",
       "      <td>-0.051993</td>\n",
       "      <td>-0.040988</td>\n",
       "    </tr>\n",
       "    <tr>\n",
       "      <th>Western</th>\n",
       "      <td>-0.059642</td>\n",
       "      <td>0.046621</td>\n",
       "      <td>0.044838</td>\n",
       "      <td>-0.045797</td>\n",
       "      <td>-0.056526</td>\n",
       "      <td>0.004876</td>\n",
       "      <td>-0.081033</td>\n",
       "      <td>-0.011059</td>\n",
       "      <td>-0.012197</td>\n",
       "      <td>-0.068621</td>\n",
       "      <td>-0.015675</td>\n",
       "      <td>-0.040988</td>\n",
       "      <td>-0.042636</td>\n",
       "      <td>-0.036621</td>\n",
       "      <td>-0.050269</td>\n",
       "      <td>-0.009397</td>\n",
       "      <td>-0.015505</td>\n",
       "      <td>-0.100380</td>\n",
       "      <td>0.033838</td>\n",
       "      <td>1.000000</td>\n",
       "    </tr>\n",
       "    <tr>\n",
       "      <th>Romance</th>\n",
       "      <td>-0.072002</td>\n",
       "      <td>-0.200278</td>\n",
       "      <td>-0.173745</td>\n",
       "      <td>0.021108</td>\n",
       "      <td>-0.016294</td>\n",
       "      <td>0.229377</td>\n",
       "      <td>-0.207496</td>\n",
       "      <td>-0.032243</td>\n",
       "      <td>0.066415</td>\n",
       "      <td>0.024607</td>\n",
       "      <td>-0.045701</td>\n",
       "      <td>-0.095167</td>\n",
       "      <td>-0.077298</td>\n",
       "      <td>0.081647</td>\n",
       "      <td>-0.064884</td>\n",
       "      <td>1.000000</td>\n",
       "      <td>-0.188324</td>\n",
       "      <td>-0.203024</td>\n",
       "      <td>-0.016625</td>\n",
       "      <td>-0.009397</td>\n",
       "    </tr>\n",
       "    <tr>\n",
       "      <th>Adventure</th>\n",
       "      <td>-0.079985</td>\n",
       "      <td>0.333591</td>\n",
       "      <td>1.000000</td>\n",
       "      <td>0.163576</td>\n",
       "      <td>0.178956</td>\n",
       "      <td>-0.090515</td>\n",
       "      <td>-0.241256</td>\n",
       "      <td>-0.043048</td>\n",
       "      <td>-0.290255</td>\n",
       "      <td>0.243373</td>\n",
       "      <td>-0.061015</td>\n",
       "      <td>-0.096786</td>\n",
       "      <td>0.217954</td>\n",
       "      <td>-0.049984</td>\n",
       "      <td>-0.090344</td>\n",
       "      <td>-0.173745</td>\n",
       "      <td>0.278520</td>\n",
       "      <td>-0.005431</td>\n",
       "      <td>-0.086730</td>\n",
       "      <td>0.044838</td>\n",
       "    </tr>\n",
       "    <tr>\n",
       "      <th>SciFi</th>\n",
       "      <td>-0.136717</td>\n",
       "      <td>0.325969</td>\n",
       "      <td>0.278520</td>\n",
       "      <td>-0.097383</td>\n",
       "      <td>-0.101054</td>\n",
       "      <td>-0.213558</td>\n",
       "      <td>-0.178411</td>\n",
       "      <td>-0.033871</td>\n",
       "      <td>-0.159169</td>\n",
       "      <td>-0.147863</td>\n",
       "      <td>-0.048008</td>\n",
       "      <td>0.016164</td>\n",
       "      <td>0.120340</td>\n",
       "      <td>-0.086035</td>\n",
       "      <td>-0.015237</td>\n",
       "      <td>-0.188324</td>\n",
       "      <td>1.000000</td>\n",
       "      <td>0.139962</td>\n",
       "      <td>-0.106436</td>\n",
       "      <td>-0.015505</td>\n",
       "    </tr>\n",
       "    <tr>\n",
       "      <th>Action</th>\n",
       "      <td>-0.154089</td>\n",
       "      <td>1.000000</td>\n",
       "      <td>0.333591</td>\n",
       "      <td>-0.173589</td>\n",
       "      <td>-0.213311</td>\n",
       "      <td>-0.291578</td>\n",
       "      <td>0.061890</td>\n",
       "      <td>-0.050596</td>\n",
       "      <td>-0.253573</td>\n",
       "      <td>-0.118162</td>\n",
       "      <td>-0.022520</td>\n",
       "      <td>-0.009411</td>\n",
       "      <td>0.129896</td>\n",
       "      <td>-0.145649</td>\n",
       "      <td>-0.063915</td>\n",
       "      <td>-0.200278</td>\n",
       "      <td>0.325969</td>\n",
       "      <td>0.311401</td>\n",
       "      <td>0.070618</td>\n",
       "      <td>0.046621</td>\n",
       "    </tr>\n",
       "    <tr>\n",
       "      <th>Comedy</th>\n",
       "      <td>-0.256005</td>\n",
       "      <td>-0.291578</td>\n",
       "      <td>-0.090515</td>\n",
       "      <td>0.125706</td>\n",
       "      <td>0.119962</td>\n",
       "      <td>1.000000</td>\n",
       "      <td>-0.126158</td>\n",
       "      <td>0.013323</td>\n",
       "      <td>-0.288999</td>\n",
       "      <td>0.095479</td>\n",
       "      <td>-0.077683</td>\n",
       "      <td>-0.028315</td>\n",
       "      <td>-0.155010</td>\n",
       "      <td>0.054861</td>\n",
       "      <td>-0.200222</td>\n",
       "      <td>0.229377</td>\n",
       "      <td>-0.213558</td>\n",
       "      <td>-0.364583</td>\n",
       "      <td>-0.082082</td>\n",
       "      <td>0.004876</td>\n",
       "    </tr>\n",
       "  </tbody>\n",
       "</table>\n",
       "</div>"
      ],
      "text/plain": [
       "             nota_media    Action  Adventure  Animation  Children    Comedy  \\\n",
       "nota_media     1.000000 -0.154089  -0.079985   0.043071 -0.030360 -0.256005   \n",
       "Drama          0.277662 -0.253573  -0.290255  -0.121935 -0.125559 -0.288999   \n",
       "Crime          0.190220  0.061890  -0.241256  -0.091665 -0.130389 -0.126158   \n",
       "Mystery        0.129914 -0.063915  -0.090344  -0.052933 -0.077583 -0.200222   \n",
       "War            0.125615  0.070618  -0.086730  -0.058093 -0.071703 -0.082082   \n",
       "FilmNoir       0.081766 -0.022520  -0.061015  -0.026203 -0.032341 -0.077683   \n",
       "IMAX           0.064931  0.129896   0.217954   0.107701  0.092512 -0.155010   \n",
       "Animation      0.043071 -0.173589   0.163576   1.000000  0.753654  0.125706   \n",
       "Documentary   -0.003486 -0.050596  -0.043048  -0.018487 -0.022818  0.013323   \n",
       "Musical       -0.008529 -0.145649  -0.049984   0.430701  0.406724  0.054861   \n",
       "Thriller      -0.016782  0.311401  -0.005431  -0.167796 -0.207105 -0.364583   \n",
       "Fantasy       -0.020986 -0.118162   0.243373   0.227460  0.371888  0.095479   \n",
       "Children      -0.030360 -0.213311   0.178956   0.753654  1.000000  0.119962   \n",
       "Horror        -0.033877 -0.009411  -0.096786  -0.068516 -0.084567 -0.028315   \n",
       "Western       -0.059642  0.046621   0.044838  -0.045797 -0.056526  0.004876   \n",
       "Romance       -0.072002 -0.200278  -0.173745   0.021108 -0.016294  0.229377   \n",
       "Adventure     -0.079985  0.333591   1.000000   0.163576  0.178956 -0.090515   \n",
       "SciFi         -0.136717  0.325969   0.278520  -0.097383 -0.101054 -0.213558   \n",
       "Action        -0.154089  1.000000   0.333591  -0.173589 -0.213311 -0.291578   \n",
       "Comedy        -0.256005 -0.291578  -0.090515   0.125706  0.119962  1.000000   \n",
       "\n",
       "                Crime  Documentary     Drama   Fantasy  FilmNoir    Horror  \\\n",
       "nota_media   0.190220    -0.003486  0.277662 -0.020986  0.081766 -0.033877   \n",
       "Drama        0.092210     0.018156  1.000000 -0.121680 -0.023335 -0.110364   \n",
       "Crime        1.000000    -0.032710  0.092210 -0.155243  0.193444 -0.048878   \n",
       "Mystery      0.114410    -0.020292  0.016269 -0.035543  0.311831  0.130315   \n",
       "War         -0.074806    -0.014029  0.205919 -0.055809 -0.019884 -0.051993   \n",
       "FilmNoir     0.193444    -0.006328 -0.023335 -0.039262  1.000000 -0.023451   \n",
       "IMAX        -0.032924    -0.017211 -0.082535  0.153250 -0.024394 -0.024358   \n",
       "Animation   -0.091665    -0.018487 -0.121935  0.227460 -0.026203 -0.068516   \n",
       "Documentary -0.032710     1.000000  0.018156 -0.027700 -0.006328 -0.016545   \n",
       "Musical     -0.108315    -0.014783 -0.081810  0.146522 -0.020953 -0.009633   \n",
       "Thriller     0.248836    -0.040520 -0.037764 -0.180585  0.156159  0.064634   \n",
       "Fantasy     -0.155243    -0.027700 -0.121680  1.000000 -0.039262 -0.021896   \n",
       "Children    -0.130389    -0.022818 -0.125559  0.371888 -0.032341 -0.084567   \n",
       "Horror      -0.048878    -0.016545 -0.110364 -0.021896 -0.023451  1.000000   \n",
       "Western     -0.081033    -0.011059 -0.012197 -0.068621 -0.015675 -0.040988   \n",
       "Romance     -0.207496    -0.032243  0.066415  0.024607 -0.045701 -0.095167   \n",
       "Adventure   -0.241256    -0.043048 -0.290255  0.243373 -0.061015 -0.096786   \n",
       "SciFi       -0.178411    -0.033871 -0.159169 -0.147863 -0.048008  0.016164   \n",
       "Action       0.061890    -0.050596 -0.253573 -0.118162 -0.022520 -0.009411   \n",
       "Comedy      -0.126158     0.013323 -0.288999  0.095479 -0.077683 -0.028315   \n",
       "\n",
       "                 IMAX   Musical   Mystery   Romance     SciFi  Thriller  \\\n",
       "nota_media   0.064931 -0.008529  0.129914 -0.072002 -0.136717 -0.016782   \n",
       "Drama       -0.082535 -0.081810  0.016269  0.066415 -0.159169 -0.037764   \n",
       "Crime       -0.032924 -0.108315  0.114410 -0.207496 -0.178411  0.248836   \n",
       "Mystery      0.021028 -0.067193  1.000000 -0.064884 -0.015237  0.320529   \n",
       "War         -0.008336 -0.046454 -0.063765 -0.016625 -0.106436 -0.052561   \n",
       "FilmNoir    -0.024394 -0.020953  0.311831 -0.045701 -0.048008  0.156159   \n",
       "IMAX         1.000000  0.030240  0.021028 -0.077298  0.120340 -0.010974   \n",
       "Animation    0.107701  0.430701 -0.052933  0.021108 -0.097383 -0.167796   \n",
       "Documentary -0.017211 -0.014783 -0.020292 -0.032243 -0.033871 -0.040520   \n",
       "Musical      0.030240  1.000000 -0.067193  0.081647 -0.086035 -0.134176   \n",
       "Thriller    -0.010974 -0.134176  0.320529 -0.203024  0.139962  1.000000   \n",
       "Fantasy      0.153250  0.146522 -0.035543  0.024607 -0.147863 -0.180585   \n",
       "Children     0.092512  0.406724 -0.077583 -0.016294 -0.101054 -0.207105   \n",
       "Horror      -0.024358 -0.009633  0.130315 -0.095167  0.016164  0.064634   \n",
       "Western     -0.042636 -0.036621 -0.050269 -0.009397 -0.015505 -0.100380   \n",
       "Romance     -0.077298  0.081647 -0.064884  1.000000 -0.188324 -0.203024   \n",
       "Adventure    0.217954 -0.049984 -0.090344 -0.173745  0.278520 -0.005431   \n",
       "SciFi        0.120340 -0.086035 -0.015237 -0.188324  1.000000  0.139962   \n",
       "Action       0.129896 -0.145649 -0.063915 -0.200278  0.325969  0.311401   \n",
       "Comedy      -0.155010  0.054861 -0.200222  0.229377 -0.213558 -0.364583   \n",
       "\n",
       "                  War   Western  \n",
       "nota_media   0.125615 -0.059642  \n",
       "Drama        0.205919 -0.012197  \n",
       "Crime       -0.074806 -0.081033  \n",
       "Mystery     -0.063765 -0.050269  \n",
       "War          1.000000  0.033838  \n",
       "FilmNoir    -0.019884 -0.015675  \n",
       "IMAX        -0.008336 -0.042636  \n",
       "Animation   -0.058093 -0.045797  \n",
       "Documentary -0.014029 -0.011059  \n",
       "Musical     -0.046454 -0.036621  \n",
       "Thriller    -0.052561 -0.100380  \n",
       "Fantasy     -0.055809 -0.068621  \n",
       "Children    -0.071703 -0.056526  \n",
       "Horror      -0.051993 -0.040988  \n",
       "Western      0.033838  1.000000  \n",
       "Romance     -0.016625 -0.009397  \n",
       "Adventure   -0.086730  0.044838  \n",
       "SciFi       -0.106436 -0.015505  \n",
       "Action       0.070618  0.046621  \n",
       "Comedy      -0.082082  0.004876  "
      ]
     },
     "execution_count": 454,
     "metadata": {},
     "output_type": "execute_result"
    }
   ],
   "source": [
    "# solucao\n",
    "# 2 maiores valores de correlação: Drama e Comedy\n",
    "# 2 menores valores de correlação: Documentary e Musical\n",
    "filmes[['nota_media','Action', 'Adventure', 'Animation', 'Children', 'Comedy', 'Crime',\n",
    "       'Documentary', 'Drama', 'Fantasy', 'FilmNoir', 'Horror', 'IMAX',\n",
    "       'Musical', 'Mystery', 'Romance', 'SciFi', 'Thriller', 'War', 'Western']\n",
    "      ].corr().sort_values(by=['nota_media'],ascending = False)"
   ]
  },
  {
   "cell_type": "markdown",
   "metadata": {},
   "source": [
    "## Pergunta: Quais são os 2 generos com maior valor de correlação com `total_de_votos`? E quais os 2 com menor valor de correlação com `total_de_votos`?"
   ]
  },
  {
   "cell_type": "code",
   "execution_count": 455,
   "metadata": {},
   "outputs": [
    {
     "data": {
      "text/html": [
       "<div>\n",
       "<style scoped>\n",
       "    .dataframe tbody tr th:only-of-type {\n",
       "        vertical-align: middle;\n",
       "    }\n",
       "\n",
       "    .dataframe tbody tr th {\n",
       "        vertical-align: top;\n",
       "    }\n",
       "\n",
       "    .dataframe thead th {\n",
       "        text-align: right;\n",
       "    }\n",
       "</style>\n",
       "<table border=\"1\" class=\"dataframe\">\n",
       "  <thead>\n",
       "    <tr style=\"text-align: right;\">\n",
       "      <th></th>\n",
       "      <th>total_de_votos</th>\n",
       "      <th>Action</th>\n",
       "      <th>Adventure</th>\n",
       "      <th>Animation</th>\n",
       "      <th>Children</th>\n",
       "      <th>Comedy</th>\n",
       "      <th>Crime</th>\n",
       "      <th>Documentary</th>\n",
       "      <th>Drama</th>\n",
       "      <th>Fantasy</th>\n",
       "      <th>FilmNoir</th>\n",
       "      <th>Horror</th>\n",
       "      <th>IMAX</th>\n",
       "      <th>Musical</th>\n",
       "      <th>Mystery</th>\n",
       "      <th>Romance</th>\n",
       "      <th>SciFi</th>\n",
       "      <th>Thriller</th>\n",
       "      <th>War</th>\n",
       "      <th>Western</th>\n",
       "    </tr>\n",
       "  </thead>\n",
       "  <tbody>\n",
       "    <tr>\n",
       "      <th>total_de_votos</th>\n",
       "      <td>1.000</td>\n",
       "      <td>0.066</td>\n",
       "      <td>0.104</td>\n",
       "      <td>0.023</td>\n",
       "      <td>0.002</td>\n",
       "      <td>-0.129</td>\n",
       "      <td>0.080</td>\n",
       "      <td>-0.055</td>\n",
       "      <td>0.019</td>\n",
       "      <td>-0.010</td>\n",
       "      <td>-0.039</td>\n",
       "      <td>-0.036</td>\n",
       "      <td>-0.016</td>\n",
       "      <td>-0.025</td>\n",
       "      <td>-0.007</td>\n",
       "      <td>-0.045</td>\n",
       "      <td>0.064</td>\n",
       "      <td>0.086</td>\n",
       "      <td>0.088</td>\n",
       "      <td>-0.061</td>\n",
       "    </tr>\n",
       "    <tr>\n",
       "      <th>Adventure</th>\n",
       "      <td>0.104</td>\n",
       "      <td>0.334</td>\n",
       "      <td>1.000</td>\n",
       "      <td>0.164</td>\n",
       "      <td>0.179</td>\n",
       "      <td>-0.091</td>\n",
       "      <td>-0.241</td>\n",
       "      <td>-0.043</td>\n",
       "      <td>-0.290</td>\n",
       "      <td>0.243</td>\n",
       "      <td>-0.061</td>\n",
       "      <td>-0.097</td>\n",
       "      <td>0.218</td>\n",
       "      <td>-0.050</td>\n",
       "      <td>-0.090</td>\n",
       "      <td>-0.174</td>\n",
       "      <td>0.279</td>\n",
       "      <td>-0.005</td>\n",
       "      <td>-0.087</td>\n",
       "      <td>0.045</td>\n",
       "    </tr>\n",
       "    <tr>\n",
       "      <th>War</th>\n",
       "      <td>0.088</td>\n",
       "      <td>0.071</td>\n",
       "      <td>-0.087</td>\n",
       "      <td>-0.058</td>\n",
       "      <td>-0.072</td>\n",
       "      <td>-0.082</td>\n",
       "      <td>-0.075</td>\n",
       "      <td>-0.014</td>\n",
       "      <td>0.206</td>\n",
       "      <td>-0.056</td>\n",
       "      <td>-0.020</td>\n",
       "      <td>-0.052</td>\n",
       "      <td>-0.008</td>\n",
       "      <td>-0.046</td>\n",
       "      <td>-0.064</td>\n",
       "      <td>-0.017</td>\n",
       "      <td>-0.106</td>\n",
       "      <td>-0.053</td>\n",
       "      <td>1.000</td>\n",
       "      <td>0.034</td>\n",
       "    </tr>\n",
       "    <tr>\n",
       "      <th>Thriller</th>\n",
       "      <td>0.086</td>\n",
       "      <td>0.311</td>\n",
       "      <td>-0.005</td>\n",
       "      <td>-0.168</td>\n",
       "      <td>-0.207</td>\n",
       "      <td>-0.365</td>\n",
       "      <td>0.249</td>\n",
       "      <td>-0.041</td>\n",
       "      <td>-0.038</td>\n",
       "      <td>-0.181</td>\n",
       "      <td>0.156</td>\n",
       "      <td>0.065</td>\n",
       "      <td>-0.011</td>\n",
       "      <td>-0.134</td>\n",
       "      <td>0.321</td>\n",
       "      <td>-0.203</td>\n",
       "      <td>0.140</td>\n",
       "      <td>1.000</td>\n",
       "      <td>-0.053</td>\n",
       "      <td>-0.100</td>\n",
       "    </tr>\n",
       "    <tr>\n",
       "      <th>Crime</th>\n",
       "      <td>0.080</td>\n",
       "      <td>0.062</td>\n",
       "      <td>-0.241</td>\n",
       "      <td>-0.092</td>\n",
       "      <td>-0.130</td>\n",
       "      <td>-0.126</td>\n",
       "      <td>1.000</td>\n",
       "      <td>-0.033</td>\n",
       "      <td>0.092</td>\n",
       "      <td>-0.155</td>\n",
       "      <td>0.193</td>\n",
       "      <td>-0.049</td>\n",
       "      <td>-0.033</td>\n",
       "      <td>-0.108</td>\n",
       "      <td>0.114</td>\n",
       "      <td>-0.207</td>\n",
       "      <td>-0.178</td>\n",
       "      <td>0.249</td>\n",
       "      <td>-0.075</td>\n",
       "      <td>-0.081</td>\n",
       "    </tr>\n",
       "    <tr>\n",
       "      <th>Action</th>\n",
       "      <td>0.066</td>\n",
       "      <td>1.000</td>\n",
       "      <td>0.334</td>\n",
       "      <td>-0.174</td>\n",
       "      <td>-0.213</td>\n",
       "      <td>-0.292</td>\n",
       "      <td>0.062</td>\n",
       "      <td>-0.051</td>\n",
       "      <td>-0.254</td>\n",
       "      <td>-0.118</td>\n",
       "      <td>-0.023</td>\n",
       "      <td>-0.009</td>\n",
       "      <td>0.130</td>\n",
       "      <td>-0.146</td>\n",
       "      <td>-0.064</td>\n",
       "      <td>-0.200</td>\n",
       "      <td>0.326</td>\n",
       "      <td>0.311</td>\n",
       "      <td>0.071</td>\n",
       "      <td>0.047</td>\n",
       "    </tr>\n",
       "    <tr>\n",
       "      <th>SciFi</th>\n",
       "      <td>0.064</td>\n",
       "      <td>0.326</td>\n",
       "      <td>0.279</td>\n",
       "      <td>-0.097</td>\n",
       "      <td>-0.101</td>\n",
       "      <td>-0.214</td>\n",
       "      <td>-0.178</td>\n",
       "      <td>-0.034</td>\n",
       "      <td>-0.159</td>\n",
       "      <td>-0.148</td>\n",
       "      <td>-0.048</td>\n",
       "      <td>0.016</td>\n",
       "      <td>0.120</td>\n",
       "      <td>-0.086</td>\n",
       "      <td>-0.015</td>\n",
       "      <td>-0.188</td>\n",
       "      <td>1.000</td>\n",
       "      <td>0.140</td>\n",
       "      <td>-0.106</td>\n",
       "      <td>-0.016</td>\n",
       "    </tr>\n",
       "    <tr>\n",
       "      <th>Animation</th>\n",
       "      <td>0.023</td>\n",
       "      <td>-0.174</td>\n",
       "      <td>0.164</td>\n",
       "      <td>1.000</td>\n",
       "      <td>0.754</td>\n",
       "      <td>0.126</td>\n",
       "      <td>-0.092</td>\n",
       "      <td>-0.018</td>\n",
       "      <td>-0.122</td>\n",
       "      <td>0.227</td>\n",
       "      <td>-0.026</td>\n",
       "      <td>-0.069</td>\n",
       "      <td>0.108</td>\n",
       "      <td>0.431</td>\n",
       "      <td>-0.053</td>\n",
       "      <td>0.021</td>\n",
       "      <td>-0.097</td>\n",
       "      <td>-0.168</td>\n",
       "      <td>-0.058</td>\n",
       "      <td>-0.046</td>\n",
       "    </tr>\n",
       "    <tr>\n",
       "      <th>Drama</th>\n",
       "      <td>0.019</td>\n",
       "      <td>-0.254</td>\n",
       "      <td>-0.290</td>\n",
       "      <td>-0.122</td>\n",
       "      <td>-0.126</td>\n",
       "      <td>-0.289</td>\n",
       "      <td>0.092</td>\n",
       "      <td>0.018</td>\n",
       "      <td>1.000</td>\n",
       "      <td>-0.122</td>\n",
       "      <td>-0.023</td>\n",
       "      <td>-0.110</td>\n",
       "      <td>-0.083</td>\n",
       "      <td>-0.082</td>\n",
       "      <td>0.016</td>\n",
       "      <td>0.066</td>\n",
       "      <td>-0.159</td>\n",
       "      <td>-0.038</td>\n",
       "      <td>0.206</td>\n",
       "      <td>-0.012</td>\n",
       "    </tr>\n",
       "    <tr>\n",
       "      <th>Children</th>\n",
       "      <td>0.002</td>\n",
       "      <td>-0.213</td>\n",
       "      <td>0.179</td>\n",
       "      <td>0.754</td>\n",
       "      <td>1.000</td>\n",
       "      <td>0.120</td>\n",
       "      <td>-0.130</td>\n",
       "      <td>-0.023</td>\n",
       "      <td>-0.126</td>\n",
       "      <td>0.372</td>\n",
       "      <td>-0.032</td>\n",
       "      <td>-0.085</td>\n",
       "      <td>0.093</td>\n",
       "      <td>0.407</td>\n",
       "      <td>-0.078</td>\n",
       "      <td>-0.016</td>\n",
       "      <td>-0.101</td>\n",
       "      <td>-0.207</td>\n",
       "      <td>-0.072</td>\n",
       "      <td>-0.057</td>\n",
       "    </tr>\n",
       "    <tr>\n",
       "      <th>Mystery</th>\n",
       "      <td>-0.007</td>\n",
       "      <td>-0.064</td>\n",
       "      <td>-0.090</td>\n",
       "      <td>-0.053</td>\n",
       "      <td>-0.078</td>\n",
       "      <td>-0.200</td>\n",
       "      <td>0.114</td>\n",
       "      <td>-0.020</td>\n",
       "      <td>0.016</td>\n",
       "      <td>-0.036</td>\n",
       "      <td>0.312</td>\n",
       "      <td>0.130</td>\n",
       "      <td>0.021</td>\n",
       "      <td>-0.067</td>\n",
       "      <td>1.000</td>\n",
       "      <td>-0.065</td>\n",
       "      <td>-0.015</td>\n",
       "      <td>0.321</td>\n",
       "      <td>-0.064</td>\n",
       "      <td>-0.050</td>\n",
       "    </tr>\n",
       "    <tr>\n",
       "      <th>Fantasy</th>\n",
       "      <td>-0.010</td>\n",
       "      <td>-0.118</td>\n",
       "      <td>0.243</td>\n",
       "      <td>0.227</td>\n",
       "      <td>0.372</td>\n",
       "      <td>0.095</td>\n",
       "      <td>-0.155</td>\n",
       "      <td>-0.028</td>\n",
       "      <td>-0.122</td>\n",
       "      <td>1.000</td>\n",
       "      <td>-0.039</td>\n",
       "      <td>-0.022</td>\n",
       "      <td>0.153</td>\n",
       "      <td>0.147</td>\n",
       "      <td>-0.036</td>\n",
       "      <td>0.025</td>\n",
       "      <td>-0.148</td>\n",
       "      <td>-0.181</td>\n",
       "      <td>-0.056</td>\n",
       "      <td>-0.069</td>\n",
       "    </tr>\n",
       "    <tr>\n",
       "      <th>IMAX</th>\n",
       "      <td>-0.016</td>\n",
       "      <td>0.130</td>\n",
       "      <td>0.218</td>\n",
       "      <td>0.108</td>\n",
       "      <td>0.093</td>\n",
       "      <td>-0.155</td>\n",
       "      <td>-0.033</td>\n",
       "      <td>-0.017</td>\n",
       "      <td>-0.083</td>\n",
       "      <td>0.153</td>\n",
       "      <td>-0.024</td>\n",
       "      <td>-0.024</td>\n",
       "      <td>1.000</td>\n",
       "      <td>0.030</td>\n",
       "      <td>0.021</td>\n",
       "      <td>-0.077</td>\n",
       "      <td>0.120</td>\n",
       "      <td>-0.011</td>\n",
       "      <td>-0.008</td>\n",
       "      <td>-0.043</td>\n",
       "    </tr>\n",
       "    <tr>\n",
       "      <th>Musical</th>\n",
       "      <td>-0.025</td>\n",
       "      <td>-0.146</td>\n",
       "      <td>-0.050</td>\n",
       "      <td>0.431</td>\n",
       "      <td>0.407</td>\n",
       "      <td>0.055</td>\n",
       "      <td>-0.108</td>\n",
       "      <td>-0.015</td>\n",
       "      <td>-0.082</td>\n",
       "      <td>0.147</td>\n",
       "      <td>-0.021</td>\n",
       "      <td>-0.010</td>\n",
       "      <td>0.030</td>\n",
       "      <td>1.000</td>\n",
       "      <td>-0.067</td>\n",
       "      <td>0.082</td>\n",
       "      <td>-0.086</td>\n",
       "      <td>-0.134</td>\n",
       "      <td>-0.046</td>\n",
       "      <td>-0.037</td>\n",
       "    </tr>\n",
       "    <tr>\n",
       "      <th>Horror</th>\n",
       "      <td>-0.036</td>\n",
       "      <td>-0.009</td>\n",
       "      <td>-0.097</td>\n",
       "      <td>-0.069</td>\n",
       "      <td>-0.085</td>\n",
       "      <td>-0.028</td>\n",
       "      <td>-0.049</td>\n",
       "      <td>-0.017</td>\n",
       "      <td>-0.110</td>\n",
       "      <td>-0.022</td>\n",
       "      <td>-0.023</td>\n",
       "      <td>1.000</td>\n",
       "      <td>-0.024</td>\n",
       "      <td>-0.010</td>\n",
       "      <td>0.130</td>\n",
       "      <td>-0.095</td>\n",
       "      <td>0.016</td>\n",
       "      <td>0.065</td>\n",
       "      <td>-0.052</td>\n",
       "      <td>-0.041</td>\n",
       "    </tr>\n",
       "    <tr>\n",
       "      <th>FilmNoir</th>\n",
       "      <td>-0.039</td>\n",
       "      <td>-0.023</td>\n",
       "      <td>-0.061</td>\n",
       "      <td>-0.026</td>\n",
       "      <td>-0.032</td>\n",
       "      <td>-0.078</td>\n",
       "      <td>0.193</td>\n",
       "      <td>-0.006</td>\n",
       "      <td>-0.023</td>\n",
       "      <td>-0.039</td>\n",
       "      <td>1.000</td>\n",
       "      <td>-0.023</td>\n",
       "      <td>-0.024</td>\n",
       "      <td>-0.021</td>\n",
       "      <td>0.312</td>\n",
       "      <td>-0.046</td>\n",
       "      <td>-0.048</td>\n",
       "      <td>0.156</td>\n",
       "      <td>-0.020</td>\n",
       "      <td>-0.016</td>\n",
       "    </tr>\n",
       "    <tr>\n",
       "      <th>Romance</th>\n",
       "      <td>-0.045</td>\n",
       "      <td>-0.200</td>\n",
       "      <td>-0.174</td>\n",
       "      <td>0.021</td>\n",
       "      <td>-0.016</td>\n",
       "      <td>0.229</td>\n",
       "      <td>-0.207</td>\n",
       "      <td>-0.032</td>\n",
       "      <td>0.066</td>\n",
       "      <td>0.025</td>\n",
       "      <td>-0.046</td>\n",
       "      <td>-0.095</td>\n",
       "      <td>-0.077</td>\n",
       "      <td>0.082</td>\n",
       "      <td>-0.065</td>\n",
       "      <td>1.000</td>\n",
       "      <td>-0.188</td>\n",
       "      <td>-0.203</td>\n",
       "      <td>-0.017</td>\n",
       "      <td>-0.009</td>\n",
       "    </tr>\n",
       "    <tr>\n",
       "      <th>Documentary</th>\n",
       "      <td>-0.055</td>\n",
       "      <td>-0.051</td>\n",
       "      <td>-0.043</td>\n",
       "      <td>-0.018</td>\n",
       "      <td>-0.023</td>\n",
       "      <td>0.013</td>\n",
       "      <td>-0.033</td>\n",
       "      <td>1.000</td>\n",
       "      <td>0.018</td>\n",
       "      <td>-0.028</td>\n",
       "      <td>-0.006</td>\n",
       "      <td>-0.017</td>\n",
       "      <td>-0.017</td>\n",
       "      <td>-0.015</td>\n",
       "      <td>-0.020</td>\n",
       "      <td>-0.032</td>\n",
       "      <td>-0.034</td>\n",
       "      <td>-0.041</td>\n",
       "      <td>-0.014</td>\n",
       "      <td>-0.011</td>\n",
       "    </tr>\n",
       "    <tr>\n",
       "      <th>Western</th>\n",
       "      <td>-0.061</td>\n",
       "      <td>0.047</td>\n",
       "      <td>0.045</td>\n",
       "      <td>-0.046</td>\n",
       "      <td>-0.057</td>\n",
       "      <td>0.005</td>\n",
       "      <td>-0.081</td>\n",
       "      <td>-0.011</td>\n",
       "      <td>-0.012</td>\n",
       "      <td>-0.069</td>\n",
       "      <td>-0.016</td>\n",
       "      <td>-0.041</td>\n",
       "      <td>-0.043</td>\n",
       "      <td>-0.037</td>\n",
       "      <td>-0.050</td>\n",
       "      <td>-0.009</td>\n",
       "      <td>-0.016</td>\n",
       "      <td>-0.100</td>\n",
       "      <td>0.034</td>\n",
       "      <td>1.000</td>\n",
       "    </tr>\n",
       "    <tr>\n",
       "      <th>Comedy</th>\n",
       "      <td>-0.129</td>\n",
       "      <td>-0.292</td>\n",
       "      <td>-0.091</td>\n",
       "      <td>0.126</td>\n",
       "      <td>0.120</td>\n",
       "      <td>1.000</td>\n",
       "      <td>-0.126</td>\n",
       "      <td>0.013</td>\n",
       "      <td>-0.289</td>\n",
       "      <td>0.095</td>\n",
       "      <td>-0.078</td>\n",
       "      <td>-0.028</td>\n",
       "      <td>-0.155</td>\n",
       "      <td>0.055</td>\n",
       "      <td>-0.200</td>\n",
       "      <td>0.229</td>\n",
       "      <td>-0.214</td>\n",
       "      <td>-0.365</td>\n",
       "      <td>-0.082</td>\n",
       "      <td>0.005</td>\n",
       "    </tr>\n",
       "  </tbody>\n",
       "</table>\n",
       "</div>"
      ],
      "text/plain": [
       "                total_de_votos  Action  Adventure  Animation  Children  \\\n",
       "total_de_votos           1.000   0.066      0.104      0.023     0.002   \n",
       "Adventure                0.104   0.334      1.000      0.164     0.179   \n",
       "War                      0.088   0.071     -0.087     -0.058    -0.072   \n",
       "Thriller                 0.086   0.311     -0.005     -0.168    -0.207   \n",
       "Crime                    0.080   0.062     -0.241     -0.092    -0.130   \n",
       "Action                   0.066   1.000      0.334     -0.174    -0.213   \n",
       "SciFi                    0.064   0.326      0.279     -0.097    -0.101   \n",
       "Animation                0.023  -0.174      0.164      1.000     0.754   \n",
       "Drama                    0.019  -0.254     -0.290     -0.122    -0.126   \n",
       "Children                 0.002  -0.213      0.179      0.754     1.000   \n",
       "Mystery                 -0.007  -0.064     -0.090     -0.053    -0.078   \n",
       "Fantasy                 -0.010  -0.118      0.243      0.227     0.372   \n",
       "IMAX                    -0.016   0.130      0.218      0.108     0.093   \n",
       "Musical                 -0.025  -0.146     -0.050      0.431     0.407   \n",
       "Horror                  -0.036  -0.009     -0.097     -0.069    -0.085   \n",
       "FilmNoir                -0.039  -0.023     -0.061     -0.026    -0.032   \n",
       "Romance                 -0.045  -0.200     -0.174      0.021    -0.016   \n",
       "Documentary             -0.055  -0.051     -0.043     -0.018    -0.023   \n",
       "Western                 -0.061   0.047      0.045     -0.046    -0.057   \n",
       "Comedy                  -0.129  -0.292     -0.091      0.126     0.120   \n",
       "\n",
       "                Comedy  Crime  Documentary  Drama  Fantasy  FilmNoir  Horror  \\\n",
       "total_de_votos  -0.129  0.080       -0.055  0.019   -0.010    -0.039  -0.036   \n",
       "Adventure       -0.091 -0.241       -0.043 -0.290    0.243    -0.061  -0.097   \n",
       "War             -0.082 -0.075       -0.014  0.206   -0.056    -0.020  -0.052   \n",
       "Thriller        -0.365  0.249       -0.041 -0.038   -0.181     0.156   0.065   \n",
       "Crime           -0.126  1.000       -0.033  0.092   -0.155     0.193  -0.049   \n",
       "Action          -0.292  0.062       -0.051 -0.254   -0.118    -0.023  -0.009   \n",
       "SciFi           -0.214 -0.178       -0.034 -0.159   -0.148    -0.048   0.016   \n",
       "Animation        0.126 -0.092       -0.018 -0.122    0.227    -0.026  -0.069   \n",
       "Drama           -0.289  0.092        0.018  1.000   -0.122    -0.023  -0.110   \n",
       "Children         0.120 -0.130       -0.023 -0.126    0.372    -0.032  -0.085   \n",
       "Mystery         -0.200  0.114       -0.020  0.016   -0.036     0.312   0.130   \n",
       "Fantasy          0.095 -0.155       -0.028 -0.122    1.000    -0.039  -0.022   \n",
       "IMAX            -0.155 -0.033       -0.017 -0.083    0.153    -0.024  -0.024   \n",
       "Musical          0.055 -0.108       -0.015 -0.082    0.147    -0.021  -0.010   \n",
       "Horror          -0.028 -0.049       -0.017 -0.110   -0.022    -0.023   1.000   \n",
       "FilmNoir        -0.078  0.193       -0.006 -0.023   -0.039     1.000  -0.023   \n",
       "Romance          0.229 -0.207       -0.032  0.066    0.025    -0.046  -0.095   \n",
       "Documentary      0.013 -0.033        1.000  0.018   -0.028    -0.006  -0.017   \n",
       "Western          0.005 -0.081       -0.011 -0.012   -0.069    -0.016  -0.041   \n",
       "Comedy           1.000 -0.126        0.013 -0.289    0.095    -0.078  -0.028   \n",
       "\n",
       "                 IMAX  Musical  Mystery  Romance  SciFi  Thriller    War  \\\n",
       "total_de_votos -0.016   -0.025   -0.007   -0.045  0.064     0.086  0.088   \n",
       "Adventure       0.218   -0.050   -0.090   -0.174  0.279    -0.005 -0.087   \n",
       "War            -0.008   -0.046   -0.064   -0.017 -0.106    -0.053  1.000   \n",
       "Thriller       -0.011   -0.134    0.321   -0.203  0.140     1.000 -0.053   \n",
       "Crime          -0.033   -0.108    0.114   -0.207 -0.178     0.249 -0.075   \n",
       "Action          0.130   -0.146   -0.064   -0.200  0.326     0.311  0.071   \n",
       "SciFi           0.120   -0.086   -0.015   -0.188  1.000     0.140 -0.106   \n",
       "Animation       0.108    0.431   -0.053    0.021 -0.097    -0.168 -0.058   \n",
       "Drama          -0.083   -0.082    0.016    0.066 -0.159    -0.038  0.206   \n",
       "Children        0.093    0.407   -0.078   -0.016 -0.101    -0.207 -0.072   \n",
       "Mystery         0.021   -0.067    1.000   -0.065 -0.015     0.321 -0.064   \n",
       "Fantasy         0.153    0.147   -0.036    0.025 -0.148    -0.181 -0.056   \n",
       "IMAX            1.000    0.030    0.021   -0.077  0.120    -0.011 -0.008   \n",
       "Musical         0.030    1.000   -0.067    0.082 -0.086    -0.134 -0.046   \n",
       "Horror         -0.024   -0.010    0.130   -0.095  0.016     0.065 -0.052   \n",
       "FilmNoir       -0.024   -0.021    0.312   -0.046 -0.048     0.156 -0.020   \n",
       "Romance        -0.077    0.082   -0.065    1.000 -0.188    -0.203 -0.017   \n",
       "Documentary    -0.017   -0.015   -0.020   -0.032 -0.034    -0.041 -0.014   \n",
       "Western        -0.043   -0.037   -0.050   -0.009 -0.016    -0.100  0.034   \n",
       "Comedy         -0.155    0.055   -0.200    0.229 -0.214    -0.365 -0.082   \n",
       "\n",
       "                Western  \n",
       "total_de_votos   -0.061  \n",
       "Adventure         0.045  \n",
       "War               0.034  \n",
       "Thriller         -0.100  \n",
       "Crime            -0.081  \n",
       "Action            0.047  \n",
       "SciFi            -0.016  \n",
       "Animation        -0.046  \n",
       "Drama            -0.012  \n",
       "Children         -0.057  \n",
       "Mystery          -0.050  \n",
       "Fantasy          -0.069  \n",
       "IMAX             -0.043  \n",
       "Musical          -0.037  \n",
       "Horror           -0.041  \n",
       "FilmNoir         -0.016  \n",
       "Romance          -0.009  \n",
       "Documentary      -0.011  \n",
       "Western           1.000  \n",
       "Comedy            0.005  "
      ]
     },
     "execution_count": 455,
     "metadata": {},
     "output_type": "execute_result"
    }
   ],
   "source": [
    "# solucao\n",
    "# 2 maiores valores de correlação: Comedy e Adventure\n",
    "# 2 menores valores de correlação: Children e Mystery\n",
    "filmes[['total_de_votos','Action', 'Adventure', 'Animation', 'Children', 'Comedy', 'Crime',\n",
    "       'Documentary', 'Drama', 'Fantasy', 'FilmNoir', 'Horror', 'IMAX',\n",
    "       'Musical', 'Mystery', 'Romance', 'SciFi', 'Thriller', 'War', 'Western']\n",
    "      ].corr().sort_values(by=['total_de_votos'],ascending = False).round(3)"
   ]
  },
  {
   "cell_type": "markdown",
   "metadata": {},
   "source": [
    "## Pergunta: Visualize graficamente o relacionamento entre ano de lançamento e nota média\n",
    "\n",
    "- Use o gráfico `lineplot`"
   ]
  },
  {
   "cell_type": "code",
   "execution_count": 456,
   "metadata": {},
   "outputs": [
    {
     "data": {
      "text/html": [
       "<div>\n",
       "<style scoped>\n",
       "    .dataframe tbody tr th:only-of-type {\n",
       "        vertical-align: middle;\n",
       "    }\n",
       "\n",
       "    .dataframe tbody tr th {\n",
       "        vertical-align: top;\n",
       "    }\n",
       "\n",
       "    .dataframe thead th {\n",
       "        text-align: right;\n",
       "    }\n",
       "</style>\n",
       "<table border=\"1\" class=\"dataframe\">\n",
       "  <thead>\n",
       "    <tr style=\"text-align: right;\">\n",
       "      <th></th>\n",
       "      <th>titulo</th>\n",
       "      <th>ano_de_lancamento</th>\n",
       "      <th>nota_media</th>\n",
       "      <th>total_de_votos</th>\n",
       "      <th>Action</th>\n",
       "      <th>Adventure</th>\n",
       "      <th>Animation</th>\n",
       "      <th>Children</th>\n",
       "      <th>Comedy</th>\n",
       "      <th>Crime</th>\n",
       "      <th>...</th>\n",
       "      <th>FilmNoir</th>\n",
       "      <th>Horror</th>\n",
       "      <th>IMAX</th>\n",
       "      <th>Musical</th>\n",
       "      <th>Mystery</th>\n",
       "      <th>Romance</th>\n",
       "      <th>SciFi</th>\n",
       "      <th>Thriller</th>\n",
       "      <th>War</th>\n",
       "      <th>Western</th>\n",
       "    </tr>\n",
       "    <tr>\n",
       "      <th>filmeId</th>\n",
       "      <th></th>\n",
       "      <th></th>\n",
       "      <th></th>\n",
       "      <th></th>\n",
       "      <th></th>\n",
       "      <th></th>\n",
       "      <th></th>\n",
       "      <th></th>\n",
       "      <th></th>\n",
       "      <th></th>\n",
       "      <th></th>\n",
       "      <th></th>\n",
       "      <th></th>\n",
       "      <th></th>\n",
       "      <th></th>\n",
       "      <th></th>\n",
       "      <th></th>\n",
       "      <th></th>\n",
       "      <th></th>\n",
       "      <th></th>\n",
       "      <th></th>\n",
       "    </tr>\n",
       "  </thead>\n",
       "  <tbody>\n",
       "    <tr>\n",
       "      <th>1</th>\n",
       "      <td>Toy Story (1995)</td>\n",
       "      <td>1995.0</td>\n",
       "      <td>3.920930</td>\n",
       "      <td>215.0</td>\n",
       "      <td>0</td>\n",
       "      <td>1</td>\n",
       "      <td>1</td>\n",
       "      <td>1</td>\n",
       "      <td>1</td>\n",
       "      <td>0</td>\n",
       "      <td>...</td>\n",
       "      <td>0</td>\n",
       "      <td>0</td>\n",
       "      <td>0</td>\n",
       "      <td>0</td>\n",
       "      <td>0</td>\n",
       "      <td>0</td>\n",
       "      <td>0</td>\n",
       "      <td>0</td>\n",
       "      <td>0</td>\n",
       "      <td>0</td>\n",
       "    </tr>\n",
       "    <tr>\n",
       "      <th>2</th>\n",
       "      <td>Jumanji (1995)</td>\n",
       "      <td>1995.0</td>\n",
       "      <td>3.431818</td>\n",
       "      <td>110.0</td>\n",
       "      <td>0</td>\n",
       "      <td>1</td>\n",
       "      <td>0</td>\n",
       "      <td>1</td>\n",
       "      <td>0</td>\n",
       "      <td>0</td>\n",
       "      <td>...</td>\n",
       "      <td>0</td>\n",
       "      <td>0</td>\n",
       "      <td>0</td>\n",
       "      <td>0</td>\n",
       "      <td>0</td>\n",
       "      <td>0</td>\n",
       "      <td>0</td>\n",
       "      <td>0</td>\n",
       "      <td>0</td>\n",
       "      <td>0</td>\n",
       "    </tr>\n",
       "    <tr>\n",
       "      <th>3</th>\n",
       "      <td>Grumpier Old Men (1995)</td>\n",
       "      <td>1995.0</td>\n",
       "      <td>3.259615</td>\n",
       "      <td>52.0</td>\n",
       "      <td>0</td>\n",
       "      <td>0</td>\n",
       "      <td>0</td>\n",
       "      <td>0</td>\n",
       "      <td>1</td>\n",
       "      <td>0</td>\n",
       "      <td>...</td>\n",
       "      <td>0</td>\n",
       "      <td>0</td>\n",
       "      <td>0</td>\n",
       "      <td>0</td>\n",
       "      <td>0</td>\n",
       "      <td>1</td>\n",
       "      <td>0</td>\n",
       "      <td>0</td>\n",
       "      <td>0</td>\n",
       "      <td>0</td>\n",
       "    </tr>\n",
       "    <tr>\n",
       "      <th>6</th>\n",
       "      <td>Heat (1995)</td>\n",
       "      <td>1995.0</td>\n",
       "      <td>3.946078</td>\n",
       "      <td>102.0</td>\n",
       "      <td>1</td>\n",
       "      <td>0</td>\n",
       "      <td>0</td>\n",
       "      <td>0</td>\n",
       "      <td>0</td>\n",
       "      <td>1</td>\n",
       "      <td>...</td>\n",
       "      <td>0</td>\n",
       "      <td>0</td>\n",
       "      <td>0</td>\n",
       "      <td>0</td>\n",
       "      <td>0</td>\n",
       "      <td>0</td>\n",
       "      <td>0</td>\n",
       "      <td>1</td>\n",
       "      <td>0</td>\n",
       "      <td>0</td>\n",
       "    </tr>\n",
       "    <tr>\n",
       "      <th>7</th>\n",
       "      <td>Sabrina (1995)</td>\n",
       "      <td>1995.0</td>\n",
       "      <td>3.185185</td>\n",
       "      <td>54.0</td>\n",
       "      <td>0</td>\n",
       "      <td>0</td>\n",
       "      <td>0</td>\n",
       "      <td>0</td>\n",
       "      <td>1</td>\n",
       "      <td>0</td>\n",
       "      <td>...</td>\n",
       "      <td>0</td>\n",
       "      <td>0</td>\n",
       "      <td>0</td>\n",
       "      <td>0</td>\n",
       "      <td>0</td>\n",
       "      <td>1</td>\n",
       "      <td>0</td>\n",
       "      <td>0</td>\n",
       "      <td>0</td>\n",
       "      <td>0</td>\n",
       "    </tr>\n",
       "  </tbody>\n",
       "</table>\n",
       "<p>5 rows × 23 columns</p>\n",
       "</div>"
      ],
      "text/plain": [
       "                          titulo  ano_de_lancamento  nota_media  \\\n",
       "filmeId                                                           \n",
       "1               Toy Story (1995)             1995.0    3.920930   \n",
       "2                 Jumanji (1995)             1995.0    3.431818   \n",
       "3        Grumpier Old Men (1995)             1995.0    3.259615   \n",
       "6                    Heat (1995)             1995.0    3.946078   \n",
       "7                 Sabrina (1995)             1995.0    3.185185   \n",
       "\n",
       "         total_de_votos  Action  Adventure  Animation  Children  Comedy  \\\n",
       "filmeId                                                                   \n",
       "1                 215.0       0          1          1         1       1   \n",
       "2                 110.0       0          1          0         1       0   \n",
       "3                  52.0       0          0          0         0       1   \n",
       "6                 102.0       1          0          0         0       0   \n",
       "7                  54.0       0          0          0         0       1   \n",
       "\n",
       "         Crime  ...  FilmNoir  Horror  IMAX  Musical  Mystery  Romance  SciFi  \\\n",
       "filmeId         ...                                                             \n",
       "1            0  ...         0       0     0        0        0        0      0   \n",
       "2            0  ...         0       0     0        0        0        0      0   \n",
       "3            0  ...         0       0     0        0        0        1      0   \n",
       "6            1  ...         0       0     0        0        0        0      0   \n",
       "7            0  ...         0       0     0        0        0        1      0   \n",
       "\n",
       "         Thriller  War  Western  \n",
       "filmeId                          \n",
       "1               0    0        0  \n",
       "2               0    0        0  \n",
       "3               0    0        0  \n",
       "6               1    0        0  \n",
       "7               0    0        0  \n",
       "\n",
       "[5 rows x 23 columns]"
      ]
     },
     "execution_count": 456,
     "metadata": {},
     "output_type": "execute_result"
    }
   ],
   "source": [
    "filmes.head()"
   ]
  },
  {
   "cell_type": "code",
   "execution_count": 457,
   "metadata": {},
   "outputs": [
    {
     "data": {
      "text/plain": [
       "Text(0.5, 1.0, 'Relação entre ano de lançamento e nota média')"
      ]
     },
     "execution_count": 457,
     "metadata": {},
     "output_type": "execute_result"
    },
    {
     "data": {
      "image/png": "[encoded data removed]",
      "text/plain": [
       "<Figure size 864x432 with 1 Axes>"
      ]
     },
     "metadata": {},
     "output_type": "display_data"
    }
   ],
   "source": [
    "# solucao\n",
    "lineplot_nota_ano = sns.lineplot(data = filmes,x = 'ano_de_lancamento',y = 'nota_media')\n",
    "lineplot_nota_ano.figure.set_size_inches(12,6)\n",
    "lineplot_nota_ano.set_xlabel('Ano', fontsize = 14)\n",
    "lineplot_nota_ano.set_ylabel('Nota', fontsize = 14)\n",
    "lineplot_nota_ano.set_title('Relação entre ano de lançamento e nota média',fontsize = 16)"
   ]
  },
  {
   "cell_type": "markdown",
   "metadata": {},
   "source": [
    "## Pergunta: Interprete a correlação entre `ano_de_lancamento` e a `nota_media`?\n",
    "\n",
    "- Calcule a correlação numericamente (use o `corr` do pandas)\n",
    "- Correlação não implica causalidade, qual \"problema\" na coleta dos dados pode gerar esse tipo de correlação?"
   ]
  },
  {
   "cell_type": "code",
   "execution_count": 458,
   "metadata": {},
   "outputs": [
    {
     "data": {
      "text/html": [
       "<div>\n",
       "<style scoped>\n",
       "    .dataframe tbody tr th:only-of-type {\n",
       "        vertical-align: middle;\n",
       "    }\n",
       "\n",
       "    .dataframe tbody tr th {\n",
       "        vertical-align: top;\n",
       "    }\n",
       "\n",
       "    .dataframe thead th {\n",
       "        text-align: right;\n",
       "    }\n",
       "</style>\n",
       "<table border=\"1\" class=\"dataframe\">\n",
       "  <thead>\n",
       "    <tr style=\"text-align: right;\">\n",
       "      <th></th>\n",
       "      <th>ano_de_lancamento</th>\n",
       "      <th>nota_media</th>\n",
       "    </tr>\n",
       "  </thead>\n",
       "  <tbody>\n",
       "    <tr>\n",
       "      <th>ano_de_lancamento</th>\n",
       "      <td>1.000000</td>\n",
       "      <td>-0.159146</td>\n",
       "    </tr>\n",
       "    <tr>\n",
       "      <th>nota_media</th>\n",
       "      <td>-0.159146</td>\n",
       "      <td>1.000000</td>\n",
       "    </tr>\n",
       "  </tbody>\n",
       "</table>\n",
       "</div>"
      ],
      "text/plain": [
       "                   ano_de_lancamento  nota_media\n",
       "ano_de_lancamento           1.000000   -0.159146\n",
       "nota_media                 -0.159146    1.000000"
      ]
     },
     "execution_count": 458,
     "metadata": {},
     "output_type": "execute_result"
    }
   ],
   "source": [
    "# solução (código)\n",
    "filmes[['ano_de_lancamento','nota_media']].corr()"
   ]
  },
  {
   "cell_type": "markdown",
   "metadata": {},
   "source": [
    "### Solução (explicação)\n",
    "#### Uma quantidade de maior de amostras nos últimos anos.\n",
    "\n"
   ]
  },
  {
   "cell_type": "markdown",
   "metadata": {},
   "source": [
    "## Pergunta: analise um pairplot\n",
    "\n",
    "- crie uma variável chamada `infos` baseada nas colunas `ano_de_lancamento`, `nota_media` e `total_de_votos` de `filmes`\n",
    "- faça o pairplot usando seaborn\n",
    "- coloque uma regressão linear para cada pequeno plot dentro dele"
   ]
  },
  {
   "cell_type": "code",
   "execution_count": 459,
   "metadata": {},
   "outputs": [
    {
     "data": {
      "text/html": [
       "<div>\n",
       "<style scoped>\n",
       "    .dataframe tbody tr th:only-of-type {\n",
       "        vertical-align: middle;\n",
       "    }\n",
       "\n",
       "    .dataframe tbody tr th {\n",
       "        vertical-align: top;\n",
       "    }\n",
       "\n",
       "    .dataframe thead th {\n",
       "        text-align: right;\n",
       "    }\n",
       "</style>\n",
       "<table border=\"1\" class=\"dataframe\">\n",
       "  <thead>\n",
       "    <tr style=\"text-align: right;\">\n",
       "      <th></th>\n",
       "      <th>ano_de_lancamento</th>\n",
       "      <th>nota_media</th>\n",
       "      <th>total_de_votos</th>\n",
       "    </tr>\n",
       "    <tr>\n",
       "      <th>filmeId</th>\n",
       "      <th></th>\n",
       "      <th></th>\n",
       "      <th></th>\n",
       "    </tr>\n",
       "  </thead>\n",
       "  <tbody>\n",
       "    <tr>\n",
       "      <th>1</th>\n",
       "      <td>1995.0</td>\n",
       "      <td>3.920930</td>\n",
       "      <td>215.0</td>\n",
       "    </tr>\n",
       "    <tr>\n",
       "      <th>2</th>\n",
       "      <td>1995.0</td>\n",
       "      <td>3.431818</td>\n",
       "      <td>110.0</td>\n",
       "    </tr>\n",
       "    <tr>\n",
       "      <th>3</th>\n",
       "      <td>1995.0</td>\n",
       "      <td>3.259615</td>\n",
       "      <td>52.0</td>\n",
       "    </tr>\n",
       "    <tr>\n",
       "      <th>6</th>\n",
       "      <td>1995.0</td>\n",
       "      <td>3.946078</td>\n",
       "      <td>102.0</td>\n",
       "    </tr>\n",
       "    <tr>\n",
       "      <th>7</th>\n",
       "      <td>1995.0</td>\n",
       "      <td>3.185185</td>\n",
       "      <td>54.0</td>\n",
       "    </tr>\n",
       "  </tbody>\n",
       "</table>\n",
       "</div>"
      ],
      "text/plain": [
       "         ano_de_lancamento  nota_media  total_de_votos\n",
       "filmeId                                               \n",
       "1                   1995.0    3.920930           215.0\n",
       "2                   1995.0    3.431818           110.0\n",
       "3                   1995.0    3.259615            52.0\n",
       "6                   1995.0    3.946078           102.0\n",
       "7                   1995.0    3.185185            54.0"
      ]
     },
     "execution_count": 459,
     "metadata": {},
     "output_type": "execute_result"
    }
   ],
   "source": [
    "# solução\n",
    "infos = filmes[['ano_de_lancamento','nota_media','total_de_votos']]\n",
    "infos.head()"
   ]
  },
  {
   "cell_type": "code",
   "execution_count": 460,
   "metadata": {},
   "outputs": [
    {
     "data": {
      "text/plain": [
       "<seaborn.axisgrid.PairGrid at 0x209fdea1a88>"
      ]
     },
     "execution_count": 460,
     "metadata": {},
     "output_type": "execute_result"
    },
    {
     "data": {
      "image/png": "[encoded data removed]",
      "text/plain": [
       "<Figure size 540x540 with 12 Axes>"
      ]
     },
     "metadata": {},
     "output_type": "display_data"
    }
   ],
   "source": [
    "sns.pairplot(data = infos, kind = 'reg')"
   ]
  },
  {
   "cell_type": "markdown",
   "metadata": {},
   "source": [
    "## Pergunta: analise um pairplot dos filmes de `Animation`\n",
    "\n",
    "- use o dataframe `filmes`\n",
    "- em um único pairplot separe com cores distintas os filmes da categoria `Animation` dos outros\n",
    "- use uma palete como `husl`\n",
    "- use marcadores distintos para cada um dos dois grupos\n",
    "- faça o pairplot usando seaborn e coloque uma regressão linear para cada pequeno plot dentro dele\n",
    "- tanto em x quanto y use somente três variáveis: `total_de_votos`, `ano_de_lancamento`, `nota_media`"
   ]
  },
  {
   "cell_type": "code",
   "execution_count": 461,
   "metadata": {},
   "outputs": [],
   "source": [
    "animation = filmes.query('Animation > 0')"
   ]
  },
  {
   "cell_type": "code",
   "execution_count": 462,
   "metadata": {},
   "outputs": [
    {
     "data": {
      "image/png": "[encoded data removed]",
      "text/plain": [
       "<Figure size 594.05x540 with 12 Axes>"
      ]
     },
     "metadata": {},
     "output_type": "display_data"
    }
   ],
   "source": [
    "sns.set(color_codes=True,)\n",
    "animation_pairplot = sns.pairplot(data = filmes, y_vars = ['ano_de_lancamento',\n",
    "        'nota_media','total_de_votos'] , x_vars = ['ano_de_lancamento',\n",
    "        'nota_media','total_de_votos'] ,hue = 'Animation', kind = 'reg',palette=\"husl\",markers=['o','*'])"
   ]
  },
  {
   "cell_type": "markdown",
   "metadata": {},
   "source": [
    "## Pergunta: Analise a regressão em relação ao ano de lançamento.\n",
    "\n",
    "- Como parece se comportar a `nota_media` de filmes de `Animation` mais antigos e mais recentes? (ano_de_lancamento x nota_media). Essa correlação parece ser baixa, mas parece ser linear?\n",
    "- E o `ano_de_lancamento` x `total_de_votos`?\n",
    "- E das outras categorias? Compare isso com os outros filmes.\n",
    "- O que leva você levantar como hipótese para esse resultado?"
   ]
  },
  {
   "cell_type": "markdown",
   "metadata": {},
   "source": [
    "### Solução: Apesar de haver uma baixa correlação, é possível ver que a nota média de filmes de Animation aumentaram com o passar dos anos e apresenta um correlação positiva.\n",
    "### O total de votos aumentou conforme o passar dos anos, apresentando uma correlação positiva.\n",
    "### Existe uma correlação positiva entre o total de votos x nota média. Algumas correlações, como nota média x ano de lançamento e total de votos x ano de lançamento de outros filmes são inversas em relação a filmes Animation.\n",
    "### Houve um aumento no número de votos e nota média consideráveis com o passar do tempo. Pode estar relacionado a estabilização da média das notas conforme o número de amostras aumenta.\n",
    "\n"
   ]
  },
  {
   "cell_type": "markdown",
   "metadata": {},
   "source": [
    "## Pergunta: Explore\n",
    "\n",
    "- compartilhe conosco 2 visualizações extras que julgar interessante\n",
    "- explique o que encontrou\n",
    "- use quantas células (texto ou código) julgar necessário"
   ]
  },
  {
   "cell_type": "code",
   "execution_count": 463,
   "metadata": {},
   "outputs": [],
   "source": [
    "# solução"
   ]
  },
  {
   "cell_type": "code",
   "execution_count": 464,
   "metadata": {},
   "outputs": [],
   "source": [
    "cinco_maiores_medias = filmes.sort_values(by = 'nota_media',ascending = False).head(5)"
   ]
  },
  {
   "cell_type": "code",
   "execution_count": 465,
   "metadata": {
    "scrolled": true
   },
   "outputs": [
    {
     "data": {
      "text/html": [
       "<div>\n",
       "<style scoped>\n",
       "    .dataframe tbody tr th:only-of-type {\n",
       "        vertical-align: middle;\n",
       "    }\n",
       "\n",
       "    .dataframe tbody tr th {\n",
       "        vertical-align: top;\n",
       "    }\n",
       "\n",
       "    .dataframe thead th {\n",
       "        text-align: right;\n",
       "    }\n",
       "</style>\n",
       "<table border=\"1\" class=\"dataframe\">\n",
       "  <thead>\n",
       "    <tr style=\"text-align: right;\">\n",
       "      <th></th>\n",
       "      <th>titulo</th>\n",
       "      <th>ano_de_lancamento</th>\n",
       "      <th>nota_media</th>\n",
       "      <th>total_de_votos</th>\n",
       "      <th>Action</th>\n",
       "      <th>Adventure</th>\n",
       "      <th>Animation</th>\n",
       "      <th>Children</th>\n",
       "      <th>Comedy</th>\n",
       "      <th>Crime</th>\n",
       "      <th>...</th>\n",
       "      <th>FilmNoir</th>\n",
       "      <th>Horror</th>\n",
       "      <th>IMAX</th>\n",
       "      <th>Musical</th>\n",
       "      <th>Mystery</th>\n",
       "      <th>Romance</th>\n",
       "      <th>SciFi</th>\n",
       "      <th>Thriller</th>\n",
       "      <th>War</th>\n",
       "      <th>Western</th>\n",
       "    </tr>\n",
       "    <tr>\n",
       "      <th>filmeId</th>\n",
       "      <th></th>\n",
       "      <th></th>\n",
       "      <th></th>\n",
       "      <th></th>\n",
       "      <th></th>\n",
       "      <th></th>\n",
       "      <th></th>\n",
       "      <th></th>\n",
       "      <th></th>\n",
       "      <th></th>\n",
       "      <th></th>\n",
       "      <th></th>\n",
       "      <th></th>\n",
       "      <th></th>\n",
       "      <th></th>\n",
       "      <th></th>\n",
       "      <th></th>\n",
       "      <th></th>\n",
       "      <th></th>\n",
       "      <th></th>\n",
       "      <th></th>\n",
       "    </tr>\n",
       "  </thead>\n",
       "  <tbody>\n",
       "    <tr>\n",
       "      <th>318</th>\n",
       "      <td>Shawshank Redemption, The (1994)</td>\n",
       "      <td>1994.0</td>\n",
       "      <td>4.429022</td>\n",
       "      <td>317.0</td>\n",
       "      <td>0</td>\n",
       "      <td>0</td>\n",
       "      <td>0</td>\n",
       "      <td>0</td>\n",
       "      <td>0</td>\n",
       "      <td>1</td>\n",
       "      <td>...</td>\n",
       "      <td>0</td>\n",
       "      <td>0</td>\n",
       "      <td>0</td>\n",
       "      <td>0</td>\n",
       "      <td>0</td>\n",
       "      <td>0</td>\n",
       "      <td>0</td>\n",
       "      <td>0</td>\n",
       "      <td>0</td>\n",
       "      <td>0</td>\n",
       "    </tr>\n",
       "    <tr>\n",
       "      <th>858</th>\n",
       "      <td>Godfather, The (1972)</td>\n",
       "      <td>1972.0</td>\n",
       "      <td>4.289062</td>\n",
       "      <td>192.0</td>\n",
       "      <td>0</td>\n",
       "      <td>0</td>\n",
       "      <td>0</td>\n",
       "      <td>0</td>\n",
       "      <td>0</td>\n",
       "      <td>1</td>\n",
       "      <td>...</td>\n",
       "      <td>0</td>\n",
       "      <td>0</td>\n",
       "      <td>0</td>\n",
       "      <td>0</td>\n",
       "      <td>0</td>\n",
       "      <td>0</td>\n",
       "      <td>0</td>\n",
       "      <td>0</td>\n",
       "      <td>0</td>\n",
       "      <td>0</td>\n",
       "    </tr>\n",
       "    <tr>\n",
       "      <th>2959</th>\n",
       "      <td>Fight Club (1999)</td>\n",
       "      <td>1999.0</td>\n",
       "      <td>4.272936</td>\n",
       "      <td>218.0</td>\n",
       "      <td>1</td>\n",
       "      <td>0</td>\n",
       "      <td>0</td>\n",
       "      <td>0</td>\n",
       "      <td>0</td>\n",
       "      <td>1</td>\n",
       "      <td>...</td>\n",
       "      <td>0</td>\n",
       "      <td>0</td>\n",
       "      <td>0</td>\n",
       "      <td>0</td>\n",
       "      <td>0</td>\n",
       "      <td>0</td>\n",
       "      <td>0</td>\n",
       "      <td>1</td>\n",
       "      <td>0</td>\n",
       "      <td>0</td>\n",
       "    </tr>\n",
       "    <tr>\n",
       "      <th>1276</th>\n",
       "      <td>Cool Hand Luke (1967)</td>\n",
       "      <td>1967.0</td>\n",
       "      <td>4.271930</td>\n",
       "      <td>57.0</td>\n",
       "      <td>0</td>\n",
       "      <td>0</td>\n",
       "      <td>0</td>\n",
       "      <td>0</td>\n",
       "      <td>0</td>\n",
       "      <td>0</td>\n",
       "      <td>...</td>\n",
       "      <td>0</td>\n",
       "      <td>0</td>\n",
       "      <td>0</td>\n",
       "      <td>0</td>\n",
       "      <td>0</td>\n",
       "      <td>0</td>\n",
       "      <td>0</td>\n",
       "      <td>0</td>\n",
       "      <td>0</td>\n",
       "      <td>0</td>\n",
       "    </tr>\n",
       "    <tr>\n",
       "      <th>750</th>\n",
       "      <td>Dr. Strangelove or: How I Learned to Stop Worr...</td>\n",
       "      <td>1964.0</td>\n",
       "      <td>4.268041</td>\n",
       "      <td>97.0</td>\n",
       "      <td>0</td>\n",
       "      <td>0</td>\n",
       "      <td>0</td>\n",
       "      <td>0</td>\n",
       "      <td>1</td>\n",
       "      <td>0</td>\n",
       "      <td>...</td>\n",
       "      <td>0</td>\n",
       "      <td>0</td>\n",
       "      <td>0</td>\n",
       "      <td>0</td>\n",
       "      <td>0</td>\n",
       "      <td>0</td>\n",
       "      <td>0</td>\n",
       "      <td>0</td>\n",
       "      <td>1</td>\n",
       "      <td>0</td>\n",
       "    </tr>\n",
       "  </tbody>\n",
       "</table>\n",
       "<p>5 rows × 23 columns</p>\n",
       "</div>"
      ],
      "text/plain": [
       "                                                    titulo  ano_de_lancamento  \\\n",
       "filmeId                                                                         \n",
       "318                       Shawshank Redemption, The (1994)             1994.0   \n",
       "858                                  Godfather, The (1972)             1972.0   \n",
       "2959                                     Fight Club (1999)             1999.0   \n",
       "1276                                 Cool Hand Luke (1967)             1967.0   \n",
       "750      Dr. Strangelove or: How I Learned to Stop Worr...             1964.0   \n",
       "\n",
       "         nota_media  total_de_votos  Action  Adventure  Animation  Children  \\\n",
       "filmeId                                                                       \n",
       "318        4.429022           317.0       0          0          0         0   \n",
       "858        4.289062           192.0       0          0          0         0   \n",
       "2959       4.272936           218.0       1          0          0         0   \n",
       "1276       4.271930            57.0       0          0          0         0   \n",
       "750        4.268041            97.0       0          0          0         0   \n",
       "\n",
       "         Comedy  Crime  ...  FilmNoir  Horror  IMAX  Musical  Mystery  \\\n",
       "filmeId                 ...                                             \n",
       "318           0      1  ...         0       0     0        0        0   \n",
       "858           0      1  ...         0       0     0        0        0   \n",
       "2959          0      1  ...         0       0     0        0        0   \n",
       "1276          0      0  ...         0       0     0        0        0   \n",
       "750           1      0  ...         0       0     0        0        0   \n",
       "\n",
       "         Romance  SciFi  Thriller  War  Western  \n",
       "filmeId                                          \n",
       "318            0      0         0    0        0  \n",
       "858            0      0         0    0        0  \n",
       "2959           0      0         1    0        0  \n",
       "1276           0      0         0    0        0  \n",
       "750            0      0         0    1        0  \n",
       "\n",
       "[5 rows x 23 columns]"
      ]
     },
     "execution_count": 465,
     "metadata": {},
     "output_type": "execute_result"
    }
   ],
   "source": [
    "# verificando se há diferença significativa entre a maior nota média e as 4 demais notas.\n",
    "cinco_maiores_medias = filmes.sort_values(by = 'nota_media',ascending = False).head(5)\n",
    "cinco_maiores_medias"
   ]
  },
  {
   "cell_type": "markdown",
   "metadata": {},
   "source": [
    "#### Visualizando com histograma"
   ]
  },
  {
   "cell_type": "code",
   "execution_count": 466,
   "metadata": {},
   "outputs": [],
   "source": [
    "sns.set_palette(\"Dark2\")\n",
    "sns.set_style('ticks')"
   ]
  },
  {
   "cell_type": "code",
   "execution_count": 467,
   "metadata": {},
   "outputs": [
    {
     "data": {
      "text/plain": [
       "Text(0.5, 1.0, 'Nota media por filmes (cinco maiores notas)')"
      ]
     },
     "execution_count": 467,
     "metadata": {},
     "output_type": "execute_result"
    },
    {
     "data": {
      "image/png": "[encoded data removed]",
      "text/plain": [
       "<Figure size 864x432 with 1 Axes>"
      ]
     },
     "metadata": {},
     "output_type": "display_data"
    }
   ],
   "source": [
    "cinco_maiores_medias_hist = sns.distplot(cinco_maiores_medias['nota_media'])\n",
    "cinco_maiores_medias_hist.figure.set_size_inches(12,6)\n",
    "cinco_maiores_medias_hist.set_xlabel('Nota media', fontsize = 14)\n",
    "cinco_maiores_medias_hist.set_ylabel('Filmes', fontsize = 14)\n",
    "cinco_maiores_medias_hist.set_title('Nota media por filmes (cinco maiores notas)',fontsize = 16)"
   ]
  },
  {
   "cell_type": "markdown",
   "metadata": {},
   "source": [
    "### Aparentemente existe uma diferença entre o filme com maior nota media e os filmes 4 filmes seguintes. Irei aplicar um teste estátistico para confirmar se há realmente diferença entre eles.\n",
    "### Minha teoria é que o filme The Shawshank Redemption, possui uma nota media maior do que os filmes seguintes, porem estes não possuem diferença significativa entre eles."
   ]
  },
  {
   "cell_type": "code",
   "execution_count": 468,
   "metadata": {},
   "outputs": [
    {
     "data": {
      "text/html": [
       "<div>\n",
       "<style scoped>\n",
       "    .dataframe tbody tr th:only-of-type {\n",
       "        vertical-align: middle;\n",
       "    }\n",
       "\n",
       "    .dataframe tbody tr th {\n",
       "        vertical-align: top;\n",
       "    }\n",
       "\n",
       "    .dataframe thead th {\n",
       "        text-align: right;\n",
       "    }\n",
       "</style>\n",
       "<table border=\"1\" class=\"dataframe\">\n",
       "  <thead>\n",
       "    <tr style=\"text-align: right;\">\n",
       "      <th></th>\n",
       "      <th>titulo</th>\n",
       "      <th>ano_de_lancamento</th>\n",
       "      <th>nota_media</th>\n",
       "      <th>total_de_votos</th>\n",
       "      <th>Action</th>\n",
       "      <th>Adventure</th>\n",
       "      <th>Animation</th>\n",
       "      <th>Children</th>\n",
       "      <th>Comedy</th>\n",
       "      <th>Crime</th>\n",
       "      <th>...</th>\n",
       "      <th>FilmNoir</th>\n",
       "      <th>Horror</th>\n",
       "      <th>IMAX</th>\n",
       "      <th>Musical</th>\n",
       "      <th>Mystery</th>\n",
       "      <th>Romance</th>\n",
       "      <th>SciFi</th>\n",
       "      <th>Thriller</th>\n",
       "      <th>War</th>\n",
       "      <th>Western</th>\n",
       "    </tr>\n",
       "    <tr>\n",
       "      <th>filmeId</th>\n",
       "      <th></th>\n",
       "      <th></th>\n",
       "      <th></th>\n",
       "      <th></th>\n",
       "      <th></th>\n",
       "      <th></th>\n",
       "      <th></th>\n",
       "      <th></th>\n",
       "      <th></th>\n",
       "      <th></th>\n",
       "      <th></th>\n",
       "      <th></th>\n",
       "      <th></th>\n",
       "      <th></th>\n",
       "      <th></th>\n",
       "      <th></th>\n",
       "      <th></th>\n",
       "      <th></th>\n",
       "      <th></th>\n",
       "      <th></th>\n",
       "      <th></th>\n",
       "    </tr>\n",
       "  </thead>\n",
       "  <tbody>\n",
       "    <tr>\n",
       "      <th>858</th>\n",
       "      <td>Godfather, The (1972)</td>\n",
       "      <td>1972.0</td>\n",
       "      <td>4.289062</td>\n",
       "      <td>192.0</td>\n",
       "      <td>0</td>\n",
       "      <td>0</td>\n",
       "      <td>0</td>\n",
       "      <td>0</td>\n",
       "      <td>0</td>\n",
       "      <td>1</td>\n",
       "      <td>...</td>\n",
       "      <td>0</td>\n",
       "      <td>0</td>\n",
       "      <td>0</td>\n",
       "      <td>0</td>\n",
       "      <td>0</td>\n",
       "      <td>0</td>\n",
       "      <td>0</td>\n",
       "      <td>0</td>\n",
       "      <td>0</td>\n",
       "      <td>0</td>\n",
       "    </tr>\n",
       "    <tr>\n",
       "      <th>2959</th>\n",
       "      <td>Fight Club (1999)</td>\n",
       "      <td>1999.0</td>\n",
       "      <td>4.272936</td>\n",
       "      <td>218.0</td>\n",
       "      <td>1</td>\n",
       "      <td>0</td>\n",
       "      <td>0</td>\n",
       "      <td>0</td>\n",
       "      <td>0</td>\n",
       "      <td>1</td>\n",
       "      <td>...</td>\n",
       "      <td>0</td>\n",
       "      <td>0</td>\n",
       "      <td>0</td>\n",
       "      <td>0</td>\n",
       "      <td>0</td>\n",
       "      <td>0</td>\n",
       "      <td>0</td>\n",
       "      <td>1</td>\n",
       "      <td>0</td>\n",
       "      <td>0</td>\n",
       "    </tr>\n",
       "    <tr>\n",
       "      <th>1276</th>\n",
       "      <td>Cool Hand Luke (1967)</td>\n",
       "      <td>1967.0</td>\n",
       "      <td>4.271930</td>\n",
       "      <td>57.0</td>\n",
       "      <td>0</td>\n",
       "      <td>0</td>\n",
       "      <td>0</td>\n",
       "      <td>0</td>\n",
       "      <td>0</td>\n",
       "      <td>0</td>\n",
       "      <td>...</td>\n",
       "      <td>0</td>\n",
       "      <td>0</td>\n",
       "      <td>0</td>\n",
       "      <td>0</td>\n",
       "      <td>0</td>\n",
       "      <td>0</td>\n",
       "      <td>0</td>\n",
       "      <td>0</td>\n",
       "      <td>0</td>\n",
       "      <td>0</td>\n",
       "    </tr>\n",
       "    <tr>\n",
       "      <th>750</th>\n",
       "      <td>Dr. Strangelove or: How I Learned to Stop Worr...</td>\n",
       "      <td>1964.0</td>\n",
       "      <td>4.268041</td>\n",
       "      <td>97.0</td>\n",
       "      <td>0</td>\n",
       "      <td>0</td>\n",
       "      <td>0</td>\n",
       "      <td>0</td>\n",
       "      <td>1</td>\n",
       "      <td>0</td>\n",
       "      <td>...</td>\n",
       "      <td>0</td>\n",
       "      <td>0</td>\n",
       "      <td>0</td>\n",
       "      <td>0</td>\n",
       "      <td>0</td>\n",
       "      <td>0</td>\n",
       "      <td>0</td>\n",
       "      <td>0</td>\n",
       "      <td>1</td>\n",
       "      <td>0</td>\n",
       "    </tr>\n",
       "  </tbody>\n",
       "</table>\n",
       "<p>4 rows × 23 columns</p>\n",
       "</div>"
      ],
      "text/plain": [
       "                                                    titulo  ano_de_lancamento  \\\n",
       "filmeId                                                                         \n",
       "858                                  Godfather, The (1972)             1972.0   \n",
       "2959                                     Fight Club (1999)             1999.0   \n",
       "1276                                 Cool Hand Luke (1967)             1967.0   \n",
       "750      Dr. Strangelove or: How I Learned to Stop Worr...             1964.0   \n",
       "\n",
       "         nota_media  total_de_votos  Action  Adventure  Animation  Children  \\\n",
       "filmeId                                                                       \n",
       "858        4.289062           192.0       0          0          0         0   \n",
       "2959       4.272936           218.0       1          0          0         0   \n",
       "1276       4.271930            57.0       0          0          0         0   \n",
       "750        4.268041            97.0       0          0          0         0   \n",
       "\n",
       "         Comedy  Crime  ...  FilmNoir  Horror  IMAX  Musical  Mystery  \\\n",
       "filmeId                 ...                                             \n",
       "858           0      1  ...         0       0     0        0        0   \n",
       "2959          0      1  ...         0       0     0        0        0   \n",
       "1276          0      0  ...         0       0     0        0        0   \n",
       "750           1      0  ...         0       0     0        0        0   \n",
       "\n",
       "         Romance  SciFi  Thriller  War  Western  \n",
       "filmeId                                          \n",
       "858            0      0         0    0        0  \n",
       "2959           0      0         1    0        0  \n",
       "1276           0      0         0    0        0  \n",
       "750            0      0         0    1        0  \n",
       "\n",
       "[4 rows x 23 columns]"
      ]
     },
     "execution_count": 468,
     "metadata": {},
     "output_type": "execute_result"
    }
   ],
   "source": [
    "# Nota média do segundo ao quinto filmes com maiores notas\n",
    "filmes_comparacao = filmes.query('filmeId in [858,2959,1276,750]')\n",
    "filmes_comparacao.sort_values(by = 'nota_media', ascending = False)"
   ]
  },
  {
   "cell_type": "markdown",
   "metadata": {},
   "source": [
    "#### Atribuindo valores para 5 maiores filmes"
   ]
  },
  {
   "cell_type": "code",
   "execution_count": 469,
   "metadata": {},
   "outputs": [
    {
     "data": {
      "text/plain": [
       "4.429022082018927"
      ]
     },
     "execution_count": 469,
     "metadata": {},
     "output_type": "execute_result"
    }
   ],
   "source": [
    "notas318 = notas.query('filmeId == 318')\n",
    "notas318.nota.mean()"
   ]
  },
  {
   "cell_type": "code",
   "execution_count": 470,
   "metadata": {},
   "outputs": [
    {
     "data": {
      "text/plain": [
       "4.2890625"
      ]
     },
     "execution_count": 470,
     "metadata": {},
     "output_type": "execute_result"
    }
   ],
   "source": [
    "notas858 = notas.query('filmeId == 858')\n",
    "notas858.nota.mean()"
   ]
  },
  {
   "cell_type": "code",
   "execution_count": 471,
   "metadata": {},
   "outputs": [
    {
     "data": {
      "text/plain": [
       "4.272935779816514"
      ]
     },
     "execution_count": 471,
     "metadata": {},
     "output_type": "execute_result"
    }
   ],
   "source": [
    "notas2959 = notas.query('filmeId == 2959')\n",
    "notas2959.nota.mean()"
   ]
  },
  {
   "cell_type": "code",
   "execution_count": 472,
   "metadata": {},
   "outputs": [
    {
     "data": {
      "text/plain": [
       "4.271929824561403"
      ]
     },
     "execution_count": 472,
     "metadata": {},
     "output_type": "execute_result"
    }
   ],
   "source": [
    "notas1276 = notas.query('filmeId == 1276')\n",
    "notas1276.nota.mean()"
   ]
  },
  {
   "cell_type": "code",
   "execution_count": 473,
   "metadata": {},
   "outputs": [
    {
     "data": {
      "text/plain": [
       "4.268041237113402"
      ]
     },
     "execution_count": 473,
     "metadata": {},
     "output_type": "execute_result"
    }
   ],
   "source": [
    "notas750 = notas.query('filmeId == 750')\n",
    "notas750.nota.mean()"
   ]
  },
  {
   "cell_type": "markdown",
   "metadata": {},
   "source": [
    "### A hipotese nula me diz que não existe diferença entre a média dos dois filmes, considerando p value = 0.05"
   ]
  },
  {
   "cell_type": "code",
   "execution_count": 474,
   "metadata": {},
   "outputs": [
    {
     "name": "stdout",
     "output_type": "stream",
     "text": [
      "O valor do tstatic é 1.9359504727033352\n",
      "O valor de p é 0.05342929201672729\n"
     ]
    }
   ],
   "source": [
    "# aplicando teste comparativo entre primeiro e segundo filmes com maior nota media\n",
    "statstic, pvalue = ttest_ind(notas318.nota, notas858.nota)\n",
    "print(\"O valor do tstatic é \" + str(statstic))\n",
    "print(\"O valor de p é \" + str(pvalue))"
   ]
  },
  {
   "cell_type": "code",
   "execution_count": 475,
   "metadata": {},
   "outputs": [
    {
     "name": "stdout",
     "output_type": "stream",
     "text": [
      "Com 95% de confiança, não existe diferença entre a média dos filmes comparados\n"
     ]
    }
   ],
   "source": [
    "# conclusão da minha primeira hipótese\n",
    "if pvalue > 0.05:\n",
    "    print(\"Com 95% de confiança, não existe diferença entre a média dos filmes comparados\")\n",
    "else:\n",
    "    print(\"Com 95% de confiança, existe diferença entre a média dos filmes comparados\")"
   ]
  },
  {
   "cell_type": "code",
   "execution_count": 476,
   "metadata": {},
   "outputs": [
    {
     "name": "stdout",
     "output_type": "stream",
     "text": [
      "O valor do tstatic é 0.18479260890136148\n",
      "O valor de p é 0.8534835248573589\n"
     ]
    }
   ],
   "source": [
    "# aplicando teste comparativo entre segundo e teceiro filmes com maior nota media\n",
    "statstic, pvalue = ttest_ind(notas858.nota, notas2959.nota)\n",
    "print(\"O valor do tstatic é \" + str(statstic))\n",
    "print(\"O valor de p é \" + str(pvalue))"
   ]
  },
  {
   "cell_type": "code",
   "execution_count": 477,
   "metadata": {},
   "outputs": [
    {
     "name": "stdout",
     "output_type": "stream",
     "text": [
      "Com 95% de confiança, não existe diferença entre a média dos filmes comparados\n"
     ]
    }
   ],
   "source": [
    "if pvalue > 0.05:\n",
    "    print(\"Com 95% de confiança, não existe diferença entre a média dos filmes comparados\")\n",
    "else:\n",
    "    print(\"Com 95% de confiança, existe diferença entre a média dos filmes comparados\")"
   ]
  },
  {
   "cell_type": "code",
   "execution_count": 478,
   "metadata": {},
   "outputs": [
    {
     "name": "stdout",
     "output_type": "stream",
     "text": [
      "O valor do tstatic é 0.00826939729559238\n",
      "O valor de p é 0.9934080903427058\n"
     ]
    }
   ],
   "source": [
    "# aplicando teste comparativo entre terceiro e quarto filmes com maior nota media\n",
    "statstic, pvalue = ttest_ind(notas2959.nota, notas1276.nota)\n",
    "print(\"O valor do tstatic é \" + str(statstic))\n",
    "print(\"O valor de p é \" + str(pvalue))"
   ]
  },
  {
   "cell_type": "code",
   "execution_count": 479,
   "metadata": {},
   "outputs": [
    {
     "name": "stdout",
     "output_type": "stream",
     "text": [
      "Com 95% de confiança, não existe diferença entre a média dos filmes comparados\n"
     ]
    }
   ],
   "source": [
    "if pvalue > 0.05:\n",
    "    print(\"Com 95% de confiança, não existe diferença entre a média dos filmes comparados\")\n",
    "else:\n",
    "    print(\"Com 95% de confiança, existe diferença entre a média dos filmes comparados\")"
   ]
  },
  {
   "cell_type": "markdown",
   "metadata": {},
   "source": [
    "### É possível observar que comparando os filmes com diferença de valores médios aparentemente menores, o Pvalue apresenta um valor mais próximo a 100%.\n",
    "### Podemos afirmar que não existe diferença estátistica significativa entre os 5 primeiros filmes com maior nota média."
   ]
  },
  {
   "cell_type": "code",
   "execution_count": null,
   "metadata": {},
   "outputs": [],
   "source": []
  }
 ],
 "metadata": {
  "kernelspec": {
   "display_name": "Python 3",
   "language": "python",
   "name": "python3"
  },
  "language_info": {
   "codemirror_mode": {
    "name": "ipython",
    "version": 3
   },
   "file_extension": ".py",
   "mimetype": "text/x-python",
   "name": "python",
   "nbconvert_exporter": "python",
   "pygments_lexer": "ipython3",
   "version": "3.7.4"
  }
 },
 "nbformat": 4,
 "nbformat_minor": 2
}
